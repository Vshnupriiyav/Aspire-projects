{
 "cells": [
  {
   "cell_type": "code",
   "execution_count": 1,
   "metadata": {},
   "outputs": [],
   "source": [
    "import json\n",
    "import numpy as np\n",
    "import pandas as pd"
   ]
  },
  {
   "cell_type": "code",
   "execution_count": 2,
   "metadata": {},
   "outputs": [],
   "source": [
    "import sys\n",
    "sys.path.append(r'C:/Users/vshnu/OneDrive/Desktop/Vishnuperson/RE/aspire_')\n",
    "from connector import data_fetch_v2"
   ]
  },
  {
   "cell_type": "code",
   "execution_count": null,
   "metadata": {},
   "outputs": [],
   "source": [
    "billing_data = f\"\"\"\n",
    "select billing_cycle, user_id, payment_min\n",
    "from billing_info \"\"\"\n",
    "flag,billing_data_df, error_msg = data_fetch_v2(billing_data, host=\"13.126.97.63\")"
   ]
  },
  {
   "cell_type": "code",
   "execution_count": null,
   "metadata": {},
   "outputs": [],
   "source": [
    "prod = f\"\"\"\n",
    "select user_id, prod_group from sanction \"\"\"\n",
    "flag,prod_df, error_msg = data_fetch_v2(prod, host=\"13.126.97.63\")"
   ]
  },
  {
   "cell_type": "code",
   "execution_count": 13,
   "metadata": {},
   "outputs": [],
   "source": [
    "billing_data_df1 = billing_data_df.merge(prod_df, on = 'user_id', how='left')"
   ]
  },
  {
   "cell_type": "code",
   "execution_count": 14,
   "metadata": {},
   "outputs": [
    {
     "data": {
      "text/html": [
       "<div>\n",
       "<style scoped>\n",
       "    .dataframe tbody tr th:only-of-type {\n",
       "        vertical-align: middle;\n",
       "    }\n",
       "\n",
       "    .dataframe tbody tr th {\n",
       "        vertical-align: top;\n",
       "    }\n",
       "\n",
       "    .dataframe thead th {\n",
       "        text-align: right;\n",
       "    }\n",
       "</style>\n",
       "<table border=\"1\" class=\"dataframe\">\n",
       "  <thead>\n",
       "    <tr style=\"text-align: right;\">\n",
       "      <th></th>\n",
       "      <th>billing_cycle</th>\n",
       "      <th>user_id</th>\n",
       "      <th>payment_min</th>\n",
       "      <th>prod_group</th>\n",
       "    </tr>\n",
       "  </thead>\n",
       "  <tbody>\n",
       "    <tr>\n",
       "      <th>0</th>\n",
       "      <td>202104</td>\n",
       "      <td>41c99020-32a6-4911-afd3-313f08de9e03</td>\n",
       "      <td>1609.40</td>\n",
       "      <td>4M</td>\n",
       "    </tr>\n",
       "    <tr>\n",
       "      <th>1</th>\n",
       "      <td>202104</td>\n",
       "      <td>1f2b7fe3-77e6-43e3-96aa-7cf85f7f838e</td>\n",
       "      <td>9469.20</td>\n",
       "      <td>4M</td>\n",
       "    </tr>\n",
       "    <tr>\n",
       "      <th>2</th>\n",
       "      <td>202104</td>\n",
       "      <td>d0c030ac-8e0a-42d0-8d8e-9fd22f95b5ae</td>\n",
       "      <td>7544.40</td>\n",
       "      <td>4M</td>\n",
       "    </tr>\n",
       "    <tr>\n",
       "      <th>3</th>\n",
       "      <td>202104</td>\n",
       "      <td>fc471518-2940-41f2-9efb-470ed0d3a90c</td>\n",
       "      <td>7246.45</td>\n",
       "      <td>4M</td>\n",
       "    </tr>\n",
       "  </tbody>\n",
       "</table>\n",
       "</div>"
      ],
      "text/plain": [
       "  billing_cycle                               user_id  payment_min prod_group\n",
       "0        202104  41c99020-32a6-4911-afd3-313f08de9e03      1609.40         4M\n",
       "1        202104  1f2b7fe3-77e6-43e3-96aa-7cf85f7f838e      9469.20         4M\n",
       "2        202104  d0c030ac-8e0a-42d0-8d8e-9fd22f95b5ae      7544.40         4M\n",
       "3        202104  fc471518-2940-41f2-9efb-470ed0d3a90c      7246.45         4M"
      ]
     },
     "execution_count": 14,
     "metadata": {},
     "output_type": "execute_result"
    }
   ],
   "source": [
    "billing_data_df1.head(4)"
   ]
  },
  {
   "cell_type": "markdown",
   "metadata": {},
   "source": [
    "Payments"
   ]
  },
  {
   "cell_type": "code",
   "execution_count": null,
   "metadata": {},
   "outputs": [],
   "source": [
    "pay_now = f\"\"\"\n",
    "select user_id, created_time, amount from pay_now_summary where status = 'success' \"\"\"\n",
    "flag,pay_now_df, error_msg = data_fetch_v2(pay_now, host=\"13.126.97.63\")"
   ]
  },
  {
   "cell_type": "code",
   "execution_count": null,
   "metadata": {},
   "outputs": [],
   "source": [
    "repay_details = f\"\"\"\n",
    "select user_id, payment_time, amount from repayment_details where \n",
    "event in ('easebuzz_pay_back_link','nach_pull') \"\"\"\n",
    "flag,repay_details_df, error_msg = data_fetch_v2(repay_details, host=\"13.126.97.63\")"
   ]
  },
  {
   "cell_type": "code",
   "execution_count": null,
   "metadata": {},
   "outputs": [],
   "source": [
    "print(pay_now_df.head(5))\n",
    "print(repay_details_df.head(5))"
   ]
  },
  {
   "cell_type": "code",
   "execution_count": null,
   "metadata": {},
   "outputs": [],
   "source": [
    "pay_now_df['payment_cycle'] = pay_now_df['created_time'].dt.strftime('%Y%m')\n",
    "repay_details_df['payment_cycle'] = repay_details_df['payment_time'].dt.strftime('%Y%m')"
   ]
  },
  {
   "cell_type": "code",
   "execution_count": 27,
   "metadata": {},
   "outputs": [],
   "source": [
    "pay_now_df = pay_now_df.drop(columns = ['created_time'])\n",
    "repay_details_df = repay_details_df.drop(columns = ['payment_time'])"
   ]
  },
  {
   "cell_type": "code",
   "execution_count": 30,
   "metadata": {},
   "outputs": [],
   "source": [
    "payments_df = pd.concat([pay_now_df,repay_details_df])"
   ]
  },
  {
   "cell_type": "code",
   "execution_count": 32,
   "metadata": {},
   "outputs": [
    {
     "data": {
      "text/html": [
       "<div>\n",
       "<style scoped>\n",
       "    .dataframe tbody tr th:only-of-type {\n",
       "        vertical-align: middle;\n",
       "    }\n",
       "\n",
       "    .dataframe tbody tr th {\n",
       "        vertical-align: top;\n",
       "    }\n",
       "\n",
       "    .dataframe thead th {\n",
       "        text-align: right;\n",
       "    }\n",
       "</style>\n",
       "<table border=\"1\" class=\"dataframe\">\n",
       "  <thead>\n",
       "    <tr style=\"text-align: right;\">\n",
       "      <th></th>\n",
       "      <th>user_id</th>\n",
       "      <th>amount</th>\n",
       "      <th>payment_cycle</th>\n",
       "    </tr>\n",
       "  </thead>\n",
       "  <tbody>\n",
       "    <tr>\n",
       "      <th>0</th>\n",
       "      <td>bb7dfe91-6fe0-4159-bd5c-d83b3544b388</td>\n",
       "      <td>150.0</td>\n",
       "      <td>202101</td>\n",
       "    </tr>\n",
       "    <tr>\n",
       "      <th>1</th>\n",
       "      <td>41c99020-32a6-4911-afd3-313f08de9e03</td>\n",
       "      <td>100.0</td>\n",
       "      <td>202101</td>\n",
       "    </tr>\n",
       "    <tr>\n",
       "      <th>2</th>\n",
       "      <td>41c99020-32a6-4911-afd3-313f08de9e03</td>\n",
       "      <td>96.0</td>\n",
       "      <td>202101</td>\n",
       "    </tr>\n",
       "    <tr>\n",
       "      <th>3</th>\n",
       "      <td>bb7dfe91-6fe0-4159-bd5c-d83b3544b388</td>\n",
       "      <td>100.0</td>\n",
       "      <td>202102</td>\n",
       "    </tr>\n",
       "    <tr>\n",
       "      <th>4</th>\n",
       "      <td>a54f4f44-9860-44df-94cb-91ac7798f1ed</td>\n",
       "      <td>149.0</td>\n",
       "      <td>202102</td>\n",
       "    </tr>\n",
       "  </tbody>\n",
       "</table>\n",
       "</div>"
      ],
      "text/plain": [
       "                                user_id  amount payment_cycle\n",
       "0  bb7dfe91-6fe0-4159-bd5c-d83b3544b388   150.0        202101\n",
       "1  41c99020-32a6-4911-afd3-313f08de9e03   100.0        202101\n",
       "2  41c99020-32a6-4911-afd3-313f08de9e03    96.0        202101\n",
       "3  bb7dfe91-6fe0-4159-bd5c-d83b3544b388   100.0        202102\n",
       "4  a54f4f44-9860-44df-94cb-91ac7798f1ed   149.0        202102"
      ]
     },
     "execution_count": 32,
     "metadata": {},
     "output_type": "execute_result"
    }
   ],
   "source": [
    "payments_df.head(5)"
   ]
  },
  {
   "cell_type": "code",
   "execution_count": 37,
   "metadata": {},
   "outputs": [],
   "source": [
    "payments_df_ = payments_df.groupby(['user_id', 'payment_cycle'])['amount'].sum().reset_index()\n"
   ]
  },
  {
   "cell_type": "code",
   "execution_count": 38,
   "metadata": {},
   "outputs": [
    {
     "data": {
      "text/plain": [
       "pandas.core.frame.DataFrame"
      ]
     },
     "execution_count": 38,
     "metadata": {},
     "output_type": "execute_result"
    }
   ],
   "source": [
    "type(payments_df_)"
   ]
  },
  {
   "cell_type": "code",
   "execution_count": 39,
   "metadata": {},
   "outputs": [],
   "source": [
    "bounce = billing_data_df1.merge(payments_df_, left_on = ('user_id','billing_cycle'), right_on = ('user_id','payment_cycle'), how = 'left' )"
   ]
  },
  {
   "cell_type": "code",
   "execution_count": 44,
   "metadata": {},
   "outputs": [
    {
     "data": {
      "text/html": [
       "<div>\n",
       "<style scoped>\n",
       "    .dataframe tbody tr th:only-of-type {\n",
       "        vertical-align: middle;\n",
       "    }\n",
       "\n",
       "    .dataframe tbody tr th {\n",
       "        vertical-align: top;\n",
       "    }\n",
       "\n",
       "    .dataframe thead th {\n",
       "        text-align: right;\n",
       "    }\n",
       "</style>\n",
       "<table border=\"1\" class=\"dataframe\">\n",
       "  <thead>\n",
       "    <tr style=\"text-align: right;\">\n",
       "      <th></th>\n",
       "      <th>billing_cycle</th>\n",
       "      <th>user_id</th>\n",
       "      <th>payment_min</th>\n",
       "      <th>prod_group</th>\n",
       "      <th>payment_cycle</th>\n",
       "      <th>amount</th>\n",
       "      <th>fl_bounce</th>\n",
       "    </tr>\n",
       "  </thead>\n",
       "  <tbody>\n",
       "    <tr>\n",
       "      <th>0</th>\n",
       "      <td>202104</td>\n",
       "      <td>41c99020-32a6-4911-afd3-313f08de9e03</td>\n",
       "      <td>1609.40</td>\n",
       "      <td>4M</td>\n",
       "      <td>202104</td>\n",
       "      <td>1762.15</td>\n",
       "      <td>0</td>\n",
       "    </tr>\n",
       "    <tr>\n",
       "      <th>1</th>\n",
       "      <td>202104</td>\n",
       "      <td>1f2b7fe3-77e6-43e3-96aa-7cf85f7f838e</td>\n",
       "      <td>9469.20</td>\n",
       "      <td>4M</td>\n",
       "      <td>NaN</td>\n",
       "      <td>NaN</td>\n",
       "      <td>1</td>\n",
       "    </tr>\n",
       "    <tr>\n",
       "      <th>2</th>\n",
       "      <td>202104</td>\n",
       "      <td>d0c030ac-8e0a-42d0-8d8e-9fd22f95b5ae</td>\n",
       "      <td>7544.40</td>\n",
       "      <td>4M</td>\n",
       "      <td>NaN</td>\n",
       "      <td>NaN</td>\n",
       "      <td>1</td>\n",
       "    </tr>\n",
       "    <tr>\n",
       "      <th>3</th>\n",
       "      <td>202104</td>\n",
       "      <td>fc471518-2940-41f2-9efb-470ed0d3a90c</td>\n",
       "      <td>7246.45</td>\n",
       "      <td>4M</td>\n",
       "      <td>NaN</td>\n",
       "      <td>NaN</td>\n",
       "      <td>1</td>\n",
       "    </tr>\n",
       "    <tr>\n",
       "      <th>4</th>\n",
       "      <td>202104</td>\n",
       "      <td>bb7dfe91-6fe0-4159-bd5c-d83b3544b388</td>\n",
       "      <td>4879.00</td>\n",
       "      <td>4M</td>\n",
       "      <td>202104</td>\n",
       "      <td>6151.25</td>\n",
       "      <td>0</td>\n",
       "    </tr>\n",
       "  </tbody>\n",
       "</table>\n",
       "</div>"
      ],
      "text/plain": [
       "  billing_cycle                               user_id  payment_min prod_group  \\\n",
       "0        202104  41c99020-32a6-4911-afd3-313f08de9e03      1609.40         4M   \n",
       "1        202104  1f2b7fe3-77e6-43e3-96aa-7cf85f7f838e      9469.20         4M   \n",
       "2        202104  d0c030ac-8e0a-42d0-8d8e-9fd22f95b5ae      7544.40         4M   \n",
       "3        202104  fc471518-2940-41f2-9efb-470ed0d3a90c      7246.45         4M   \n",
       "4        202104  bb7dfe91-6fe0-4159-bd5c-d83b3544b388      4879.00         4M   \n",
       "\n",
       "  payment_cycle   amount  fl_bounce  \n",
       "0        202104  1762.15          0  \n",
       "1           NaN      NaN          1  \n",
       "2           NaN      NaN          1  \n",
       "3           NaN      NaN          1  \n",
       "4        202104  6151.25          0  "
      ]
     },
     "execution_count": 44,
     "metadata": {},
     "output_type": "execute_result"
    }
   ],
   "source": [
    "bounce.head(5)"
   ]
  },
  {
   "cell_type": "code",
   "execution_count": 43,
   "metadata": {},
   "outputs": [],
   "source": [
    "bounce[\"fl_bounce\"] = np.where((bounce[\"payment_min\"] == 0) | (bounce[\"payment_min\"] < bounce[\"amount\"] + 10),0,1)"
   ]
  },
  {
   "cell_type": "code",
   "execution_count": null,
   "metadata": {},
   "outputs": [],
   "source": [
    "pivot = bounce.groupby(['billing_cycle','fl_bounce'])['user_id'].count().unstack(fill_value=0)\n"
   ]
  },
  {
   "cell_type": "code",
   "execution_count": null,
   "metadata": {},
   "outputs": [],
   "source": [
    "pivot.head(2)"
   ]
  },
  {
   "cell_type": "code",
   "execution_count": 58,
   "metadata": {},
   "outputs": [],
   "source": [
    "pivot[\"total\"] = pivot[0]+pivot[1]"
   ]
  },
  {
   "cell_type": "code",
   "execution_count": 61,
   "metadata": {},
   "outputs": [],
   "source": [
    "pivot[\"bounce_percent\"] = round((pivot[0]/pivot[\"total\"])*100,2)"
   ]
  },
  {
   "cell_type": "code",
   "execution_count": 63,
   "metadata": {},
   "outputs": [],
   "source": [
    "pivot[\"bounce_percent\"] = pivot[\"bounce_percent\"].apply(lambda x: f\"{x}%\")"
   ]
  },
  {
   "cell_type": "code",
   "execution_count": null,
   "metadata": {},
   "outputs": [],
   "source": [
    "pivot['bounce_percent'] = round((pivot['fl_bounce'].eq(1).sum() / pivot['fl_bounce'].count()) * 100, 2)\n"
   ]
  },
  {
   "cell_type": "code",
   "execution_count": 53,
   "metadata": {},
   "outputs": [],
   "source": [
    "# Calculate bounce percentage within each billing_cycle\n",
    "pivot['bounce_percent'] = pivot.groupby('billing_cycle')['fl_bounce'].transform(lambda x: round((x.eq(1).sum() / len(x)) * 100, 2))\n"
   ]
  }
 ],
 "metadata": {
  "kernelspec": {
   "display_name": "Python 3",
   "language": "python",
   "name": "python3"
  },
  "language_info": {
   "codemirror_mode": {
    "name": "ipython",
    "version": 3
   },
   "file_extension": ".py",
   "mimetype": "text/x-python",
   "name": "python",
   "nbconvert_exporter": "python",
   "pygments_lexer": "ipython3",
   "version": "3.13.0"
  }
 },
 "nbformat": 4,
 "nbformat_minor": 2
}
