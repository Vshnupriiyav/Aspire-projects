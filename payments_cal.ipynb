{
 "cells": [
  {
   "cell_type": "code",
   "execution_count": 1,
   "metadata": {},
   "outputs": [],
   "source": [
    "import pandas as pd\n",
    "import numpy as np \n",
    "import sqlalchemy"
   ]
  },
  {
   "cell_type": "code",
   "execution_count": 3,
   "metadata": {},
   "outputs": [
    {
     "name": "stdout",
     "output_type": "stream",
     "text": [
      "                                    user_id prod_group\n",
      "0      5828b717-bbd1-46fd-b579-4bc21cd2a0d8         4M\n",
      "1      41c99020-32a6-4911-afd3-313f08de9e03         4M\n",
      "2      a832e010-c86c-434c-8f3f-9c3d8c843617         4M\n",
      "3      1f2b7fe3-77e6-43e3-96aa-7cf85f7f838e         4M\n",
      "4      aa2b5e49-e2ec-4aa4-a4a8-6d69d7bce840         4M\n",
      "...                                     ...        ...\n",
      "22995  19d5ead6-cb48-4fba-a40c-410eab0ac31b   NINJA_1M\n",
      "22996  64e9b8b2-f30c-4076-9d92-92e0d84376a1  FLPKRT_1M\n",
      "22997  420d4baf-466f-4337-8bd1-e7d404631e71   NINJA_1M\n",
      "22998  a772d500-cf63-401e-9dd1-c43a2afb5370   NINJA_1M\n",
      "22999  3b318962-75fb-4849-ac2c-7b79292501a9   NINJA_1M\n",
      "\n",
      "[23000 rows x 2 columns]\n",
      "                                    user_id prod_group\n",
      "0      5828b717-bbd1-46fd-b579-4bc21cd2a0d8         4M\n",
      "1      41c99020-32a6-4911-afd3-313f08de9e03         4M\n",
      "2      a832e010-c86c-434c-8f3f-9c3d8c843617         4M\n",
      "3      1f2b7fe3-77e6-43e3-96aa-7cf85f7f838e         4M\n",
      "4      aa2b5e49-e2ec-4aa4-a4a8-6d69d7bce840         4M\n",
      "...                                     ...        ...\n",
      "22995  19d5ead6-cb48-4fba-a40c-410eab0ac31b   NINJA_1M\n",
      "22996  64e9b8b2-f30c-4076-9d92-92e0d84376a1  FLPKRT_1M\n",
      "22997  420d4baf-466f-4337-8bd1-e7d404631e71   NINJA_1M\n",
      "22998  a772d500-cf63-401e-9dd1-c43a2afb5370   NINJA_1M\n",
      "22999  3b318962-75fb-4849-ac2c-7b79292501a9   NINJA_1M\n",
      "\n",
      "[23000 rows x 2 columns]\n"
     ]
    }
   ],
   "source": [
    "old_book_users = \"\"\"\n",
    "select user_id, prod_group from sanction where prod_group in \n",
    "('4M','4M_0FEES','APNA','APNA_4M','APNA_5M','BIDSO_1M','BZTM_1M','FLPKRT_1M','NINJA_1M')\n",
    "\"\"\"\n",
    "f1, old_book_users_t, error_reason = data_fetch_v2(old_book_users,  host=\"13.126.97.63\")"
   ]
  },
  {
   "cell_type": "code",
   "execution_count": null,
   "metadata": {},
   "outputs": [],
   "source": [
    "statement_history = f\"\"\"\n",
    "select created_at, billing_cycle, amount, charge_type\n",
    " from statement_history where payment_status = 'Paid'  and charge_type in \n",
    " ('bMonthly','cLatefee') and user_id in {tuple(old_book_users_t.user_id)}\n",
    "\"\"\"\n",
    "f1, statement_history_t, error_reason = data_fetch_v2(statement_history, host=\"13.126.97.63\")"
   ]
  },
  {
   "cell_type": "code",
   "execution_count": 43,
   "metadata": {},
   "outputs": [],
   "source": [
    "cycle = [\n",
    "'202411',\n",
    "'202409','202408','202407','202406','202405','202404','202403','202402','202401','202312','202311','202310','202309','202308',\n",
    "'202307','202306','202305','202304','202303','202302','202301','202212','202211','202210','202209','202208','202207','202206',\n",
    "'202205','202204','202203','202202','202201','202112','202111''202110','202109','202108','202107','202106','202105','202104',\n",
    "'202103','202102','202101','202012','202011',\n",
    "]"
   ]
  },
  {
   "cell_type": "code",
   "execution_count": 39,
   "metadata": {},
   "outputs": [],
   "source": [
    "paid = statement_history_t.groupby('charge_type')['amount'].sum()\n"
   ]
  },
  {
   "cell_type": "code",
   "execution_count": null,
   "metadata": {},
   "outputs": [],
   "source": [
    "def statement_h_fun(users_not_there,cycle):\n",
    "    fee_paid  = f\"\"\"\n",
    "    SELECT s.user_id,\n",
    "    (case when MONTH(s.due_date)<10 then concat(YEAR(s.due_date),\"0\", MONTH(s.due_date)) ELSE concat(YEAR(s.due_date),MONTH(s.due_date))  END) AS billing_cycle,\n",
    "    \n",
    "    SUM((case when s.payment_status = \"Paid\" AND s.charge_type = \"bMonthly\"  then s.amount/1.18 ELSE 0 END)) AS monthly_fee_paid,\n",
    "    SUM((case when s.payment_status = \"Paid\" AND s.charge_type = \"cLatefee\"  then s.amount/1.18 ELSE 0 END)) AS late_fee_paid\n",
    "    FROM statement_history AS s\n",
    "    WHERE s.charge_type <> 'aTranch' and user_id in {tuple(users_not_there.user_id)}\n",
    "    and billing_cycle = {cycle}\n",
    "    GROUP BY 1,2\n",
    "    \"\"\"\n",
    "    parse_date = {}\n",
    "    # otp_varified_user=pd.read_sql(otp_varified, db_connection)\n",
    "    flag,fee_paid_data1, error_msg = utility.data_fetch_v2(fee_paid)\n",
    "    # fee_paid_data.head()\n",
    "    return fee_paid_data1"
   ]
  },
  {
   "cell_type": "code",
   "execution_count": null,
   "metadata": {},
   "outputs": [],
   "source": [
    "fee_paid_data = pd.DataFrame({'user_id' : []})"
   ]
  },
  {
   "cell_type": "code",
   "execution_count": null,
   "metadata": {},
   "outputs": [],
   "source": [
    "\n",
    "for i in range(len(billing_cycle_list)): \n",
    "    users_not_there = users_4m[~(users_4m['user_id'].isin(fee_paid_data.user_id))]\n",
    "    print(len(users_not_there))\n",
    "    fee_paid_chunk = statement_h_fun(users_not_there,billing_cycle_list[i])\n",
    "    fee_paid_data = fee_paid_data.append(fee_paid_chunk)"
   ]
  }
 ],
 "metadata": {
  "kernelspec": {
   "display_name": "Python 3",
   "language": "python",
   "name": "python3"
  },
  "language_info": {
   "codemirror_mode": {
    "name": "ipython",
    "version": 3
   },
   "file_extension": ".py",
   "mimetype": "text/x-python",
   "name": "python",
   "nbconvert_exporter": "python",
   "pygments_lexer": "ipython3",
   "version": "3.13.0"
  }
 },
 "nbformat": 4,
 "nbformat_minor": 2
}
