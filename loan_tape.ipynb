{
 "cells": [
  {
   "cell_type": "markdown",
   "metadata": {},
   "source": [
    "1. Loan tape - fields:user_id\tsanction_id\tsanction_date\tproduct_type\tProduct\tdpd_as_of_Jan_1_2025\tfl_core_policy_user\tprincipal_outstanding\ttransaction_id\ttransaction_date\tdisbursed_amount\n",
    "\n",
    "2. prod_group\tfl_core_policy_user\tdpd_bucket\tPOS\n",
    "\n",
    "3. Core, experiment,\tTerm Loan\tB2B BNPL\tUpskilling\tGrand Total - dsibursal, DPD bucket."
   ]
  },
  {
   "cell_type": "code",
   "execution_count": 54,
   "metadata": {},
   "outputs": [],
   "source": [
    "import json\n",
    "import numpy as np\n",
    "import pandas as pd"
   ]
  },
  {
   "cell_type": "code",
   "execution_count": 1,
   "metadata": {},
   "outputs": [],
   "source": [
    "import sys\n",
    "sys.path.append(r'C:/Users/vshnu/OneDrive/Desktop/Vishnuperson/RE/aspire_')\n",
    "from connector import data_fetch_v2"
   ]
  },
  {
   "cell_type": "code",
   "execution_count": null,
   "metadata": {},
   "outputs": [],
   "source": [
    "#sanction data\n",
    "\n",
    "billing_1 = f\"\"\"\n",
    "select user_id, dpd, principal_outstanding\n",
    "from sanction \"\"\"\n",
    "flag,sanction_data_df, error_msg = data_fetch_v2(sanction_data, host=\"13.126.97.63\")"
   ]
  },
  {
   "cell_type": "code",
   "execution_count": 58,
   "metadata": {},
   "outputs": [
    {
     "data": {
      "text/plain": [
       "user_id                  object\n",
       "sanction_id              object\n",
       "sanction_time    datetime64[ns]\n",
       "prod_group               object\n",
       "B2b_partner              object\n",
       "partner_name             object\n",
       "dtype: object"
      ]
     },
     "execution_count": 58,
     "metadata": {},
     "output_type": "execute_result"
    }
   ],
   "source": [
    "sanction_data_df.dtypes"
   ]
  },
  {
   "cell_type": "markdown",
   "metadata": {},
   "source": [
    "Get a B2b partner data from JSON"
   ]
  },
  {
   "cell_type": "code",
   "execution_count": 59,
   "metadata": {},
   "outputs": [
    {
     "ename": "KeyError",
     "evalue": "'json_data'",
     "output_type": "error",
     "traceback": [
      "\u001b[1;31m---------------------------------------------------------------------------\u001b[0m",
      "\u001b[1;31mKeyError\u001b[0m                                  Traceback (most recent call last)",
      "File \u001b[1;32m~\\AppData\\Roaming\\Python\\Python313\\site-packages\\pandas\\core\\indexes\\base.py:3805\u001b[0m, in \u001b[0;36mIndex.get_loc\u001b[1;34m(self, key)\u001b[0m\n\u001b[0;32m   3804\u001b[0m \u001b[38;5;28;01mtry\u001b[39;00m:\n\u001b[1;32m-> 3805\u001b[0m     \u001b[38;5;28;01mreturn\u001b[39;00m \u001b[38;5;28;43mself\u001b[39;49m\u001b[38;5;241;43m.\u001b[39;49m\u001b[43m_engine\u001b[49m\u001b[38;5;241;43m.\u001b[39;49m\u001b[43mget_loc\u001b[49m\u001b[43m(\u001b[49m\u001b[43mcasted_key\u001b[49m\u001b[43m)\u001b[49m\n\u001b[0;32m   3806\u001b[0m \u001b[38;5;28;01mexcept\u001b[39;00m \u001b[38;5;167;01mKeyError\u001b[39;00m \u001b[38;5;28;01mas\u001b[39;00m err:\n",
      "File \u001b[1;32mindex.pyx:167\u001b[0m, in \u001b[0;36mpandas._libs.index.IndexEngine.get_loc\u001b[1;34m()\u001b[0m\n",
      "File \u001b[1;32mindex.pyx:196\u001b[0m, in \u001b[0;36mpandas._libs.index.IndexEngine.get_loc\u001b[1;34m()\u001b[0m\n",
      "File \u001b[1;32mpandas\\\\_libs\\\\hashtable_class_helper.pxi:7081\u001b[0m, in \u001b[0;36mpandas._libs.hashtable.PyObjectHashTable.get_item\u001b[1;34m()\u001b[0m\n",
      "File \u001b[1;32mpandas\\\\_libs\\\\hashtable_class_helper.pxi:7089\u001b[0m, in \u001b[0;36mpandas._libs.hashtable.PyObjectHashTable.get_item\u001b[1;34m()\u001b[0m\n",
      "\u001b[1;31mKeyError\u001b[0m: 'json_data'",
      "\nThe above exception was the direct cause of the following exception:\n",
      "\u001b[1;31mKeyError\u001b[0m                                  Traceback (most recent call last)",
      "Cell \u001b[1;32mIn[59], line 1\u001b[0m\n\u001b[1;32m----> 1\u001b[0m sanction_data_df[\u001b[38;5;124m\"\u001b[39m\u001b[38;5;124mB2b_partner\u001b[39m\u001b[38;5;124m\"\u001b[39m] \u001b[38;5;241m=\u001b[39m \u001b[43msanction_data_df\u001b[49m\u001b[43m[\u001b[49m\u001b[38;5;124;43m\"\u001b[39;49m\u001b[38;5;124;43mjson_data\u001b[39;49m\u001b[38;5;124;43m\"\u001b[39;49m\u001b[43m]\u001b[49m\u001b[38;5;241m.\u001b[39mapply(\u001b[38;5;28;01mlambda\u001b[39;00m x: json\u001b[38;5;241m.\u001b[39mloads(x)\u001b[38;5;241m.\u001b[39mget(\u001b[38;5;124m\"\u001b[39m\u001b[38;5;124mcoupon_code_partner\u001b[39m\u001b[38;5;124m\"\u001b[39m,\u001b[38;5;124m\"\u001b[39m\u001b[38;5;124m\"\u001b[39m))\n",
      "File \u001b[1;32m~\\AppData\\Roaming\\Python\\Python313\\site-packages\\pandas\\core\\frame.py:4102\u001b[0m, in \u001b[0;36mDataFrame.__getitem__\u001b[1;34m(self, key)\u001b[0m\n\u001b[0;32m   4100\u001b[0m \u001b[38;5;28;01mif\u001b[39;00m \u001b[38;5;28mself\u001b[39m\u001b[38;5;241m.\u001b[39mcolumns\u001b[38;5;241m.\u001b[39mnlevels \u001b[38;5;241m>\u001b[39m \u001b[38;5;241m1\u001b[39m:\n\u001b[0;32m   4101\u001b[0m     \u001b[38;5;28;01mreturn\u001b[39;00m \u001b[38;5;28mself\u001b[39m\u001b[38;5;241m.\u001b[39m_getitem_multilevel(key)\n\u001b[1;32m-> 4102\u001b[0m indexer \u001b[38;5;241m=\u001b[39m \u001b[38;5;28;43mself\u001b[39;49m\u001b[38;5;241;43m.\u001b[39;49m\u001b[43mcolumns\u001b[49m\u001b[38;5;241;43m.\u001b[39;49m\u001b[43mget_loc\u001b[49m\u001b[43m(\u001b[49m\u001b[43mkey\u001b[49m\u001b[43m)\u001b[49m\n\u001b[0;32m   4103\u001b[0m \u001b[38;5;28;01mif\u001b[39;00m is_integer(indexer):\n\u001b[0;32m   4104\u001b[0m     indexer \u001b[38;5;241m=\u001b[39m [indexer]\n",
      "File \u001b[1;32m~\\AppData\\Roaming\\Python\\Python313\\site-packages\\pandas\\core\\indexes\\base.py:3812\u001b[0m, in \u001b[0;36mIndex.get_loc\u001b[1;34m(self, key)\u001b[0m\n\u001b[0;32m   3807\u001b[0m     \u001b[38;5;28;01mif\u001b[39;00m \u001b[38;5;28misinstance\u001b[39m(casted_key, \u001b[38;5;28mslice\u001b[39m) \u001b[38;5;129;01mor\u001b[39;00m (\n\u001b[0;32m   3808\u001b[0m         \u001b[38;5;28misinstance\u001b[39m(casted_key, abc\u001b[38;5;241m.\u001b[39mIterable)\n\u001b[0;32m   3809\u001b[0m         \u001b[38;5;129;01mand\u001b[39;00m \u001b[38;5;28many\u001b[39m(\u001b[38;5;28misinstance\u001b[39m(x, \u001b[38;5;28mslice\u001b[39m) \u001b[38;5;28;01mfor\u001b[39;00m x \u001b[38;5;129;01min\u001b[39;00m casted_key)\n\u001b[0;32m   3810\u001b[0m     ):\n\u001b[0;32m   3811\u001b[0m         \u001b[38;5;28;01mraise\u001b[39;00m InvalidIndexError(key)\n\u001b[1;32m-> 3812\u001b[0m     \u001b[38;5;28;01mraise\u001b[39;00m \u001b[38;5;167;01mKeyError\u001b[39;00m(key) \u001b[38;5;28;01mfrom\u001b[39;00m \u001b[38;5;21;01merr\u001b[39;00m\n\u001b[0;32m   3813\u001b[0m \u001b[38;5;28;01mexcept\u001b[39;00m \u001b[38;5;167;01mTypeError\u001b[39;00m:\n\u001b[0;32m   3814\u001b[0m     \u001b[38;5;66;03m# If we have a listlike key, _check_indexing_error will raise\u001b[39;00m\n\u001b[0;32m   3815\u001b[0m     \u001b[38;5;66;03m#  InvalidIndexError. Otherwise we fall through and re-raise\u001b[39;00m\n\u001b[0;32m   3816\u001b[0m     \u001b[38;5;66;03m#  the TypeError.\u001b[39;00m\n\u001b[0;32m   3817\u001b[0m     \u001b[38;5;28mself\u001b[39m\u001b[38;5;241m.\u001b[39m_check_indexing_error(key)\n",
      "\u001b[1;31mKeyError\u001b[0m: 'json_data'"
     ]
    }
   ],
   "source": [
    "sanction_data_df[\"B2b_partner\"] = sanction_data_df[\"json_data\"].apply(lambda x: json.loads(x).get(\"coupon_code_partner\",\"\"))"
   ]
  },
  {
   "cell_type": "markdown",
   "metadata": {},
   "source": [
    "Rename and Remove un necessary columns"
   ]
  },
  {
   "cell_type": "code",
   "execution_count": 28,
   "metadata": {},
   "outputs": [],
   "source": [
    "sanction_data_df.rename(columns = {'created_time':'sanction_time'},inplace=True)"
   ]
  },
  {
   "cell_type": "code",
   "execution_count": 29,
   "metadata": {},
   "outputs": [],
   "source": [
    "sanction_data_df.drop(columns = ['json_data'],inplace = True)"
   ]
  },
  {
   "cell_type": "code",
   "execution_count": null,
   "metadata": {},
   "outputs": [],
   "source": [
    "sanction_data_df[sanction_data_df[\"B2b_partner\"]==\"\"]"
   ]
  },
  {
   "cell_type": "code",
   "execution_count": 49,
   "metadata": {},
   "outputs": [],
   "source": [
    "sanction_data_df[\"partner_name\"] = np.where(((sanction_data_df['B2b_partner'].isna())| (sanction_data_df['B2b_partner']==\"\")), sanction_data_df['prod_group'], sanction_data_df['B2b_partner'])"
   ]
  },
  {
   "cell_type": "code",
   "execution_count": null,
   "metadata": {},
   "outputs": [],
   "source": [
    "sanction_data_df[\"partner_name\"]# = sanction_data_df['B2b_partner'].fillna(sanction_data_df['prod_group'])\n"
   ]
  },
  {
   "cell_type": "code",
   "execution_count": 63,
   "metadata": {},
   "outputs": [],
   "source": [
    "sanction_data_df = sanction_data_df.drop(columns=['prod_group','B2b_partner'])"
   ]
  },
  {
   "cell_type": "code",
   "execution_count": null,
   "metadata": {},
   "outputs": [],
   "source": [
    "#billing data\n",
    "\n",
    "billing = f\"\"\"\n",
    "select user_id, principal_outstanding, dpd\n",
    "from billing_info where billing_cycle = 202412 \"\"\"\n",
    "flag,billing_df, error_msg = data_fetch_v2(billing, host=\"13.126.97.63\")"
   ]
  },
  {
   "cell_type": "code",
   "execution_count": 71,
   "metadata": {},
   "outputs": [
    {
     "data": {
      "text/plain": [
       "pandas.core.frame.DataFrame"
      ]
     },
     "execution_count": 71,
     "metadata": {},
     "output_type": "execute_result"
    }
   ],
   "source": [
    "type(core_policy_user)"
   ]
  },
  {
   "cell_type": "code",
   "execution_count": 88,
   "metadata": {},
   "outputs": [],
   "source": [
    "loan_tape_data1 = sanction_data_df.merge(core_policy_user, how = 'left' , on =\"user_id\")"
   ]
  },
  {
   "cell_type": "code",
   "execution_count": 89,
   "metadata": {},
   "outputs": [],
   "source": [
    "loan_tape_data2 = loan_tape_data1.merge(billing_df, how = 'left' , on =\"user_id\")"
   ]
  },
  {
   "cell_type": "code",
   "execution_count": 131,
   "metadata": {},
   "outputs": [],
   "source": [
    "loan_tape_data = loan_tape_data2.merge(transaction_data_df, how = 'left' , on =\"user_id\")"
   ]
  },
  {
   "cell_type": "code",
   "execution_count": 156,
   "metadata": {},
   "outputs": [
    {
     "ename": "IntCastingNaNError",
     "evalue": "Cannot convert non-finite values (NA or inf) to integer",
     "output_type": "error",
     "traceback": [
      "\u001b[1;31m---------------------------------------------------------------------------\u001b[0m",
      "\u001b[1;31mIntCastingNaNError\u001b[0m                        Traceback (most recent call last)",
      "Cell \u001b[1;32mIn[156], line 1\u001b[0m\n\u001b[1;32m----> 1\u001b[0m loan_tape_data[\u001b[38;5;124m'\u001b[39m\u001b[38;5;124mfl_approved\u001b[39m\u001b[38;5;124m'\u001b[39m] \u001b[38;5;241m=\u001b[39m \u001b[43mloan_tape_data\u001b[49m\u001b[43m[\u001b[49m\u001b[38;5;124;43m'\u001b[39;49m\u001b[38;5;124;43mfl_approved\u001b[39;49m\u001b[38;5;124;43m'\u001b[39;49m\u001b[43m]\u001b[49m\u001b[38;5;241;43m.\u001b[39;49m\u001b[43mastype\u001b[49m\u001b[43m(\u001b[49m\u001b[38;5;28;43mint\u001b[39;49m\u001b[43m)\u001b[49m\n",
      "File \u001b[1;32m~\\AppData\\Roaming\\Python\\Python313\\site-packages\\pandas\\core\\generic.py:6643\u001b[0m, in \u001b[0;36mNDFrame.astype\u001b[1;34m(self, dtype, copy, errors)\u001b[0m\n\u001b[0;32m   6637\u001b[0m     results \u001b[38;5;241m=\u001b[39m [\n\u001b[0;32m   6638\u001b[0m         ser\u001b[38;5;241m.\u001b[39mastype(dtype, copy\u001b[38;5;241m=\u001b[39mcopy, errors\u001b[38;5;241m=\u001b[39merrors) \u001b[38;5;28;01mfor\u001b[39;00m _, ser \u001b[38;5;129;01min\u001b[39;00m \u001b[38;5;28mself\u001b[39m\u001b[38;5;241m.\u001b[39mitems()\n\u001b[0;32m   6639\u001b[0m     ]\n\u001b[0;32m   6641\u001b[0m \u001b[38;5;28;01melse\u001b[39;00m:\n\u001b[0;32m   6642\u001b[0m     \u001b[38;5;66;03m# else, only a single dtype is given\u001b[39;00m\n\u001b[1;32m-> 6643\u001b[0m     new_data \u001b[38;5;241m=\u001b[39m \u001b[38;5;28;43mself\u001b[39;49m\u001b[38;5;241;43m.\u001b[39;49m\u001b[43m_mgr\u001b[49m\u001b[38;5;241;43m.\u001b[39;49m\u001b[43mastype\u001b[49m\u001b[43m(\u001b[49m\u001b[43mdtype\u001b[49m\u001b[38;5;241;43m=\u001b[39;49m\u001b[43mdtype\u001b[49m\u001b[43m,\u001b[49m\u001b[43m \u001b[49m\u001b[43mcopy\u001b[49m\u001b[38;5;241;43m=\u001b[39;49m\u001b[43mcopy\u001b[49m\u001b[43m,\u001b[49m\u001b[43m \u001b[49m\u001b[43merrors\u001b[49m\u001b[38;5;241;43m=\u001b[39;49m\u001b[43merrors\u001b[49m\u001b[43m)\u001b[49m\n\u001b[0;32m   6644\u001b[0m     res \u001b[38;5;241m=\u001b[39m \u001b[38;5;28mself\u001b[39m\u001b[38;5;241m.\u001b[39m_constructor_from_mgr(new_data, axes\u001b[38;5;241m=\u001b[39mnew_data\u001b[38;5;241m.\u001b[39maxes)\n\u001b[0;32m   6645\u001b[0m     \u001b[38;5;28;01mreturn\u001b[39;00m res\u001b[38;5;241m.\u001b[39m__finalize__(\u001b[38;5;28mself\u001b[39m, method\u001b[38;5;241m=\u001b[39m\u001b[38;5;124m\"\u001b[39m\u001b[38;5;124mastype\u001b[39m\u001b[38;5;124m\"\u001b[39m)\n",
      "File \u001b[1;32m~\\AppData\\Roaming\\Python\\Python313\\site-packages\\pandas\\core\\internals\\managers.py:430\u001b[0m, in \u001b[0;36mBaseBlockManager.astype\u001b[1;34m(self, dtype, copy, errors)\u001b[0m\n\u001b[0;32m    427\u001b[0m \u001b[38;5;28;01melif\u001b[39;00m using_copy_on_write():\n\u001b[0;32m    428\u001b[0m     copy \u001b[38;5;241m=\u001b[39m \u001b[38;5;28;01mFalse\u001b[39;00m\n\u001b[1;32m--> 430\u001b[0m \u001b[38;5;28;01mreturn\u001b[39;00m \u001b[38;5;28;43mself\u001b[39;49m\u001b[38;5;241;43m.\u001b[39;49m\u001b[43mapply\u001b[49m\u001b[43m(\u001b[49m\n\u001b[0;32m    431\u001b[0m \u001b[43m    \u001b[49m\u001b[38;5;124;43m\"\u001b[39;49m\u001b[38;5;124;43mastype\u001b[39;49m\u001b[38;5;124;43m\"\u001b[39;49m\u001b[43m,\u001b[49m\n\u001b[0;32m    432\u001b[0m \u001b[43m    \u001b[49m\u001b[43mdtype\u001b[49m\u001b[38;5;241;43m=\u001b[39;49m\u001b[43mdtype\u001b[49m\u001b[43m,\u001b[49m\n\u001b[0;32m    433\u001b[0m \u001b[43m    \u001b[49m\u001b[43mcopy\u001b[49m\u001b[38;5;241;43m=\u001b[39;49m\u001b[43mcopy\u001b[49m\u001b[43m,\u001b[49m\n\u001b[0;32m    434\u001b[0m \u001b[43m    \u001b[49m\u001b[43merrors\u001b[49m\u001b[38;5;241;43m=\u001b[39;49m\u001b[43merrors\u001b[49m\u001b[43m,\u001b[49m\n\u001b[0;32m    435\u001b[0m \u001b[43m    \u001b[49m\u001b[43musing_cow\u001b[49m\u001b[38;5;241;43m=\u001b[39;49m\u001b[43musing_copy_on_write\u001b[49m\u001b[43m(\u001b[49m\u001b[43m)\u001b[49m\u001b[43m,\u001b[49m\n\u001b[0;32m    436\u001b[0m \u001b[43m\u001b[49m\u001b[43m)\u001b[49m\n",
      "File \u001b[1;32m~\\AppData\\Roaming\\Python\\Python313\\site-packages\\pandas\\core\\internals\\managers.py:363\u001b[0m, in \u001b[0;36mBaseBlockManager.apply\u001b[1;34m(self, f, align_keys, **kwargs)\u001b[0m\n\u001b[0;32m    361\u001b[0m         applied \u001b[38;5;241m=\u001b[39m b\u001b[38;5;241m.\u001b[39mapply(f, \u001b[38;5;241m*\u001b[39m\u001b[38;5;241m*\u001b[39mkwargs)\n\u001b[0;32m    362\u001b[0m     \u001b[38;5;28;01melse\u001b[39;00m:\n\u001b[1;32m--> 363\u001b[0m         applied \u001b[38;5;241m=\u001b[39m \u001b[38;5;28;43mgetattr\u001b[39;49m\u001b[43m(\u001b[49m\u001b[43mb\u001b[49m\u001b[43m,\u001b[49m\u001b[43m \u001b[49m\u001b[43mf\u001b[49m\u001b[43m)\u001b[49m\u001b[43m(\u001b[49m\u001b[38;5;241;43m*\u001b[39;49m\u001b[38;5;241;43m*\u001b[39;49m\u001b[43mkwargs\u001b[49m\u001b[43m)\u001b[49m\n\u001b[0;32m    364\u001b[0m     result_blocks \u001b[38;5;241m=\u001b[39m extend_blocks(applied, result_blocks)\n\u001b[0;32m    366\u001b[0m out \u001b[38;5;241m=\u001b[39m \u001b[38;5;28mtype\u001b[39m(\u001b[38;5;28mself\u001b[39m)\u001b[38;5;241m.\u001b[39mfrom_blocks(result_blocks, \u001b[38;5;28mself\u001b[39m\u001b[38;5;241m.\u001b[39maxes)\n",
      "File \u001b[1;32m~\\AppData\\Roaming\\Python\\Python313\\site-packages\\pandas\\core\\internals\\blocks.py:758\u001b[0m, in \u001b[0;36mBlock.astype\u001b[1;34m(self, dtype, copy, errors, using_cow, squeeze)\u001b[0m\n\u001b[0;32m    755\u001b[0m         \u001b[38;5;28;01mraise\u001b[39;00m \u001b[38;5;167;01mValueError\u001b[39;00m(\u001b[38;5;124m\"\u001b[39m\u001b[38;5;124mCan not squeeze with more than one column.\u001b[39m\u001b[38;5;124m\"\u001b[39m)\n\u001b[0;32m    756\u001b[0m     values \u001b[38;5;241m=\u001b[39m values[\u001b[38;5;241m0\u001b[39m, :]  \u001b[38;5;66;03m# type: ignore[call-overload]\u001b[39;00m\n\u001b[1;32m--> 758\u001b[0m new_values \u001b[38;5;241m=\u001b[39m \u001b[43mastype_array_safe\u001b[49m\u001b[43m(\u001b[49m\u001b[43mvalues\u001b[49m\u001b[43m,\u001b[49m\u001b[43m \u001b[49m\u001b[43mdtype\u001b[49m\u001b[43m,\u001b[49m\u001b[43m \u001b[49m\u001b[43mcopy\u001b[49m\u001b[38;5;241;43m=\u001b[39;49m\u001b[43mcopy\u001b[49m\u001b[43m,\u001b[49m\u001b[43m \u001b[49m\u001b[43merrors\u001b[49m\u001b[38;5;241;43m=\u001b[39;49m\u001b[43merrors\u001b[49m\u001b[43m)\u001b[49m\n\u001b[0;32m    760\u001b[0m new_values \u001b[38;5;241m=\u001b[39m maybe_coerce_values(new_values)\n\u001b[0;32m    762\u001b[0m refs \u001b[38;5;241m=\u001b[39m \u001b[38;5;28;01mNone\u001b[39;00m\n",
      "File \u001b[1;32m~\\AppData\\Roaming\\Python\\Python313\\site-packages\\pandas\\core\\dtypes\\astype.py:237\u001b[0m, in \u001b[0;36mastype_array_safe\u001b[1;34m(values, dtype, copy, errors)\u001b[0m\n\u001b[0;32m    234\u001b[0m     dtype \u001b[38;5;241m=\u001b[39m dtype\u001b[38;5;241m.\u001b[39mnumpy_dtype\n\u001b[0;32m    236\u001b[0m \u001b[38;5;28;01mtry\u001b[39;00m:\n\u001b[1;32m--> 237\u001b[0m     new_values \u001b[38;5;241m=\u001b[39m \u001b[43mastype_array\u001b[49m\u001b[43m(\u001b[49m\u001b[43mvalues\u001b[49m\u001b[43m,\u001b[49m\u001b[43m \u001b[49m\u001b[43mdtype\u001b[49m\u001b[43m,\u001b[49m\u001b[43m \u001b[49m\u001b[43mcopy\u001b[49m\u001b[38;5;241;43m=\u001b[39;49m\u001b[43mcopy\u001b[49m\u001b[43m)\u001b[49m\n\u001b[0;32m    238\u001b[0m \u001b[38;5;28;01mexcept\u001b[39;00m (\u001b[38;5;167;01mValueError\u001b[39;00m, \u001b[38;5;167;01mTypeError\u001b[39;00m):\n\u001b[0;32m    239\u001b[0m     \u001b[38;5;66;03m# e.g. _astype_nansafe can fail on object-dtype of strings\u001b[39;00m\n\u001b[0;32m    240\u001b[0m     \u001b[38;5;66;03m#  trying to convert to float\u001b[39;00m\n\u001b[0;32m    241\u001b[0m     \u001b[38;5;28;01mif\u001b[39;00m errors \u001b[38;5;241m==\u001b[39m \u001b[38;5;124m\"\u001b[39m\u001b[38;5;124mignore\u001b[39m\u001b[38;5;124m\"\u001b[39m:\n",
      "File \u001b[1;32m~\\AppData\\Roaming\\Python\\Python313\\site-packages\\pandas\\core\\dtypes\\astype.py:182\u001b[0m, in \u001b[0;36mastype_array\u001b[1;34m(values, dtype, copy)\u001b[0m\n\u001b[0;32m    179\u001b[0m     values \u001b[38;5;241m=\u001b[39m values\u001b[38;5;241m.\u001b[39mastype(dtype, copy\u001b[38;5;241m=\u001b[39mcopy)\n\u001b[0;32m    181\u001b[0m \u001b[38;5;28;01melse\u001b[39;00m:\n\u001b[1;32m--> 182\u001b[0m     values \u001b[38;5;241m=\u001b[39m \u001b[43m_astype_nansafe\u001b[49m\u001b[43m(\u001b[49m\u001b[43mvalues\u001b[49m\u001b[43m,\u001b[49m\u001b[43m \u001b[49m\u001b[43mdtype\u001b[49m\u001b[43m,\u001b[49m\u001b[43m \u001b[49m\u001b[43mcopy\u001b[49m\u001b[38;5;241;43m=\u001b[39;49m\u001b[43mcopy\u001b[49m\u001b[43m)\u001b[49m\n\u001b[0;32m    184\u001b[0m \u001b[38;5;66;03m# in pandas we don't store numpy str dtypes, so convert to object\u001b[39;00m\n\u001b[0;32m    185\u001b[0m \u001b[38;5;28;01mif\u001b[39;00m \u001b[38;5;28misinstance\u001b[39m(dtype, np\u001b[38;5;241m.\u001b[39mdtype) \u001b[38;5;129;01mand\u001b[39;00m \u001b[38;5;28missubclass\u001b[39m(values\u001b[38;5;241m.\u001b[39mdtype\u001b[38;5;241m.\u001b[39mtype, \u001b[38;5;28mstr\u001b[39m):\n",
      "File \u001b[1;32m~\\AppData\\Roaming\\Python\\Python313\\site-packages\\pandas\\core\\dtypes\\astype.py:101\u001b[0m, in \u001b[0;36m_astype_nansafe\u001b[1;34m(arr, dtype, copy, skipna)\u001b[0m\n\u001b[0;32m     96\u001b[0m     \u001b[38;5;28;01mreturn\u001b[39;00m lib\u001b[38;5;241m.\u001b[39mensure_string_array(\n\u001b[0;32m     97\u001b[0m         arr, skipna\u001b[38;5;241m=\u001b[39mskipna, convert_na_value\u001b[38;5;241m=\u001b[39m\u001b[38;5;28;01mFalse\u001b[39;00m\n\u001b[0;32m     98\u001b[0m     )\u001b[38;5;241m.\u001b[39mreshape(shape)\n\u001b[0;32m    100\u001b[0m \u001b[38;5;28;01melif\u001b[39;00m np\u001b[38;5;241m.\u001b[39missubdtype(arr\u001b[38;5;241m.\u001b[39mdtype, np\u001b[38;5;241m.\u001b[39mfloating) \u001b[38;5;129;01mand\u001b[39;00m dtype\u001b[38;5;241m.\u001b[39mkind \u001b[38;5;129;01min\u001b[39;00m \u001b[38;5;124m\"\u001b[39m\u001b[38;5;124miu\u001b[39m\u001b[38;5;124m\"\u001b[39m:\n\u001b[1;32m--> 101\u001b[0m     \u001b[38;5;28;01mreturn\u001b[39;00m \u001b[43m_astype_float_to_int_nansafe\u001b[49m\u001b[43m(\u001b[49m\u001b[43marr\u001b[49m\u001b[43m,\u001b[49m\u001b[43m \u001b[49m\u001b[43mdtype\u001b[49m\u001b[43m,\u001b[49m\u001b[43m \u001b[49m\u001b[43mcopy\u001b[49m\u001b[43m)\u001b[49m\n\u001b[0;32m    103\u001b[0m \u001b[38;5;28;01melif\u001b[39;00m arr\u001b[38;5;241m.\u001b[39mdtype \u001b[38;5;241m==\u001b[39m \u001b[38;5;28mobject\u001b[39m:\n\u001b[0;32m    104\u001b[0m     \u001b[38;5;66;03m# if we have a datetime/timedelta array of objects\u001b[39;00m\n\u001b[0;32m    105\u001b[0m     \u001b[38;5;66;03m# then coerce to datetime64[ns] and use DatetimeArray.astype\u001b[39;00m\n\u001b[0;32m    107\u001b[0m     \u001b[38;5;28;01mif\u001b[39;00m lib\u001b[38;5;241m.\u001b[39mis_np_dtype(dtype, \u001b[38;5;124m\"\u001b[39m\u001b[38;5;124mM\u001b[39m\u001b[38;5;124m\"\u001b[39m):\n",
      "File \u001b[1;32m~\\AppData\\Roaming\\Python\\Python313\\site-packages\\pandas\\core\\dtypes\\astype.py:145\u001b[0m, in \u001b[0;36m_astype_float_to_int_nansafe\u001b[1;34m(values, dtype, copy)\u001b[0m\n\u001b[0;32m    141\u001b[0m \u001b[38;5;250m\u001b[39m\u001b[38;5;124;03m\"\"\"\u001b[39;00m\n\u001b[0;32m    142\u001b[0m \u001b[38;5;124;03mastype with a check preventing converting NaN to an meaningless integer value.\u001b[39;00m\n\u001b[0;32m    143\u001b[0m \u001b[38;5;124;03m\"\"\"\u001b[39;00m\n\u001b[0;32m    144\u001b[0m \u001b[38;5;28;01mif\u001b[39;00m \u001b[38;5;129;01mnot\u001b[39;00m np\u001b[38;5;241m.\u001b[39misfinite(values)\u001b[38;5;241m.\u001b[39mall():\n\u001b[1;32m--> 145\u001b[0m     \u001b[38;5;28;01mraise\u001b[39;00m IntCastingNaNError(\n\u001b[0;32m    146\u001b[0m         \u001b[38;5;124m\"\u001b[39m\u001b[38;5;124mCannot convert non-finite values (NA or inf) to integer\u001b[39m\u001b[38;5;124m\"\u001b[39m\n\u001b[0;32m    147\u001b[0m     )\n\u001b[0;32m    148\u001b[0m \u001b[38;5;28;01mif\u001b[39;00m dtype\u001b[38;5;241m.\u001b[39mkind \u001b[38;5;241m==\u001b[39m \u001b[38;5;124m\"\u001b[39m\u001b[38;5;124mu\u001b[39m\u001b[38;5;124m\"\u001b[39m:\n\u001b[0;32m    149\u001b[0m     \u001b[38;5;66;03m# GH#45151\u001b[39;00m\n\u001b[0;32m    150\u001b[0m     \u001b[38;5;28;01mif\u001b[39;00m \u001b[38;5;129;01mnot\u001b[39;00m (values \u001b[38;5;241m>\u001b[39m\u001b[38;5;241m=\u001b[39m \u001b[38;5;241m0\u001b[39m)\u001b[38;5;241m.\u001b[39mall():\n",
      "\u001b[1;31mIntCastingNaNError\u001b[0m: Cannot convert non-finite values (NA or inf) to integer"
     ]
    }
   ],
   "source": [
    "loan_tape_data['fl_approved'] = loan_tape_data['fl_approved'].astype(int)"
   ]
  },
  {
   "cell_type": "code",
   "execution_count": 157,
   "metadata": {},
   "outputs": [
    {
     "data": {
      "text/plain": [
       "user_id                          object\n",
       "sanction_id                      object\n",
       "sanction_time            datetime64[ns]\n",
       "partner_name                     object\n",
       "fl_approved                     float64\n",
       "principal_outstanding           float64\n",
       "dpd                             float64\n",
       "transaction_id                   object\n",
       "created_time             datetime64[ns]\n",
       "net_disbursed_amount            float64\n",
       "product                          object\n",
       "dtype: object"
      ]
     },
     "execution_count": 157,
     "metadata": {},
     "output_type": "execute_result"
    }
   ],
   "source": [
    "loan_tape_data.dtypes"
   ]
  },
  {
   "cell_type": "code",
   "execution_count": 132,
   "metadata": {},
   "outputs": [],
   "source": [
    "loan_tape_data = loan_tape_data.drop(columns=['Unnamed: 0'])"
   ]
  },
  {
   "cell_type": "code",
   "execution_count": 55,
   "metadata": {},
   "outputs": [],
   "source": [
    "#core flag\n",
    "core_policy_user = pd.read_csv(r\"C:\\Users\\vshnu\\OneDrive\\Desktop\\Vishnuperson\\RE\\aspire_\\sql_to_python\\core_policy_users.csv\")"
   ]
  },
  {
   "cell_type": "code",
   "execution_count": 67,
   "metadata": {},
   "outputs": [
    {
     "data": {
      "text/plain": [
       "pandas.core.frame.DataFrame"
      ]
     },
     "execution_count": 67,
     "metadata": {},
     "output_type": "execute_result"
    }
   ],
   "source": [
    "type(sanction_data_df)"
   ]
  },
  {
   "cell_type": "code",
   "execution_count": null,
   "metadata": {},
   "outputs": [],
   "source": [
    "#txn data\n",
    "\n",
    "transaction_data = f\"\"\"\n",
    "select user_id, transaction_id, created_time, net_disbursed_amount\n",
    "from merchant_payments where status = \"success\" \"\"\"\n",
    "flag,transaction_data_df, error_msg = data_fetch_v2(transaction_data, host=\"13.126.97.63\")"
   ]
  },
  {
   "cell_type": "code",
   "execution_count": 164,
   "metadata": {},
   "outputs": [
    {
     "data": {
      "text/plain": [
       "dpd\n",
       "0.0       30135\n",
       "239.0         3\n",
       "263.0         1\n",
       "270.0        13\n",
       "293.0         3\n",
       "          ...  \n",
       "1241.0       66\n",
       "1272.0      226\n",
       "1302.0      163\n",
       "1333.0      158\n",
       "1484.0        6\n",
       "Name: user_id, Length: 89, dtype: int64"
      ]
     },
     "execution_count": 164,
     "metadata": {},
     "output_type": "execute_result"
    }
   ],
   "source": [
    "loan_tape_data.groupby('dpd')[\"user_id\"].count()"
   ]
  },
  {
   "cell_type": "code",
   "execution_count": 163,
   "metadata": {},
   "outputs": [
    {
     "data": {
      "text/html": [
       "<div>\n",
       "<style scoped>\n",
       "    .dataframe tbody tr th:only-of-type {\n",
       "        vertical-align: middle;\n",
       "    }\n",
       "\n",
       "    .dataframe tbody tr th {\n",
       "        vertical-align: top;\n",
       "    }\n",
       "\n",
       "    .dataframe thead th {\n",
       "        text-align: right;\n",
       "    }\n",
       "</style>\n",
       "<table border=\"1\" class=\"dataframe\">\n",
       "  <thead>\n",
       "    <tr style=\"text-align: right;\">\n",
       "      <th></th>\n",
       "      <th>user_id</th>\n",
       "      <th>sanction_id</th>\n",
       "      <th>sanction_time</th>\n",
       "      <th>partner_name</th>\n",
       "      <th>fl_approved</th>\n",
       "      <th>principal_outstanding</th>\n",
       "      <th>dpd</th>\n",
       "      <th>transaction_id</th>\n",
       "      <th>created_time</th>\n",
       "      <th>net_disbursed_amount</th>\n",
       "      <th>product</th>\n",
       "    </tr>\n",
       "  </thead>\n",
       "  <tbody>\n",
       "    <tr>\n",
       "      <th>0</th>\n",
       "      <td>5828b717-bbd1-46fd-b579-4bc21cd2a0d8</td>\n",
       "      <td>d6be356c-ce5b-4e01-9be3-f4ddff164e31</td>\n",
       "      <td>2020-11-12 04:10:14</td>\n",
       "      <td>4M</td>\n",
       "      <td>1.0</td>\n",
       "      <td>NaN</td>\n",
       "      <td>NaN</td>\n",
       "      <td>1d68a2f0-f7b1-4143-a244-277bb394f171</td>\n",
       "      <td>2021-01-04 20:59:38</td>\n",
       "      <td>351.0</td>\n",
       "      <td>Core product</td>\n",
       "    </tr>\n",
       "    <tr>\n",
       "      <th>1</th>\n",
       "      <td>5828b717-bbd1-46fd-b579-4bc21cd2a0d8</td>\n",
       "      <td>d6be356c-ce5b-4e01-9be3-f4ddff164e31</td>\n",
       "      <td>2020-11-12 04:10:14</td>\n",
       "      <td>4M</td>\n",
       "      <td>1.0</td>\n",
       "      <td>NaN</td>\n",
       "      <td>NaN</td>\n",
       "      <td>b8d69a72-0217-4004-aa93-753b165e6ae3</td>\n",
       "      <td>2021-01-12 17:38:40</td>\n",
       "      <td>100.0</td>\n",
       "      <td>Core product</td>\n",
       "    </tr>\n",
       "    <tr>\n",
       "      <th>2</th>\n",
       "      <td>5828b717-bbd1-46fd-b579-4bc21cd2a0d8</td>\n",
       "      <td>d6be356c-ce5b-4e01-9be3-f4ddff164e31</td>\n",
       "      <td>2020-11-12 04:10:14</td>\n",
       "      <td>4M</td>\n",
       "      <td>1.0</td>\n",
       "      <td>NaN</td>\n",
       "      <td>NaN</td>\n",
       "      <td>0493daf9-fca9-41e8-979e-3e161f6a17e5</td>\n",
       "      <td>2021-01-16 22:25:10</td>\n",
       "      <td>20.0</td>\n",
       "      <td>Core product</td>\n",
       "    </tr>\n",
       "  </tbody>\n",
       "</table>\n",
       "</div>"
      ],
      "text/plain": [
       "                                user_id                           sanction_id  \\\n",
       "0  5828b717-bbd1-46fd-b579-4bc21cd2a0d8  d6be356c-ce5b-4e01-9be3-f4ddff164e31   \n",
       "1  5828b717-bbd1-46fd-b579-4bc21cd2a0d8  d6be356c-ce5b-4e01-9be3-f4ddff164e31   \n",
       "2  5828b717-bbd1-46fd-b579-4bc21cd2a0d8  d6be356c-ce5b-4e01-9be3-f4ddff164e31   \n",
       "\n",
       "        sanction_time partner_name  fl_approved  principal_outstanding  dpd  \\\n",
       "0 2020-11-12 04:10:14           4M          1.0                    NaN  NaN   \n",
       "1 2020-11-12 04:10:14           4M          1.0                    NaN  NaN   \n",
       "2 2020-11-12 04:10:14           4M          1.0                    NaN  NaN   \n",
       "\n",
       "                         transaction_id        created_time  \\\n",
       "0  1d68a2f0-f7b1-4143-a244-277bb394f171 2021-01-04 20:59:38   \n",
       "1  b8d69a72-0217-4004-aa93-753b165e6ae3 2021-01-12 17:38:40   \n",
       "2  0493daf9-fca9-41e8-979e-3e161f6a17e5 2021-01-16 22:25:10   \n",
       "\n",
       "   net_disbursed_amount       product  \n",
       "0                 351.0  Core product  \n",
       "1                 100.0  Core product  \n",
       "2                  20.0  Core product  "
      ]
     },
     "execution_count": 163,
     "metadata": {},
     "output_type": "execute_result"
    }
   ],
   "source": [
    "loan_tape_data.head(3)"
   ]
  },
  {
   "cell_type": "code",
   "execution_count": 169,
   "metadata": {},
   "outputs": [],
   "source": [
    "loan_tape_data[\"dpd\"] = loan_tape_data[\"dpd\"].astype(str)"
   ]
  },
  {
   "cell_type": "code",
   "execution_count": 198,
   "metadata": {},
   "outputs": [
    {
     "data": {
      "text/plain": [
       "user_id                          object\n",
       "sanction_id                      object\n",
       "sanction_time            datetime64[ns]\n",
       "partner_name                     object\n",
       "fl_approved                     float64\n",
       "principal_outstanding           float64\n",
       "dpd                               int64\n",
       "transaction_id                   object\n",
       "created_time                     object\n",
       "net_disbursed_amount            float64\n",
       "product                          object\n",
       "dpd_bucket                       object\n",
       "dtype: object"
      ]
     },
     "execution_count": 198,
     "metadata": {},
     "output_type": "execute_result"
    }
   ],
   "source": [
    "loan_tape_data.dtypes"
   ]
  },
  {
   "cell_type": "code",
   "execution_count": 183,
   "metadata": {},
   "outputs": [],
   "source": [
    "loan_tape_data['dpd'] = loan_tape_data['dpd'].replace('nan','0.0')"
   ]
  },
  {
   "cell_type": "code",
   "execution_count": 193,
   "metadata": {},
   "outputs": [
    {
     "data": {
      "text/plain": [
       "dpd\n",
       "0       290712\n",
       "239          3\n",
       "263          1\n",
       "270         13\n",
       "293          3\n",
       "         ...  \n",
       "1241        66\n",
       "1272       226\n",
       "1302       163\n",
       "1333       158\n",
       "1484         6\n",
       "Name: user_id, Length: 89, dtype: int64"
      ]
     },
     "execution_count": 193,
     "metadata": {},
     "output_type": "execute_result"
    }
   ],
   "source": [
    "loan_tape_data.groupby(\"dpd\")['user_id'].count()"
   ]
  },
  {
   "cell_type": "code",
   "execution_count": 192,
   "metadata": {},
   "outputs": [],
   "source": [
    "loan_tape_data[\"dpd\"] = loan_tape_data[\"dpd\"].apply(lambda x: int(x))"
   ]
  },
  {
   "cell_type": "code",
   "execution_count": 195,
   "metadata": {},
   "outputs": [],
   "source": [
    "loan_tape_data[\"dpd_bucket\"] = loan_tape_data[\"dpd\"].apply(lambda x: 'A:current' if x == 0 else\n",
    "                                                           'B:1_360' if x>0 and x<=360 else\n",
    "                                                           'C:361_720' if x>360 and x<=720\n",
    "                                                           else 'D:>720')"
   ]
  },
  {
   "cell_type": "code",
   "execution_count": 197,
   "metadata": {},
   "outputs": [
    {
     "data": {
      "text/html": [
       "<div>\n",
       "<style scoped>\n",
       "    .dataframe tbody tr th:only-of-type {\n",
       "        vertical-align: middle;\n",
       "    }\n",
       "\n",
       "    .dataframe tbody tr th {\n",
       "        vertical-align: top;\n",
       "    }\n",
       "\n",
       "    .dataframe thead th {\n",
       "        text-align: right;\n",
       "    }\n",
       "</style>\n",
       "<table border=\"1\" class=\"dataframe\">\n",
       "  <thead>\n",
       "    <tr style=\"text-align: right;\">\n",
       "      <th></th>\n",
       "      <th>user_id</th>\n",
       "      <th>sanction_id</th>\n",
       "      <th>sanction_time</th>\n",
       "      <th>partner_name</th>\n",
       "      <th>fl_approved</th>\n",
       "      <th>principal_outstanding</th>\n",
       "      <th>dpd</th>\n",
       "      <th>transaction_id</th>\n",
       "      <th>created_time</th>\n",
       "      <th>net_disbursed_amount</th>\n",
       "      <th>product</th>\n",
       "      <th>dpd_bucket</th>\n",
       "    </tr>\n",
       "  </thead>\n",
       "  <tbody>\n",
       "    <tr>\n",
       "      <th>0</th>\n",
       "      <td>5828b717-bbd1-46fd-b579-4bc21cd2a0d8</td>\n",
       "      <td>d6be356c-ce5b-4e01-9be3-f4ddff164e31</td>\n",
       "      <td>2020-11-12 04:10:14</td>\n",
       "      <td>4M</td>\n",
       "      <td>1.0</td>\n",
       "      <td>0.0</td>\n",
       "      <td>0</td>\n",
       "      <td>1d68a2f0-f7b1-4143-a244-277bb394f171</td>\n",
       "      <td>2021-01-04 20:59:38</td>\n",
       "      <td>351.0</td>\n",
       "      <td>Core product</td>\n",
       "      <td>A:current</td>\n",
       "    </tr>\n",
       "    <tr>\n",
       "      <th>1</th>\n",
       "      <td>5828b717-bbd1-46fd-b579-4bc21cd2a0d8</td>\n",
       "      <td>d6be356c-ce5b-4e01-9be3-f4ddff164e31</td>\n",
       "      <td>2020-11-12 04:10:14</td>\n",
       "      <td>4M</td>\n",
       "      <td>1.0</td>\n",
       "      <td>0.0</td>\n",
       "      <td>0</td>\n",
       "      <td>b8d69a72-0217-4004-aa93-753b165e6ae3</td>\n",
       "      <td>2021-01-12 17:38:40</td>\n",
       "      <td>100.0</td>\n",
       "      <td>Core product</td>\n",
       "      <td>A:current</td>\n",
       "    </tr>\n",
       "  </tbody>\n",
       "</table>\n",
       "</div>"
      ],
      "text/plain": [
       "                                user_id                           sanction_id  \\\n",
       "0  5828b717-bbd1-46fd-b579-4bc21cd2a0d8  d6be356c-ce5b-4e01-9be3-f4ddff164e31   \n",
       "1  5828b717-bbd1-46fd-b579-4bc21cd2a0d8  d6be356c-ce5b-4e01-9be3-f4ddff164e31   \n",
       "\n",
       "        sanction_time partner_name  fl_approved  principal_outstanding  dpd  \\\n",
       "0 2020-11-12 04:10:14           4M          1.0                    0.0    0   \n",
       "1 2020-11-12 04:10:14           4M          1.0                    0.0    0   \n",
       "\n",
       "                         transaction_id         created_time  \\\n",
       "0  1d68a2f0-f7b1-4143-a244-277bb394f171  2021-01-04 20:59:38   \n",
       "1  b8d69a72-0217-4004-aa93-753b165e6ae3  2021-01-12 17:38:40   \n",
       "\n",
       "   net_disbursed_amount       product dpd_bucket  \n",
       "0                 351.0  Core product  A:current  \n",
       "1                 100.0  Core product  A:current  "
      ]
     },
     "execution_count": 197,
     "metadata": {},
     "output_type": "execute_result"
    }
   ],
   "source": [
    "loan_tape_data.head(2)"
   ]
  },
  {
   "cell_type": "code",
   "execution_count": 196,
   "metadata": {},
   "outputs": [
    {
     "data": {
      "text/plain": [
       "dpd_bucket\n",
       "A:current    290712\n",
       "B:1_360       18551\n",
       "C:361_720     48538\n",
       "D:>720        27177\n",
       "Name: user_id, dtype: int64"
      ]
     },
     "execution_count": 196,
     "metadata": {},
     "output_type": "execute_result"
    }
   ],
   "source": [
    "loan_tape_data.groupby('dpd_bucket')['user_id'].count()\n"
   ]
  },
  {
   "cell_type": "code",
   "execution_count": null,
   "metadata": {},
   "outputs": [],
   "source": [
    "import pandas as pd\n",
    "\n",
    "# Example DataFrame\n",
    "\n",
    "\n",
    "# Define product categorization logic\n",
    "def categorize_product(row):\n",
    "    x, y = row['partner_name'], row['fl_approved']\n",
    "    \n",
    "    if x in ['4M'] and y in [1.0]:\n",
    "        return 'Core product'\n",
    "    elif x in ['4M'] and y not in [1.0]:\n",
    "        return \"experiment product\"\n",
    "    elif x in ['FLPKRT_1M', 'APNA', 'NINJA_1M', 'REDB_1M', 'BZTM_1M', 'yodacart', 'roinet', \n",
    "               'APNA_4M', 'BIDSO_1M', \"gramophone\", 'essamrt', 'APNA_5M', 'ANX_1M', \n",
    "               'EKAR_1M', 'BZ_4M', 'TRVCLN', 'buyume']:\n",
    "        return 'B2B'\n",
    "    elif x in ['PL']:\n",
    "        return 'Term loans'\n",
    "    else:\n",
    "        return 'Others'\n",
    "\n",
    "# Apply function row-wise\n",
    "loan_tape_data[\"product\"] = loan_tape_data.apply(categorize_product, axis=1)\n",
    "\n",
    "# Display DataFrame\n",
    "print(loan_tape_data)\n"
   ]
  },
  {
   "cell_type": "code",
   "execution_count": null,
   "metadata": {},
   "outputs": [],
   "source": [
    "\n",
    "# Get the rows where index is minimum for each user_id\n",
    "loan_tape_pos = loan_tape_data.loc[loan_tape_data.groupby('user_id').apply(lambda x: x.index.min())]\n",
    "\n",
    "# Reset index if needed\n",
    "loan_tape_pos.reset_index(drop=True, inplace=True)\n",
    "\n",
    "# Display the new DataFrame\n",
    "print(loan_tape_pos)\n"
   ]
  },
  {
   "cell_type": "code",
   "execution_count": 202,
   "metadata": {},
   "outputs": [
    {
     "data": {
      "text/html": [
       "<div>\n",
       "<style scoped>\n",
       "    .dataframe tbody tr th:only-of-type {\n",
       "        vertical-align: middle;\n",
       "    }\n",
       "\n",
       "    .dataframe tbody tr th {\n",
       "        vertical-align: top;\n",
       "    }\n",
       "\n",
       "    .dataframe thead th {\n",
       "        text-align: right;\n",
       "    }\n",
       "</style>\n",
       "<table border=\"1\" class=\"dataframe\">\n",
       "  <thead>\n",
       "    <tr style=\"text-align: right;\">\n",
       "      <th></th>\n",
       "      <th>user_id</th>\n",
       "      <th>sanction_id</th>\n",
       "      <th>sanction_time</th>\n",
       "      <th>partner_name</th>\n",
       "      <th>fl_approved</th>\n",
       "      <th>principal_outstanding</th>\n",
       "      <th>dpd</th>\n",
       "      <th>transaction_id</th>\n",
       "      <th>created_time</th>\n",
       "      <th>net_disbursed_amount</th>\n",
       "      <th>product</th>\n",
       "      <th>dpd_bucket</th>\n",
       "    </tr>\n",
       "  </thead>\n",
       "  <tbody>\n",
       "    <tr>\n",
       "      <th>0</th>\n",
       "      <td>00074193-df73-41d2-b1e1-ce7d6b9d015c</td>\n",
       "      <td>2752e794-b2e4-45e2-8dbb-4f01d2b0463c</td>\n",
       "      <td>2022-04-15 11:52:11</td>\n",
       "      <td>4M</td>\n",
       "      <td>0.0</td>\n",
       "      <td>0.00</td>\n",
       "      <td>0</td>\n",
       "      <td>0.0</td>\n",
       "      <td>0.0</td>\n",
       "      <td>0.0</td>\n",
       "      <td>experiment product</td>\n",
       "      <td>A:current</td>\n",
       "    </tr>\n",
       "    <tr>\n",
       "      <th>1</th>\n",
       "      <td>000ade4b-897e-450a-89f2-2f5e3078737e</td>\n",
       "      <td>8d9f62d3-863f-4e60-907a-b9c13c40dae2</td>\n",
       "      <td>2023-01-27 11:56:09</td>\n",
       "      <td>4M</td>\n",
       "      <td>0.0</td>\n",
       "      <td>6239.46</td>\n",
       "      <td>480</td>\n",
       "      <td>b6d277ef-a94d-4f4e-a1be-d26979308974</td>\n",
       "      <td>2023-04-03 21:33:06</td>\n",
       "      <td>36.0</td>\n",
       "      <td>experiment product</td>\n",
       "      <td>C:361_720</td>\n",
       "    </tr>\n",
       "  </tbody>\n",
       "</table>\n",
       "</div>"
      ],
      "text/plain": [
       "                                user_id                           sanction_id  \\\n",
       "0  00074193-df73-41d2-b1e1-ce7d6b9d015c  2752e794-b2e4-45e2-8dbb-4f01d2b0463c   \n",
       "1  000ade4b-897e-450a-89f2-2f5e3078737e  8d9f62d3-863f-4e60-907a-b9c13c40dae2   \n",
       "\n",
       "        sanction_time partner_name  fl_approved  principal_outstanding  dpd  \\\n",
       "0 2022-04-15 11:52:11           4M          0.0                   0.00    0   \n",
       "1 2023-01-27 11:56:09           4M          0.0                6239.46  480   \n",
       "\n",
       "                         transaction_id         created_time  \\\n",
       "0                                   0.0                  0.0   \n",
       "1  b6d277ef-a94d-4f4e-a1be-d26979308974  2023-04-03 21:33:06   \n",
       "\n",
       "   net_disbursed_amount             product dpd_bucket  \n",
       "0                   0.0  experiment product  A:current  \n",
       "1                  36.0  experiment product  C:361_720  "
      ]
     },
     "execution_count": 202,
     "metadata": {},
     "output_type": "execute_result"
    }
   ],
   "source": [
    "loan_tape_pos.head(2)"
   ]
  },
  {
   "cell_type": "code",
   "execution_count": 211,
   "metadata": {},
   "outputs": [
    {
     "data": {
      "text/html": [
       "<div>\n",
       "<style scoped>\n",
       "    .dataframe tbody tr th:only-of-type {\n",
       "        vertical-align: middle;\n",
       "    }\n",
       "\n",
       "    .dataframe tbody tr th {\n",
       "        vertical-align: top;\n",
       "    }\n",
       "\n",
       "    .dataframe thead th {\n",
       "        text-align: right;\n",
       "    }\n",
       "</style>\n",
       "<table border=\"1\" class=\"dataframe\">\n",
       "  <thead>\n",
       "    <tr style=\"text-align: right;\">\n",
       "      <th></th>\n",
       "      <th>dpd_bucket</th>\n",
       "      <th>A:current</th>\n",
       "      <th>B:1_360</th>\n",
       "      <th>C:361_720</th>\n",
       "      <th>D:&gt;720</th>\n",
       "    </tr>\n",
       "    <tr>\n",
       "      <th>product</th>\n",
       "      <th>fl_approved</th>\n",
       "      <th></th>\n",
       "      <th></th>\n",
       "      <th></th>\n",
       "      <th></th>\n",
       "    </tr>\n",
       "  </thead>\n",
       "  <tbody>\n",
       "    <tr>\n",
       "      <th rowspan=\"2\" valign=\"top\">B2B</th>\n",
       "      <th>0.0</th>\n",
       "      <td>0.00</td>\n",
       "      <td>5500.00</td>\n",
       "      <td>104712.65</td>\n",
       "      <td>0.00</td>\n",
       "    </tr>\n",
       "    <tr>\n",
       "      <th>1.0</th>\n",
       "      <td>0.00</td>\n",
       "      <td>151100.00</td>\n",
       "      <td>584958.87</td>\n",
       "      <td>7999.00</td>\n",
       "    </tr>\n",
       "    <tr>\n",
       "      <th>Core product</th>\n",
       "      <th>1.0</th>\n",
       "      <td>0.85</td>\n",
       "      <td>918382.18</td>\n",
       "      <td>7295523.83</td>\n",
       "      <td>4003384.20</td>\n",
       "    </tr>\n",
       "    <tr>\n",
       "      <th>Others</th>\n",
       "      <th>0.0</th>\n",
       "      <td>0.00</td>\n",
       "      <td>11500.00</td>\n",
       "      <td>0.00</td>\n",
       "      <td>630.75</td>\n",
       "    </tr>\n",
       "    <tr>\n",
       "      <th rowspan=\"2\" valign=\"top\">Term loans</th>\n",
       "      <th>0.0</th>\n",
       "      <td>0.00</td>\n",
       "      <td>35333.35</td>\n",
       "      <td>946279.13</td>\n",
       "      <td>0.00</td>\n",
       "    </tr>\n",
       "    <tr>\n",
       "      <th>1.0</th>\n",
       "      <td>0.67</td>\n",
       "      <td>594186.24</td>\n",
       "      <td>6941453.63</td>\n",
       "      <td>0.00</td>\n",
       "    </tr>\n",
       "    <tr>\n",
       "      <th>experiment product</th>\n",
       "      <th>0.0</th>\n",
       "      <td>0.54</td>\n",
       "      <td>650935.86</td>\n",
       "      <td>4022383.90</td>\n",
       "      <td>5923231.91</td>\n",
       "    </tr>\n",
       "  </tbody>\n",
       "</table>\n",
       "</div>"
      ],
      "text/plain": [
       "dpd_bucket                      A:current    B:1_360   C:361_720      D:>720\n",
       "product            fl_approved                                              \n",
       "B2B                0.0               0.00    5500.00   104712.65        0.00\n",
       "                   1.0               0.00  151100.00   584958.87     7999.00\n",
       "Core product       1.0               0.85  918382.18  7295523.83  4003384.20\n",
       "Others             0.0               0.00   11500.00        0.00      630.75\n",
       "Term loans         0.0               0.00   35333.35   946279.13        0.00\n",
       "                   1.0               0.67  594186.24  6941453.63        0.00\n",
       "experiment product 0.0               0.54  650935.86  4022383.90  5923231.91"
      ]
     },
     "execution_count": 211,
     "metadata": {},
     "output_type": "execute_result"
    }
   ],
   "source": [
    "# loan_tape_pos.groupby([\"product\",\"dpd_bucket\"])['principal_outstanding'].sum()\n",
    "pivot_df = loan_tape_pos.groupby([\"product\",\"fl_approved\",\"dpd_bucket\"])['principal_outstanding'].sum().unstack(fill_value=0)\n",
    "\n",
    "pivot_df"
   ]
  },
  {
   "cell_type": "code",
   "execution_count": 220,
   "metadata": {},
   "outputs": [
    {
     "data": {
      "text/html": [
       "<div>\n",
       "<style scoped>\n",
       "    .dataframe tbody tr th:only-of-type {\n",
       "        vertical-align: middle;\n",
       "    }\n",
       "\n",
       "    .dataframe tbody tr th {\n",
       "        vertical-align: top;\n",
       "    }\n",
       "\n",
       "    .dataframe thead th {\n",
       "        text-align: right;\n",
       "    }\n",
       "</style>\n",
       "<table border=\"1\" class=\"dataframe\">\n",
       "  <thead>\n",
       "    <tr style=\"text-align: right;\">\n",
       "      <th>disb_quarter</th>\n",
       "      <th>1970Q1</th>\n",
       "      <th>2020Q4</th>\n",
       "      <th>2021Q1</th>\n",
       "      <th>2021Q2</th>\n",
       "      <th>2021Q3</th>\n",
       "      <th>2021Q4</th>\n",
       "      <th>2022Q1</th>\n",
       "      <th>2022Q2</th>\n",
       "      <th>2022Q3</th>\n",
       "      <th>2022Q4</th>\n",
       "      <th>2023Q1</th>\n",
       "      <th>2023Q2</th>\n",
       "      <th>2023Q3</th>\n",
       "      <th>2023Q4</th>\n",
       "      <th>2024Q2</th>\n",
       "      <th>2024Q3</th>\n",
       "      <th>2024Q4</th>\n",
       "      <th>2025Q1</th>\n",
       "    </tr>\n",
       "    <tr>\n",
       "      <th>product</th>\n",
       "      <th></th>\n",
       "      <th></th>\n",
       "      <th></th>\n",
       "      <th></th>\n",
       "      <th></th>\n",
       "      <th></th>\n",
       "      <th></th>\n",
       "      <th></th>\n",
       "      <th></th>\n",
       "      <th></th>\n",
       "      <th></th>\n",
       "      <th></th>\n",
       "      <th></th>\n",
       "      <th></th>\n",
       "      <th></th>\n",
       "      <th></th>\n",
       "      <th></th>\n",
       "      <th></th>\n",
       "    </tr>\n",
       "  </thead>\n",
       "  <tbody>\n",
       "    <tr>\n",
       "      <th>B2B</th>\n",
       "      <td>0.0</td>\n",
       "      <td>0.0</td>\n",
       "      <td>0.0</td>\n",
       "      <td>0.0</td>\n",
       "      <td>0.0</td>\n",
       "      <td>0.00</td>\n",
       "      <td>0.00</td>\n",
       "      <td>167680.26</td>\n",
       "      <td>1332733.16</td>\n",
       "      <td>5437091.49</td>\n",
       "      <td>8681819.00</td>\n",
       "      <td>8250265.87</td>\n",
       "      <td>13109860.18</td>\n",
       "      <td>10909202.25</td>\n",
       "      <td>6867.34</td>\n",
       "      <td>141984.28</td>\n",
       "      <td>127093.82</td>\n",
       "      <td>172795.73</td>\n",
       "    </tr>\n",
       "    <tr>\n",
       "      <th>Core product</th>\n",
       "      <td>0.0</td>\n",
       "      <td>27826.0</td>\n",
       "      <td>237471.0</td>\n",
       "      <td>1741997.0</td>\n",
       "      <td>1991501.0</td>\n",
       "      <td>3583940.01</td>\n",
       "      <td>16527645.80</td>\n",
       "      <td>43366097.80</td>\n",
       "      <td>41096128.91</td>\n",
       "      <td>46652990.43</td>\n",
       "      <td>54607932.28</td>\n",
       "      <td>64294481.17</td>\n",
       "      <td>60037474.83</td>\n",
       "      <td>31383061.66</td>\n",
       "      <td>0.00</td>\n",
       "      <td>0.00</td>\n",
       "      <td>0.00</td>\n",
       "      <td>0.00</td>\n",
       "    </tr>\n",
       "    <tr>\n",
       "      <th>Others</th>\n",
       "      <td>0.0</td>\n",
       "      <td>0.0</td>\n",
       "      <td>0.0</td>\n",
       "      <td>0.0</td>\n",
       "      <td>0.0</td>\n",
       "      <td>0.00</td>\n",
       "      <td>268395.28</td>\n",
       "      <td>312531.65</td>\n",
       "      <td>243025.00</td>\n",
       "      <td>215679.85</td>\n",
       "      <td>264647.00</td>\n",
       "      <td>240361.16</td>\n",
       "      <td>231765.00</td>\n",
       "      <td>160977.00</td>\n",
       "      <td>0.00</td>\n",
       "      <td>1794600.00</td>\n",
       "      <td>9673355.00</td>\n",
       "      <td>2941500.00</td>\n",
       "    </tr>\n",
       "    <tr>\n",
       "      <th>Term loans</th>\n",
       "      <td>0.0</td>\n",
       "      <td>0.0</td>\n",
       "      <td>0.0</td>\n",
       "      <td>0.0</td>\n",
       "      <td>0.0</td>\n",
       "      <td>0.00</td>\n",
       "      <td>0.00</td>\n",
       "      <td>0.00</td>\n",
       "      <td>0.00</td>\n",
       "      <td>0.00</td>\n",
       "      <td>0.00</td>\n",
       "      <td>5230796.50</td>\n",
       "      <td>43659796.38</td>\n",
       "      <td>2957701.82</td>\n",
       "      <td>0.00</td>\n",
       "      <td>0.00</td>\n",
       "      <td>0.00</td>\n",
       "      <td>0.00</td>\n",
       "    </tr>\n",
       "    <tr>\n",
       "      <th>experiment product</th>\n",
       "      <td>0.0</td>\n",
       "      <td>0.0</td>\n",
       "      <td>37489.0</td>\n",
       "      <td>910290.0</td>\n",
       "      <td>1253166.0</td>\n",
       "      <td>2895815.00</td>\n",
       "      <td>13393164.27</td>\n",
       "      <td>24579702.71</td>\n",
       "      <td>22034011.91</td>\n",
       "      <td>20484787.37</td>\n",
       "      <td>18710522.77</td>\n",
       "      <td>21060155.96</td>\n",
       "      <td>18277442.43</td>\n",
       "      <td>9769502.26</td>\n",
       "      <td>0.00</td>\n",
       "      <td>0.00</td>\n",
       "      <td>0.00</td>\n",
       "      <td>0.00</td>\n",
       "    </tr>\n",
       "  </tbody>\n",
       "</table>\n",
       "</div>"
      ],
      "text/plain": [
       "disb_quarter        1970Q1   2020Q4    2021Q1     2021Q2     2021Q3  \\\n",
       "product                                                               \n",
       "B2B                    0.0      0.0       0.0        0.0        0.0   \n",
       "Core product           0.0  27826.0  237471.0  1741997.0  1991501.0   \n",
       "Others                 0.0      0.0       0.0        0.0        0.0   \n",
       "Term loans             0.0      0.0       0.0        0.0        0.0   \n",
       "experiment product     0.0      0.0   37489.0   910290.0  1253166.0   \n",
       "\n",
       "disb_quarter            2021Q4       2022Q1       2022Q2       2022Q3  \\\n",
       "product                                                                 \n",
       "B2B                       0.00         0.00    167680.26   1332733.16   \n",
       "Core product        3583940.01  16527645.80  43366097.80  41096128.91   \n",
       "Others                    0.00    268395.28    312531.65    243025.00   \n",
       "Term loans                0.00         0.00         0.00         0.00   \n",
       "experiment product  2895815.00  13393164.27  24579702.71  22034011.91   \n",
       "\n",
       "disb_quarter             2022Q4       2023Q1       2023Q2       2023Q3  \\\n",
       "product                                                                  \n",
       "B2B                  5437091.49   8681819.00   8250265.87  13109860.18   \n",
       "Core product        46652990.43  54607932.28  64294481.17  60037474.83   \n",
       "Others                215679.85    264647.00    240361.16    231765.00   \n",
       "Term loans                 0.00         0.00   5230796.50  43659796.38   \n",
       "experiment product  20484787.37  18710522.77  21060155.96  18277442.43   \n",
       "\n",
       "disb_quarter             2023Q4   2024Q2      2024Q3      2024Q4      2025Q1  \n",
       "product                                                                       \n",
       "B2B                 10909202.25  6867.34   141984.28   127093.82   172795.73  \n",
       "Core product        31383061.66     0.00        0.00        0.00        0.00  \n",
       "Others                160977.00     0.00  1794600.00  9673355.00  2941500.00  \n",
       "Term loans           2957701.82     0.00        0.00        0.00        0.00  \n",
       "experiment product   9769502.26     0.00        0.00        0.00        0.00  "
      ]
     },
     "execution_count": 220,
     "metadata": {},
     "output_type": "execute_result"
    }
   ],
   "source": [
    "pivot_disb = loan_tape_data.groupby(['product', 'disb_quarter'])['net_disbursed_amount'].sum().unstack(fill_value=0)\n",
    "pivot_disb"
   ]
  },
  {
   "cell_type": "code",
   "execution_count": 215,
   "metadata": {},
   "outputs": [],
   "source": [
    "loan_tape_data[\"created_time\"] = pd.to_datetime(loan_tape_data[\"created_time\"])"
   ]
  },
  {
   "cell_type": "code",
   "execution_count": 216,
   "metadata": {},
   "outputs": [],
   "source": [
    "loan_tape_data[\"disb_quarter\"] = loan_tape_data[\"created_time\"].dt.to_period('Q')"
   ]
  }
 ],
 "metadata": {
  "kernelspec": {
   "display_name": "Python 3",
   "language": "python",
   "name": "python3"
  },
  "language_info": {
   "codemirror_mode": {
    "name": "ipython",
    "version": 3
   },
   "file_extension": ".py",
   "mimetype": "text/x-python",
   "name": "python",
   "nbconvert_exporter": "python",
   "pygments_lexer": "ipython3",
   "version": "3.13.0"
  }
 },
 "nbformat": 4,
 "nbformat_minor": 2
}
