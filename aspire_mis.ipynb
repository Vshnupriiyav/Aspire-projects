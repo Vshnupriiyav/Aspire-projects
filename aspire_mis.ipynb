{
 "cells": [
  {
   "cell_type": "code",
   "execution_count": 5,
   "metadata": {},
   "outputs": [],
   "source": [
    "import json\n",
    "import numpy as np\n",
    "import pandas as pd"
   ]
  },
  {
   "cell_type": "code",
   "execution_count": 4,
   "metadata": {},
   "outputs": [],
   "source": [
    "import sys\n",
    "sys.path.append(r'C:/Users/vshnu/OneDrive/Desktop/Vishnuperson/RE/aspire_')\n",
    "from connector import data_fetch_v2"
   ]
  },
  {
   "cell_type": "markdown",
   "metadata": {},
   "source": [
    "product name"
   ]
  },
  {
   "cell_type": "code",
   "execution_count": null,
   "metadata": {},
   "outputs": [],
   "source": [
    "prod = f\"\"\"\n",
    "select user_id, prod_group, json_data, lender_id from sanction \"\"\"\n",
    "flag,prod_df, error_msg = data_fetch_v2(prod, host=\"13.126.97.63\")"
   ]
  },
  {
   "cell_type": "code",
   "execution_count": 41,
   "metadata": {},
   "outputs": [
    {
     "data": {
      "text/html": [
       "<div>\n",
       "<style scoped>\n",
       "    .dataframe tbody tr th:only-of-type {\n",
       "        vertical-align: middle;\n",
       "    }\n",
       "\n",
       "    .dataframe tbody tr th {\n",
       "        vertical-align: top;\n",
       "    }\n",
       "\n",
       "    .dataframe thead th {\n",
       "        text-align: right;\n",
       "    }\n",
       "</style>\n",
       "<table border=\"1\" class=\"dataframe\">\n",
       "  <thead>\n",
       "    <tr style=\"text-align: right;\">\n",
       "      <th></th>\n",
       "      <th>user_id</th>\n",
       "      <th>lender_name</th>\n",
       "      <th>product</th>\n",
       "    </tr>\n",
       "  </thead>\n",
       "  <tbody>\n",
       "    <tr>\n",
       "      <th>0</th>\n",
       "      <td>5828b717-bbd1-46fd-b579-4bc21cd2a0d8</td>\n",
       "      <td>liqui_loans</td>\n",
       "      <td>4M</td>\n",
       "    </tr>\n",
       "    <tr>\n",
       "      <th>1</th>\n",
       "      <td>41c99020-32a6-4911-afd3-313f08de9e03</td>\n",
       "      <td>liqui_loans</td>\n",
       "      <td>4M</td>\n",
       "    </tr>\n",
       "    <tr>\n",
       "      <th>2</th>\n",
       "      <td>a832e010-c86c-434c-8f3f-9c3d8c843617</td>\n",
       "      <td>liqui_loans</td>\n",
       "      <td>4M</td>\n",
       "    </tr>\n",
       "    <tr>\n",
       "      <th>3</th>\n",
       "      <td>1f2b7fe3-77e6-43e3-96aa-7cf85f7f838e</td>\n",
       "      <td>liqui_loans</td>\n",
       "      <td>4M</td>\n",
       "    </tr>\n",
       "  </tbody>\n",
       "</table>\n",
       "</div>"
      ],
      "text/plain": [
       "                                user_id  lender_name product\n",
       "0  5828b717-bbd1-46fd-b579-4bc21cd2a0d8  liqui_loans      4M\n",
       "1  41c99020-32a6-4911-afd3-313f08de9e03  liqui_loans      4M\n",
       "2  a832e010-c86c-434c-8f3f-9c3d8c843617  liqui_loans      4M\n",
       "3  1f2b7fe3-77e6-43e3-96aa-7cf85f7f838e  liqui_loans      4M"
      ]
     },
     "execution_count": 41,
     "metadata": {},
     "output_type": "execute_result"
    }
   ],
   "source": [
    "prod_df.head(4)"
   ]
  },
  {
   "cell_type": "code",
   "execution_count": 30,
   "metadata": {},
   "outputs": [
    {
     "data": {
      "text/plain": [
       "user_id        object\n",
       "prod_group     object\n",
       "b2b_partner    object\n",
       "lender_name    object\n",
       "product        object\n",
       "dtype: object"
      ]
     },
     "execution_count": 30,
     "metadata": {},
     "output_type": "execute_result"
    }
   ],
   "source": [
    "prod_df.dtypes"
   ]
  },
  {
   "cell_type": "code",
   "execution_count": 10,
   "metadata": {},
   "outputs": [],
   "source": [
    "prod_df[\"b2b_partner\"] = prod_df['json_data'].apply(lambda x: json.loads(x).get(\"coupon_code_partner\",\"\") )"
   ]
  },
  {
   "cell_type": "code",
   "execution_count": 39,
   "metadata": {},
   "outputs": [],
   "source": [
    "prod_df= prod_df.drop(columns=['b2b_partner','prod_group'])"
   ]
  },
  {
   "cell_type": "code",
   "execution_count": 17,
   "metadata": {},
   "outputs": [],
   "source": [
    "prod_df[\"lender_name\"] = prod_df[\"lender_id\"].apply(lambda x: 'AVANTI' if x == \"ed1f0ae3-95ce-4708-9dd9-f0dc98dba535\" else\n",
    "                                                    'Trillion loans' if x == \"e4c85d41-2b12-4fd1-8230-b55df25f0925\"  else\n",
    "                                                    'aspire_finance' if x == \"aab6357e-5f15-4182-b4f6-a9281a28e3ed\" else\n",
    "                                                     \"liqui_loans\" if x == \"7feba239-fc0d-49a5-98e9-4fe10b40bc7a\" else \"other\")"
   ]
  },
  {
   "cell_type": "code",
   "execution_count": 36,
   "metadata": {},
   "outputs": [],
   "source": [
    "prod_df[\"product\"] = prod_df['b2b_partner'].fillna(prod_df['prod_group'])"
   ]
  },
  {
   "cell_type": "code",
   "execution_count": 35,
   "metadata": {},
   "outputs": [],
   "source": [
    "prod_df['b2b_partner']= prod_df['b2b_partner'].replace(\"\", np.nan)"
   ]
  },
  {
   "cell_type": "code",
   "execution_count": null,
   "metadata": {},
   "outputs": [],
   "source": [
    "prod_df.groupby('product')['user_id'].count()"
   ]
  },
  {
   "cell_type": "markdown",
   "metadata": {},
   "source": [
    "Disbursal"
   ]
  },
  {
   "cell_type": "code",
   "execution_count": null,
   "metadata": {},
   "outputs": [],
   "source": [
    "disb = f\"\"\"\n",
    "select user_id, net_disbursed_amount, created_time, loan_start_date, utr, status from merchant_payments \"\"\"\n",
    "flag,disb_df, error_msg = data_fetch_v2(disb, host=\"13.126.97.63\")"
   ]
  },
  {
   "cell_type": "code",
   "execution_count": 72,
   "metadata": {},
   "outputs": [
    {
     "data": {
      "text/html": [
       "<div>\n",
       "<style scoped>\n",
       "    .dataframe tbody tr th:only-of-type {\n",
       "        vertical-align: middle;\n",
       "    }\n",
       "\n",
       "    .dataframe tbody tr th {\n",
       "        vertical-align: top;\n",
       "    }\n",
       "\n",
       "    .dataframe thead th {\n",
       "        text-align: right;\n",
       "    }\n",
       "</style>\n",
       "<table border=\"1\" class=\"dataframe\">\n",
       "  <thead>\n",
       "    <tr style=\"text-align: right;\">\n",
       "      <th></th>\n",
       "      <th>user_id</th>\n",
       "      <th>net_disbursed_amount</th>\n",
       "      <th>utr</th>\n",
       "      <th>txn_date</th>\n",
       "    </tr>\n",
       "  </thead>\n",
       "  <tbody>\n",
       "    <tr>\n",
       "      <th>0</th>\n",
       "      <td>41c99020-32a6-4911-afd3-313f08de9e03</td>\n",
       "      <td>310.0</td>\n",
       "      <td>None</td>\n",
       "      <td>2020-11</td>\n",
       "    </tr>\n",
       "    <tr>\n",
       "      <th>1</th>\n",
       "      <td>41c99020-32a6-4911-afd3-313f08de9e03</td>\n",
       "      <td>900.0</td>\n",
       "      <td>031820136692</td>\n",
       "      <td>2020-11</td>\n",
       "    </tr>\n",
       "    <tr>\n",
       "      <th>2</th>\n",
       "      <td>a832e010-c86c-434c-8f3f-9c3d8c843617</td>\n",
       "      <td>60.0</td>\n",
       "      <td>031921017922</td>\n",
       "      <td>2020-11</td>\n",
       "    </tr>\n",
       "  </tbody>\n",
       "</table>\n",
       "</div>"
      ],
      "text/plain": [
       "                                user_id  net_disbursed_amount           utr  \\\n",
       "0  41c99020-32a6-4911-afd3-313f08de9e03                 310.0          None   \n",
       "1  41c99020-32a6-4911-afd3-313f08de9e03                 900.0  031820136692   \n",
       "2  a832e010-c86c-434c-8f3f-9c3d8c843617                  60.0  031921017922   \n",
       "\n",
       "  txn_date  \n",
       "0  2020-11  \n",
       "1  2020-11  \n",
       "2  2020-11  "
      ]
     },
     "execution_count": 72,
     "metadata": {},
     "output_type": "execute_result"
    }
   ],
   "source": [
    "disb_df.head(3)"
   ]
  },
  {
   "cell_type": "code",
   "execution_count": 46,
   "metadata": {},
   "outputs": [],
   "source": [
    "disb_df = disb_df[disb_df['status']=='success']"
   ]
  },
  {
   "cell_type": "code",
   "execution_count": 61,
   "metadata": {},
   "outputs": [],
   "source": [
    "disb_df[\"txn_date\"] = disb_df[\"loan_start_date\"].fillna(disb_df[\"created_time\"])"
   ]
  },
  {
   "cell_type": "code",
   "execution_count": 62,
   "metadata": {},
   "outputs": [],
   "source": [
    "disb_df['txn_date'] = disb_df['txn_date'].astype(str).str[:7]\n"
   ]
  },
  {
   "cell_type": "code",
   "execution_count": 66,
   "metadata": {},
   "outputs": [],
   "source": [
    "disb_df = disb_df.drop(columns=['loan_start_date','created_time'])"
   ]
  },
  {
   "cell_type": "code",
   "execution_count": 70,
   "metadata": {},
   "outputs": [],
   "source": [
    "disb_df = disb_df.drop(columns= ['status'])"
   ]
  },
  {
   "cell_type": "code",
   "execution_count": 73,
   "metadata": {},
   "outputs": [],
   "source": [
    "monthly_disb = disb_df.merge(prod_df, on= 'user_id', how='left')"
   ]
  },
  {
   "cell_type": "code",
   "execution_count": 77,
   "metadata": {},
   "outputs": [],
   "source": [
    "monthly_disb = monthly_disb[monthly_disb[\"fl_disbursed\"]==1]"
   ]
  },
  {
   "cell_type": "code",
   "execution_count": 75,
   "metadata": {},
   "outputs": [],
   "source": [
    "import numpy as np\n",
    "\n",
    "monthly_disb[\"fl_disbursed\"] = np.where(\n",
    "    ((monthly_disb[\"product\"] == '4M') & (monthly_disb[\"utr\"].notna())) | \n",
    "    (monthly_disb[\"product\"] != '4M'),\n",
    "    1, \n",
    "    0\n",
    ")\n"
   ]
  },
  {
   "cell_type": "code",
   "execution_count": 83,
   "metadata": {},
   "outputs": [
    {
     "name": "stderr",
     "output_type": "stream",
     "text": [
      "C:\\Users\\vshnu\\AppData\\Local\\Temp\\ipykernel_22488\\2496881396.py:1: SettingWithCopyWarning: \n",
      "A value is trying to be set on a copy of a slice from a DataFrame.\n",
      "Try using .loc[row_indexer,col_indexer] = value instead\n",
      "\n",
      "See the caveats in the documentation: https://pandas.pydata.org/pandas-docs/stable/user_guide/indexing.html#returning-a-view-versus-a-copy\n",
      "  monthly_disb[\"year\"] =  disb_df['txn_date'].astype(str).str[:4]\n"
     ]
    }
   ],
   "source": [
    "monthly_disb[\"year\"] =  disb_df['txn_date'].astype(str).str[:4]\n"
   ]
  },
  {
   "cell_type": "code",
   "execution_count": 92,
   "metadata": {},
   "outputs": [
    {
     "data": {
      "text/plain": [
       "user_id                  object\n",
       "net_disbursed_amount    float64\n",
       "utr                      object\n",
       "txn_date                 object\n",
       "lender_name              object\n",
       "product                  object\n",
       "fl_disbursed              int64\n",
       "year                     object\n",
       "dtype: object"
      ]
     },
     "execution_count": 92,
     "metadata": {},
     "output_type": "execute_result"
    }
   ],
   "source": [
    "monthly_disb.dtypes"
   ]
  },
  {
   "cell_type": "code",
   "execution_count": 93,
   "metadata": {},
   "outputs": [],
   "source": [
    "disbursal = round(monthly_disb.groupby(['product', 'year'])['net_disbursed_amount']\n",
    "                  .sum()\n",
    "                  .unstack(fill_value=0), 2)\n"
   ]
  },
  {
   "cell_type": "code",
   "execution_count": 98,
   "metadata": {},
   "outputs": [
    {
     "name": "stdout",
     "output_type": "stream",
     "text": [
      "year         2020        2021         2022         2023\n",
      "product                                                \n",
      "1M_OD         0.0         0.0          0.0   14085955.0\n",
      "4M        34904.0 13018574.69 233500198.93 203940706.42\n",
      "4M_0FEES      0.0         0.0    998748.68    572657.16\n",
      "AGRI_1M       0.0         0.0          0.0      49580.0\n",
      "ANX_1M        0.0         0.0         10.0          0.0\n",
      "APNA          0.0         0.0     574750.0     519750.0\n",
      "APNA_4M       0.0         0.0          0.0     107000.0\n",
      "APNA_5M       0.0         0.0          0.0      32000.0\n",
      "BIDSO_1M      0.0         0.0          0.0      13846.0\n",
      "BZTM_1M       0.0         0.0         40.0     285105.0\n",
      "FLPKRT_1M     0.0         0.0   9163749.81  27313456.13\n",
      "NINJA_1M      0.0         0.0          0.0    4065978.2\n",
      "PL            0.0         0.0          0.0  40645628.76\n",
      "REDB_1M       0.0         0.0          0.0    181995.17\n",
      "essmart       0.0         0.0          0.0       8400.0\n",
      "yodacart      0.0         0.0          0.0     220371.0\n"
     ]
    }
   ],
   "source": [
    "import pandas as pd\n",
    "\n",
    "pd.set_option('display.float_format', '{:}'.format)\n",
    "print(disbursal)\n"
   ]
  },
  {
   "cell_type": "code",
   "execution_count": null,
   "metadata": {},
   "outputs": [],
   "source": []
  }
 ],
 "metadata": {
  "kernelspec": {
   "display_name": "Python 3",
   "language": "python",
   "name": "python3"
  },
  "language_info": {
   "codemirror_mode": {
    "name": "ipython",
    "version": 3
   },
   "file_extension": ".py",
   "mimetype": "text/x-python",
   "name": "python",
   "nbconvert_exporter": "python",
   "pygments_lexer": "ipython3",
   "version": "3.13.0"
  }
 },
 "nbformat": 4,
 "nbformat_minor": 2
}
