{
 "cells": [
  {
   "cell_type": "code",
   "execution_count": 1,
   "metadata": {},
   "outputs": [],
   "source": [
    "import sys\n",
    "sys.path.append(r'C:/Users/vshnu/OneDrive/Desktop/Vishnuperson/RE/aspire_')\n",
    "from connector import data_fetch_v2"
   ]
  },
  {
   "cell_type": "code",
   "execution_count": 2,
   "metadata": {},
   "outputs": [],
   "source": [
    "import pandas as pd"
   ]
  },
  {
   "cell_type": "code",
   "execution_count": 3,
   "metadata": {},
   "outputs": [
    {
     "ename": "NameError",
     "evalue": "name 'transaction_df' is not defined",
     "output_type": "error",
     "traceback": [
      "\u001b[1;31m---------------------------------------------------------------------------\u001b[0m",
      "\u001b[1;31mNameError\u001b[0m                                 Traceback (most recent call last)",
      "Cell \u001b[1;32mIn[3], line 1\u001b[0m\n\u001b[1;32m----> 1\u001b[0m \u001b[43mtransaction_df\u001b[49m\u001b[38;5;241m.\u001b[39mdtypes\n",
      "\u001b[1;31mNameError\u001b[0m: name 'transaction_df' is not defined"
     ]
    }
   ],
   "source": [
    "transaction_df.dtypes"
   ]
  },
  {
   "cell_type": "code",
   "execution_count": 5,
   "metadata": {},
   "outputs": [
    {
     "name": "stdout",
     "output_type": "stream",
     "text": [
      "                                     user_id        created_time\n",
      "0       41c99020-32a6-4911-afd3-313f08de9e03 2020-11-14 01:24:00\n",
      "1       41c99020-32a6-4911-afd3-313f08de9e03 2020-11-14 01:55:31\n",
      "2       a832e010-c86c-434c-8f3f-9c3d8c843617 2020-11-15 03:21:20\n",
      "3       1f2b7fe3-77e6-43e3-96aa-7cf85f7f838e 2020-11-15 13:40:12\n",
      "4       a832e010-c86c-434c-8f3f-9c3d8c843617 2020-11-15 17:03:06\n",
      "...                                      ...                 ...\n",
      "373717  7f8fac1d-1e37-4eb3-a4b4-e79e300671db 2025-02-11 12:33:46\n",
      "373718  e564e863-5d39-4939-9e32-2e0ea89b4fdc 2025-02-11 13:30:49\n",
      "373719  31dce5e4-3288-4fa1-ad04-407bd17ff3af 2025-02-11 15:16:36\n",
      "373720  87875520-9894-4a63-92a7-3114ad5ae341 2025-02-11 16:28:27\n",
      "373721  1f14b406-e883-4df6-af3a-55d14201bc13 2025-02-11 16:28:44\n",
      "\n",
      "[373722 rows x 2 columns]\n",
      "                                     user_id        created_time\n",
      "0       41c99020-32a6-4911-afd3-313f08de9e03 2020-11-14 01:24:00\n",
      "1       41c99020-32a6-4911-afd3-313f08de9e03 2020-11-14 01:55:31\n",
      "2       a832e010-c86c-434c-8f3f-9c3d8c843617 2020-11-15 03:21:20\n",
      "3       1f2b7fe3-77e6-43e3-96aa-7cf85f7f838e 2020-11-15 13:40:12\n",
      "4       a832e010-c86c-434c-8f3f-9c3d8c843617 2020-11-15 17:03:06\n",
      "...                                      ...                 ...\n",
      "373717  7f8fac1d-1e37-4eb3-a4b4-e79e300671db 2025-02-11 12:33:46\n",
      "373718  e564e863-5d39-4939-9e32-2e0ea89b4fdc 2025-02-11 13:30:49\n",
      "373719  31dce5e4-3288-4fa1-ad04-407bd17ff3af 2025-02-11 15:16:36\n",
      "373720  87875520-9894-4a63-92a7-3114ad5ae341 2025-02-11 16:28:27\n",
      "373721  1f14b406-e883-4df6-af3a-55d14201bc13 2025-02-11 16:28:44\n",
      "\n",
      "[373722 rows x 2 columns]\n"
     ]
    }
   ],
   "source": [
    "transaction = f\"\"\"\n",
    "select user_id, created_time\n",
    "from merchant_payments where status = \"success\" \"\"\"\n",
    "flag,transaction_df, error_msg = data_fetch_v2(transaction, host=\"13.126.97.63\")"
   ]
  },
  {
   "cell_type": "code",
   "execution_count": 13,
   "metadata": {},
   "outputs": [
    {
     "data": {
      "text/plain": [
       "user_id                 object\n",
       "created_time    datetime64[ns]\n",
       "dtype: object"
      ]
     },
     "execution_count": 13,
     "metadata": {},
     "output_type": "execute_result"
    }
   ],
   "source": [
    "transaction_df.dtypes"
   ]
  },
  {
   "cell_type": "code",
   "execution_count": 15,
   "metadata": {},
   "outputs": [
    {
     "data": {
      "text/html": [
       "<div>\n",
       "<style scoped>\n",
       "    .dataframe tbody tr th:only-of-type {\n",
       "        vertical-align: middle;\n",
       "    }\n",
       "\n",
       "    .dataframe tbody tr th {\n",
       "        vertical-align: top;\n",
       "    }\n",
       "\n",
       "    .dataframe thead th {\n",
       "        text-align: right;\n",
       "    }\n",
       "</style>\n",
       "<table border=\"1\" class=\"dataframe\">\n",
       "  <thead>\n",
       "    <tr style=\"text-align: right;\">\n",
       "      <th></th>\n",
       "      <th>user_id</th>\n",
       "      <th>created_time</th>\n",
       "    </tr>\n",
       "  </thead>\n",
       "  <tbody>\n",
       "    <tr>\n",
       "      <th>0</th>\n",
       "      <td>41c99020-32a6-4911-afd3-313f08de9e03</td>\n",
       "      <td>2020-11-14 01:24:00</td>\n",
       "    </tr>\n",
       "    <tr>\n",
       "      <th>1</th>\n",
       "      <td>41c99020-32a6-4911-afd3-313f08de9e03</td>\n",
       "      <td>2020-11-14 01:55:31</td>\n",
       "    </tr>\n",
       "    <tr>\n",
       "      <th>2</th>\n",
       "      <td>a832e010-c86c-434c-8f3f-9c3d8c843617</td>\n",
       "      <td>2020-11-15 03:21:20</td>\n",
       "    </tr>\n",
       "    <tr>\n",
       "      <th>3</th>\n",
       "      <td>1f2b7fe3-77e6-43e3-96aa-7cf85f7f838e</td>\n",
       "      <td>2020-11-15 13:40:12</td>\n",
       "    </tr>\n",
       "    <tr>\n",
       "      <th>4</th>\n",
       "      <td>a832e010-c86c-434c-8f3f-9c3d8c843617</td>\n",
       "      <td>2020-11-15 17:03:06</td>\n",
       "    </tr>\n",
       "    <tr>\n",
       "      <th>...</th>\n",
       "      <td>...</td>\n",
       "      <td>...</td>\n",
       "    </tr>\n",
       "    <tr>\n",
       "      <th>373717</th>\n",
       "      <td>7f8fac1d-1e37-4eb3-a4b4-e79e300671db</td>\n",
       "      <td>2025-02-11 12:33:46</td>\n",
       "    </tr>\n",
       "    <tr>\n",
       "      <th>373718</th>\n",
       "      <td>e564e863-5d39-4939-9e32-2e0ea89b4fdc</td>\n",
       "      <td>2025-02-11 13:30:49</td>\n",
       "    </tr>\n",
       "    <tr>\n",
       "      <th>373719</th>\n",
       "      <td>31dce5e4-3288-4fa1-ad04-407bd17ff3af</td>\n",
       "      <td>2025-02-11 15:16:36</td>\n",
       "    </tr>\n",
       "    <tr>\n",
       "      <th>373720</th>\n",
       "      <td>87875520-9894-4a63-92a7-3114ad5ae341</td>\n",
       "      <td>2025-02-11 16:28:27</td>\n",
       "    </tr>\n",
       "    <tr>\n",
       "      <th>373721</th>\n",
       "      <td>1f14b406-e883-4df6-af3a-55d14201bc13</td>\n",
       "      <td>2025-02-11 16:28:44</td>\n",
       "    </tr>\n",
       "  </tbody>\n",
       "</table>\n",
       "<p>373722 rows × 2 columns</p>\n",
       "</div>"
      ],
      "text/plain": [
       "                                     user_id        created_time\n",
       "0       41c99020-32a6-4911-afd3-313f08de9e03 2020-11-14 01:24:00\n",
       "1       41c99020-32a6-4911-afd3-313f08de9e03 2020-11-14 01:55:31\n",
       "2       a832e010-c86c-434c-8f3f-9c3d8c843617 2020-11-15 03:21:20\n",
       "3       1f2b7fe3-77e6-43e3-96aa-7cf85f7f838e 2020-11-15 13:40:12\n",
       "4       a832e010-c86c-434c-8f3f-9c3d8c843617 2020-11-15 17:03:06\n",
       "...                                      ...                 ...\n",
       "373717  7f8fac1d-1e37-4eb3-a4b4-e79e300671db 2025-02-11 12:33:46\n",
       "373718  e564e863-5d39-4939-9e32-2e0ea89b4fdc 2025-02-11 13:30:49\n",
       "373719  31dce5e4-3288-4fa1-ad04-407bd17ff3af 2025-02-11 15:16:36\n",
       "373720  87875520-9894-4a63-92a7-3114ad5ae341 2025-02-11 16:28:27\n",
       "373721  1f14b406-e883-4df6-af3a-55d14201bc13 2025-02-11 16:28:44\n",
       "\n",
       "[373722 rows x 2 columns]"
      ]
     },
     "execution_count": 15,
     "metadata": {},
     "output_type": "execute_result"
    }
   ],
   "source": [
    "transaction_df"
   ]
  },
  {
   "cell_type": "code",
   "execution_count": 16,
   "metadata": {},
   "outputs": [],
   "source": [
    "transaction_df = transaction_df.rename(columns={\"created_time\":\"txn_date\"})"
   ]
  },
  {
   "cell_type": "code",
   "execution_count": 17,
   "metadata": {},
   "outputs": [
    {
     "ename": "AttributeError",
     "evalue": "'DatetimeProperties' object has no attribute 'to_timestamp'",
     "output_type": "error",
     "traceback": [
      "\u001b[1;31m---------------------------------------------------------------------------\u001b[0m",
      "\u001b[1;31mAttributeError\u001b[0m                            Traceback (most recent call last)",
      "Cell \u001b[1;32mIn[17], line 1\u001b[0m\n\u001b[1;32m----> 1\u001b[0m transaction_df[\u001b[38;5;124m\"\u001b[39m\u001b[38;5;124mtxn_date\u001b[39m\u001b[38;5;124m\"\u001b[39m] \u001b[38;5;241m=\u001b[39m \u001b[43mtransaction_df\u001b[49m\u001b[43m[\u001b[49m\u001b[38;5;124;43m\"\u001b[39;49m\u001b[38;5;124;43mtxn_date\u001b[39;49m\u001b[38;5;124;43m\"\u001b[39;49m\u001b[43m]\u001b[49m\u001b[38;5;241;43m.\u001b[39;49m\u001b[43mdt\u001b[49m\u001b[38;5;241;43m.\u001b[39;49m\u001b[43mto_timestamp\u001b[49m()\n",
      "\u001b[1;31mAttributeError\u001b[0m: 'DatetimeProperties' object has no attribute 'to_timestamp'"
     ]
    }
   ],
   "source": [
    "transaction_df[\"txn_date\"] = transaction_df[\"txn_date\"].dt.to_timestamp()"
   ]
  },
  {
   "cell_type": "code",
   "execution_count": 18,
   "metadata": {},
   "outputs": [],
   "source": [
    "transaction_df[\"cohort_month\"] = transaction_df.groupby(\"user_id\")[\"txn_date\"].transform(\"min\").dt.to_period(\"M\")"
   ]
  },
  {
   "cell_type": "code",
   "execution_count": null,
   "metadata": {},
   "outputs": [],
   "source": [
    "transaction_df[\"txn_date\"] = transaction_df[\"txn_date\"].dt.strftime(\"%Y-%m-\")\n"
   ]
  },
  {
   "cell_type": "code",
   "execution_count": 20,
   "metadata": {},
   "outputs": [
    {
     "data": {
      "text/html": [
       "<div>\n",
       "<style scoped>\n",
       "    .dataframe tbody tr th:only-of-type {\n",
       "        vertical-align: middle;\n",
       "    }\n",
       "\n",
       "    .dataframe tbody tr th {\n",
       "        vertical-align: top;\n",
       "    }\n",
       "\n",
       "    .dataframe thead th {\n",
       "        text-align: right;\n",
       "    }\n",
       "</style>\n",
       "<table border=\"1\" class=\"dataframe\">\n",
       "  <thead>\n",
       "    <tr style=\"text-align: right;\">\n",
       "      <th></th>\n",
       "      <th>user_id</th>\n",
       "      <th>txn_date</th>\n",
       "      <th>cohort_month</th>\n",
       "    </tr>\n",
       "  </thead>\n",
       "  <tbody>\n",
       "    <tr>\n",
       "      <th>0</th>\n",
       "      <td>41c99020-32a6-4911-afd3-313f08de9e03</td>\n",
       "      <td>2020-11-14 01:24:00</td>\n",
       "      <td>2020-11</td>\n",
       "    </tr>\n",
       "    <tr>\n",
       "      <th>1</th>\n",
       "      <td>41c99020-32a6-4911-afd3-313f08de9e03</td>\n",
       "      <td>2020-11-14 01:55:31</td>\n",
       "      <td>2020-11</td>\n",
       "    </tr>\n",
       "    <tr>\n",
       "      <th>2</th>\n",
       "      <td>a832e010-c86c-434c-8f3f-9c3d8c843617</td>\n",
       "      <td>2020-11-15 03:21:20</td>\n",
       "      <td>2020-11</td>\n",
       "    </tr>\n",
       "    <tr>\n",
       "      <th>3</th>\n",
       "      <td>1f2b7fe3-77e6-43e3-96aa-7cf85f7f838e</td>\n",
       "      <td>2020-11-15 13:40:12</td>\n",
       "      <td>2020-11</td>\n",
       "    </tr>\n",
       "    <tr>\n",
       "      <th>4</th>\n",
       "      <td>a832e010-c86c-434c-8f3f-9c3d8c843617</td>\n",
       "      <td>2020-11-15 17:03:06</td>\n",
       "      <td>2020-11</td>\n",
       "    </tr>\n",
       "    <tr>\n",
       "      <th>...</th>\n",
       "      <td>...</td>\n",
       "      <td>...</td>\n",
       "      <td>...</td>\n",
       "    </tr>\n",
       "    <tr>\n",
       "      <th>373717</th>\n",
       "      <td>7f8fac1d-1e37-4eb3-a4b4-e79e300671db</td>\n",
       "      <td>2025-02-11 12:33:46</td>\n",
       "      <td>2024-09</td>\n",
       "    </tr>\n",
       "    <tr>\n",
       "      <th>373718</th>\n",
       "      <td>e564e863-5d39-4939-9e32-2e0ea89b4fdc</td>\n",
       "      <td>2025-02-11 13:30:49</td>\n",
       "      <td>2024-12</td>\n",
       "    </tr>\n",
       "    <tr>\n",
       "      <th>373719</th>\n",
       "      <td>31dce5e4-3288-4fa1-ad04-407bd17ff3af</td>\n",
       "      <td>2025-02-11 15:16:36</td>\n",
       "      <td>2024-10</td>\n",
       "    </tr>\n",
       "    <tr>\n",
       "      <th>373720</th>\n",
       "      <td>87875520-9894-4a63-92a7-3114ad5ae341</td>\n",
       "      <td>2025-02-11 16:28:27</td>\n",
       "      <td>2024-10</td>\n",
       "    </tr>\n",
       "    <tr>\n",
       "      <th>373721</th>\n",
       "      <td>1f14b406-e883-4df6-af3a-55d14201bc13</td>\n",
       "      <td>2025-02-11 16:28:44</td>\n",
       "      <td>2024-10</td>\n",
       "    </tr>\n",
       "  </tbody>\n",
       "</table>\n",
       "<p>373722 rows × 3 columns</p>\n",
       "</div>"
      ],
      "text/plain": [
       "                                     user_id            txn_date cohort_month\n",
       "0       41c99020-32a6-4911-afd3-313f08de9e03 2020-11-14 01:24:00      2020-11\n",
       "1       41c99020-32a6-4911-afd3-313f08de9e03 2020-11-14 01:55:31      2020-11\n",
       "2       a832e010-c86c-434c-8f3f-9c3d8c843617 2020-11-15 03:21:20      2020-11\n",
       "3       1f2b7fe3-77e6-43e3-96aa-7cf85f7f838e 2020-11-15 13:40:12      2020-11\n",
       "4       a832e010-c86c-434c-8f3f-9c3d8c843617 2020-11-15 17:03:06      2020-11\n",
       "...                                      ...                 ...          ...\n",
       "373717  7f8fac1d-1e37-4eb3-a4b4-e79e300671db 2025-02-11 12:33:46      2024-09\n",
       "373718  e564e863-5d39-4939-9e32-2e0ea89b4fdc 2025-02-11 13:30:49      2024-12\n",
       "373719  31dce5e4-3288-4fa1-ad04-407bd17ff3af 2025-02-11 15:16:36      2024-10\n",
       "373720  87875520-9894-4a63-92a7-3114ad5ae341 2025-02-11 16:28:27      2024-10\n",
       "373721  1f14b406-e883-4df6-af3a-55d14201bc13 2025-02-11 16:28:44      2024-10\n",
       "\n",
       "[373722 rows x 3 columns]"
      ]
     },
     "execution_count": 20,
     "metadata": {},
     "output_type": "execute_result"
    }
   ],
   "source": [
    "transaction_df"
   ]
  },
  {
   "cell_type": "code",
   "execution_count": 23,
   "metadata": {},
   "outputs": [],
   "source": [
    "cohort_data = transaction_df.pivot_table(index=\"cohort_month\", columns=\"txn_date\", values=\"user_id\", aggfunc=\"nunique\")"
   ]
  },
  {
   "cell_type": "code",
   "execution_count": null,
   "metadata": {},
   "outputs": [
    {
     "name": "stderr",
     "output_type": "stream",
     "text": [
      "C:\\Users\\vshnu\\AppData\\Local\\Temp\\ipykernel_2320\\391492341.py:2: PerformanceWarning: Adding/subtracting object-dtype array to PeriodArray not vectorized.\n",
      "  transaction_df[\"cohort_index\"] = (transaction_df[\"txn_date\"] - transaction_df[\"cohort_month\"]).apply(lambda x: x.n)\n"
     ]
    },
    {
     "ename": "TypeError",
     "evalue": "unsupported operand type(s) for -: 'Period' and 'str'",
     "output_type": "error",
     "traceback": [
      "\u001b[1;31m---------------------------------------------------------------------------\u001b[0m",
      "\u001b[1;31mTypeError\u001b[0m                                 Traceback (most recent call last)",
      "Cell \u001b[1;32mIn[29], line 2\u001b[0m\n\u001b[0;32m      1\u001b[0m \u001b[38;5;66;03m# Step 3: Compute the cohort index (Month 0,1,2,...)\u001b[39;00m\n\u001b[1;32m----> 2\u001b[0m transaction_df[\u001b[38;5;124m\"\u001b[39m\u001b[38;5;124mcohort_index\u001b[39m\u001b[38;5;124m\"\u001b[39m] \u001b[38;5;241m=\u001b[39m (\u001b[43mtransaction_df\u001b[49m\u001b[43m[\u001b[49m\u001b[38;5;124;43m\"\u001b[39;49m\u001b[38;5;124;43mtxn_date\u001b[39;49m\u001b[38;5;124;43m\"\u001b[39;49m\u001b[43m]\u001b[49m\u001b[43m \u001b[49m\u001b[38;5;241;43m-\u001b[39;49m\u001b[43m \u001b[49m\u001b[43mtransaction_df\u001b[49m\u001b[43m[\u001b[49m\u001b[38;5;124;43m\"\u001b[39;49m\u001b[38;5;124;43mcohort_month\u001b[39;49m\u001b[38;5;124;43m\"\u001b[39;49m\u001b[43m]\u001b[49m)\u001b[38;5;241m.\u001b[39mapply(\u001b[38;5;28;01mlambda\u001b[39;00m x: x\u001b[38;5;241m.\u001b[39mn)\n",
      "File \u001b[1;32m~\\AppData\\Roaming\\Python\\Python313\\site-packages\\pandas\\core\\ops\\common.py:76\u001b[0m, in \u001b[0;36m_unpack_zerodim_and_defer.<locals>.new_method\u001b[1;34m(self, other)\u001b[0m\n\u001b[0;32m     72\u001b[0m             \u001b[38;5;28;01mreturn\u001b[39;00m \u001b[38;5;28mNotImplemented\u001b[39m\n\u001b[0;32m     74\u001b[0m other \u001b[38;5;241m=\u001b[39m item_from_zerodim(other)\n\u001b[1;32m---> 76\u001b[0m \u001b[38;5;28;01mreturn\u001b[39;00m \u001b[43mmethod\u001b[49m\u001b[43m(\u001b[49m\u001b[38;5;28;43mself\u001b[39;49m\u001b[43m,\u001b[49m\u001b[43m \u001b[49m\u001b[43mother\u001b[49m\u001b[43m)\u001b[49m\n",
      "File \u001b[1;32m~\\AppData\\Roaming\\Python\\Python313\\site-packages\\pandas\\core\\arraylike.py:194\u001b[0m, in \u001b[0;36mOpsMixin.__sub__\u001b[1;34m(self, other)\u001b[0m\n\u001b[0;32m    192\u001b[0m \u001b[38;5;129m@unpack_zerodim_and_defer\u001b[39m(\u001b[38;5;124m\"\u001b[39m\u001b[38;5;124m__sub__\u001b[39m\u001b[38;5;124m\"\u001b[39m)\n\u001b[0;32m    193\u001b[0m \u001b[38;5;28;01mdef\u001b[39;00m \u001b[38;5;21m__sub__\u001b[39m(\u001b[38;5;28mself\u001b[39m, other):\n\u001b[1;32m--> 194\u001b[0m     \u001b[38;5;28;01mreturn\u001b[39;00m \u001b[38;5;28;43mself\u001b[39;49m\u001b[38;5;241;43m.\u001b[39;49m\u001b[43m_arith_method\u001b[49m\u001b[43m(\u001b[49m\u001b[43mother\u001b[49m\u001b[43m,\u001b[49m\u001b[43m \u001b[49m\u001b[43moperator\u001b[49m\u001b[38;5;241;43m.\u001b[39;49m\u001b[43msub\u001b[49m\u001b[43m)\u001b[49m\n",
      "File \u001b[1;32m~\\AppData\\Roaming\\Python\\Python313\\site-packages\\pandas\\core\\series.py:6135\u001b[0m, in \u001b[0;36mSeries._arith_method\u001b[1;34m(self, other, op)\u001b[0m\n\u001b[0;32m   6133\u001b[0m \u001b[38;5;28;01mdef\u001b[39;00m \u001b[38;5;21m_arith_method\u001b[39m(\u001b[38;5;28mself\u001b[39m, other, op):\n\u001b[0;32m   6134\u001b[0m     \u001b[38;5;28mself\u001b[39m, other \u001b[38;5;241m=\u001b[39m \u001b[38;5;28mself\u001b[39m\u001b[38;5;241m.\u001b[39m_align_for_op(other)\n\u001b[1;32m-> 6135\u001b[0m     \u001b[38;5;28;01mreturn\u001b[39;00m \u001b[43mbase\u001b[49m\u001b[38;5;241;43m.\u001b[39;49m\u001b[43mIndexOpsMixin\u001b[49m\u001b[38;5;241;43m.\u001b[39;49m\u001b[43m_arith_method\u001b[49m\u001b[43m(\u001b[49m\u001b[38;5;28;43mself\u001b[39;49m\u001b[43m,\u001b[49m\u001b[43m \u001b[49m\u001b[43mother\u001b[49m\u001b[43m,\u001b[49m\u001b[43m \u001b[49m\u001b[43mop\u001b[49m\u001b[43m)\u001b[49m\n",
      "File \u001b[1;32m~\\AppData\\Roaming\\Python\\Python313\\site-packages\\pandas\\core\\base.py:1382\u001b[0m, in \u001b[0;36mIndexOpsMixin._arith_method\u001b[1;34m(self, other, op)\u001b[0m\n\u001b[0;32m   1379\u001b[0m     rvalues \u001b[38;5;241m=\u001b[39m np\u001b[38;5;241m.\u001b[39marange(rvalues\u001b[38;5;241m.\u001b[39mstart, rvalues\u001b[38;5;241m.\u001b[39mstop, rvalues\u001b[38;5;241m.\u001b[39mstep)\n\u001b[0;32m   1381\u001b[0m \u001b[38;5;28;01mwith\u001b[39;00m np\u001b[38;5;241m.\u001b[39merrstate(\u001b[38;5;28mall\u001b[39m\u001b[38;5;241m=\u001b[39m\u001b[38;5;124m\"\u001b[39m\u001b[38;5;124mignore\u001b[39m\u001b[38;5;124m\"\u001b[39m):\n\u001b[1;32m-> 1382\u001b[0m     result \u001b[38;5;241m=\u001b[39m \u001b[43mops\u001b[49m\u001b[38;5;241;43m.\u001b[39;49m\u001b[43marithmetic_op\u001b[49m\u001b[43m(\u001b[49m\u001b[43mlvalues\u001b[49m\u001b[43m,\u001b[49m\u001b[43m \u001b[49m\u001b[43mrvalues\u001b[49m\u001b[43m,\u001b[49m\u001b[43m \u001b[49m\u001b[43mop\u001b[49m\u001b[43m)\u001b[49m\n\u001b[0;32m   1384\u001b[0m \u001b[38;5;28;01mreturn\u001b[39;00m \u001b[38;5;28mself\u001b[39m\u001b[38;5;241m.\u001b[39m_construct_result(result, name\u001b[38;5;241m=\u001b[39mres_name)\n",
      "File \u001b[1;32m~\\AppData\\Roaming\\Python\\Python313\\site-packages\\pandas\\core\\ops\\array_ops.py:273\u001b[0m, in \u001b[0;36marithmetic_op\u001b[1;34m(left, right, op)\u001b[0m\n\u001b[0;32m    260\u001b[0m \u001b[38;5;66;03m# NB: We assume that extract_array and ensure_wrapped_if_datetimelike\u001b[39;00m\n\u001b[0;32m    261\u001b[0m \u001b[38;5;66;03m#  have already been called on `left` and `right`,\u001b[39;00m\n\u001b[0;32m    262\u001b[0m \u001b[38;5;66;03m#  and `maybe_prepare_scalar_for_op` has already been called on `right`\u001b[39;00m\n\u001b[0;32m    263\u001b[0m \u001b[38;5;66;03m# We need to special-case datetime64/timedelta64 dtypes (e.g. because numpy\u001b[39;00m\n\u001b[0;32m    264\u001b[0m \u001b[38;5;66;03m# casts integer dtypes to timedelta64 when operating with timedelta64 - GH#22390)\u001b[39;00m\n\u001b[0;32m    266\u001b[0m \u001b[38;5;28;01mif\u001b[39;00m (\n\u001b[0;32m    267\u001b[0m     should_extension_dispatch(left, right)\n\u001b[0;32m    268\u001b[0m     \u001b[38;5;129;01mor\u001b[39;00m \u001b[38;5;28misinstance\u001b[39m(right, (Timedelta, BaseOffset, Timestamp))\n\u001b[1;32m   (...)\u001b[0m\n\u001b[0;32m    271\u001b[0m     \u001b[38;5;66;03m# Timedelta/Timestamp and other custom scalars are included in the check\u001b[39;00m\n\u001b[0;32m    272\u001b[0m     \u001b[38;5;66;03m# because numexpr will fail on it, see GH#31457\u001b[39;00m\n\u001b[1;32m--> 273\u001b[0m     res_values \u001b[38;5;241m=\u001b[39m \u001b[43mop\u001b[49m\u001b[43m(\u001b[49m\u001b[43mleft\u001b[49m\u001b[43m,\u001b[49m\u001b[43m \u001b[49m\u001b[43mright\u001b[49m\u001b[43m)\u001b[49m\n\u001b[0;32m    274\u001b[0m \u001b[38;5;28;01melse\u001b[39;00m:\n\u001b[0;32m    275\u001b[0m     \u001b[38;5;66;03m# TODO we should handle EAs consistently and move this check before the if/else\u001b[39;00m\n\u001b[0;32m    276\u001b[0m     \u001b[38;5;66;03m# (https://github.com/pandas-dev/pandas/issues/41165)\u001b[39;00m\n\u001b[0;32m    277\u001b[0m     \u001b[38;5;66;03m# error: Argument 2 to \"_bool_arith_check\" has incompatible type\u001b[39;00m\n\u001b[0;32m    278\u001b[0m     \u001b[38;5;66;03m# \"Union[ExtensionArray, ndarray[Any, Any]]\"; expected \"ndarray[Any, Any]\"\u001b[39;00m\n\u001b[0;32m    279\u001b[0m     _bool_arith_check(op, left, right)  \u001b[38;5;66;03m# type: ignore[arg-type]\u001b[39;00m\n",
      "File \u001b[1;32m~\\AppData\\Roaming\\Python\\Python313\\site-packages\\pandas\\core\\arrays\\base.py:2282\u001b[0m, in \u001b[0;36mExtensionArray.__array_ufunc__\u001b[1;34m(self, ufunc, method, *inputs, **kwargs)\u001b[0m\n\u001b[0;32m   2277\u001b[0m \u001b[38;5;28;01mif\u001b[39;00m \u001b[38;5;28many\u001b[39m(\n\u001b[0;32m   2278\u001b[0m     \u001b[38;5;28misinstance\u001b[39m(other, (ABCSeries, ABCIndex, ABCDataFrame)) \u001b[38;5;28;01mfor\u001b[39;00m other \u001b[38;5;129;01min\u001b[39;00m inputs\n\u001b[0;32m   2279\u001b[0m ):\n\u001b[0;32m   2280\u001b[0m     \u001b[38;5;28;01mreturn\u001b[39;00m \u001b[38;5;28mNotImplemented\u001b[39m\n\u001b[1;32m-> 2282\u001b[0m result \u001b[38;5;241m=\u001b[39m \u001b[43marraylike\u001b[49m\u001b[38;5;241;43m.\u001b[39;49m\u001b[43mmaybe_dispatch_ufunc_to_dunder_op\u001b[49m\u001b[43m(\u001b[49m\n\u001b[0;32m   2283\u001b[0m \u001b[43m    \u001b[49m\u001b[38;5;28;43mself\u001b[39;49m\u001b[43m,\u001b[49m\u001b[43m \u001b[49m\u001b[43mufunc\u001b[49m\u001b[43m,\u001b[49m\u001b[43m \u001b[49m\u001b[43mmethod\u001b[49m\u001b[43m,\u001b[49m\u001b[43m \u001b[49m\u001b[38;5;241;43m*\u001b[39;49m\u001b[43minputs\u001b[49m\u001b[43m,\u001b[49m\u001b[43m \u001b[49m\u001b[38;5;241;43m*\u001b[39;49m\u001b[38;5;241;43m*\u001b[39;49m\u001b[43mkwargs\u001b[49m\n\u001b[0;32m   2284\u001b[0m \u001b[43m\u001b[49m\u001b[43m)\u001b[49m\n\u001b[0;32m   2285\u001b[0m \u001b[38;5;28;01mif\u001b[39;00m result \u001b[38;5;129;01mis\u001b[39;00m \u001b[38;5;129;01mnot\u001b[39;00m \u001b[38;5;28mNotImplemented\u001b[39m:\n\u001b[0;32m   2286\u001b[0m     \u001b[38;5;28;01mreturn\u001b[39;00m result\n",
      "File \u001b[1;32mops_dispatch.pyx:113\u001b[0m, in \u001b[0;36mpandas._libs.ops_dispatch.maybe_dispatch_ufunc_to_dunder_op\u001b[1;34m()\u001b[0m\n",
      "File \u001b[1;32m~\\AppData\\Roaming\\Python\\Python313\\site-packages\\pandas\\core\\arrays\\datetimelike.py:1510\u001b[0m, in \u001b[0;36mDatetimeLikeArrayMixin.__rsub__\u001b[1;34m(self, other)\u001b[0m\n\u001b[0;32m   1507\u001b[0m     \u001b[38;5;28;01mreturn\u001b[39;00m (\u001b[38;5;241m-\u001b[39m\u001b[38;5;28mself\u001b[39m) \u001b[38;5;241m+\u001b[39m other\n\u001b[0;32m   1509\u001b[0m \u001b[38;5;66;03m# We get here with e.g. datetime objects\u001b[39;00m\n\u001b[1;32m-> 1510\u001b[0m \u001b[38;5;28;01mreturn\u001b[39;00m \u001b[38;5;241m-\u001b[39m(\u001b[38;5;28;43mself\u001b[39;49m\u001b[43m \u001b[49m\u001b[38;5;241;43m-\u001b[39;49m\u001b[43m \u001b[49m\u001b[43mother\u001b[49m)\n",
      "File \u001b[1;32m~\\AppData\\Roaming\\Python\\Python313\\site-packages\\pandas\\core\\ops\\common.py:76\u001b[0m, in \u001b[0;36m_unpack_zerodim_and_defer.<locals>.new_method\u001b[1;34m(self, other)\u001b[0m\n\u001b[0;32m     72\u001b[0m             \u001b[38;5;28;01mreturn\u001b[39;00m \u001b[38;5;28mNotImplemented\u001b[39m\n\u001b[0;32m     74\u001b[0m other \u001b[38;5;241m=\u001b[39m item_from_zerodim(other)\n\u001b[1;32m---> 76\u001b[0m \u001b[38;5;28;01mreturn\u001b[39;00m \u001b[43mmethod\u001b[49m\u001b[43m(\u001b[49m\u001b[38;5;28;43mself\u001b[39;49m\u001b[43m,\u001b[49m\u001b[43m \u001b[49m\u001b[43mother\u001b[49m\u001b[43m)\u001b[49m\n",
      "File \u001b[1;32m~\\AppData\\Roaming\\Python\\Python313\\site-packages\\pandas\\core\\arrays\\datetimelike.py:1454\u001b[0m, in \u001b[0;36mDatetimeLikeArrayMixin.__sub__\u001b[1;34m(self, other)\u001b[0m\n\u001b[0;32m   1451\u001b[0m     result \u001b[38;5;241m=\u001b[39m \u001b[38;5;28mself\u001b[39m\u001b[38;5;241m.\u001b[39m_add_timedelta_arraylike(\u001b[38;5;241m-\u001b[39mother)\n\u001b[0;32m   1452\u001b[0m \u001b[38;5;28;01melif\u001b[39;00m is_object_dtype(other_dtype):\n\u001b[0;32m   1453\u001b[0m     \u001b[38;5;66;03m# e.g. Array/Index of DateOffset objects\u001b[39;00m\n\u001b[1;32m-> 1454\u001b[0m     result \u001b[38;5;241m=\u001b[39m \u001b[38;5;28;43mself\u001b[39;49m\u001b[38;5;241;43m.\u001b[39;49m\u001b[43m_addsub_object_array\u001b[49m\u001b[43m(\u001b[49m\u001b[43mother\u001b[49m\u001b[43m,\u001b[49m\u001b[43m \u001b[49m\u001b[43moperator\u001b[49m\u001b[38;5;241;43m.\u001b[39;49m\u001b[43msub\u001b[49m\u001b[43m)\u001b[49m\n\u001b[0;32m   1455\u001b[0m \u001b[38;5;28;01melif\u001b[39;00m lib\u001b[38;5;241m.\u001b[39mis_np_dtype(other_dtype, \u001b[38;5;124m\"\u001b[39m\u001b[38;5;124mM\u001b[39m\u001b[38;5;124m\"\u001b[39m) \u001b[38;5;129;01mor\u001b[39;00m \u001b[38;5;28misinstance\u001b[39m(\n\u001b[0;32m   1456\u001b[0m     other_dtype, DatetimeTZDtype\n\u001b[0;32m   1457\u001b[0m ):\n\u001b[0;32m   1458\u001b[0m     \u001b[38;5;66;03m# DatetimeIndex, ndarray[datetime64]\u001b[39;00m\n\u001b[0;32m   1459\u001b[0m     result \u001b[38;5;241m=\u001b[39m \u001b[38;5;28mself\u001b[39m\u001b[38;5;241m.\u001b[39m_sub_datetime_arraylike(other)\n",
      "File \u001b[1;32m~\\AppData\\Roaming\\Python\\Python313\\site-packages\\pandas\\core\\arrays\\datetimelike.py:1350\u001b[0m, in \u001b[0;36mDatetimeLikeArrayMixin._addsub_object_array\u001b[1;34m(self, other, op)\u001b[0m\n\u001b[0;32m   1347\u001b[0m \u001b[38;5;66;03m# Caller is responsible for broadcasting if necessary\u001b[39;00m\n\u001b[0;32m   1348\u001b[0m \u001b[38;5;28;01massert\u001b[39;00m \u001b[38;5;28mself\u001b[39m\u001b[38;5;241m.\u001b[39mshape \u001b[38;5;241m==\u001b[39m other\u001b[38;5;241m.\u001b[39mshape, (\u001b[38;5;28mself\u001b[39m\u001b[38;5;241m.\u001b[39mshape, other\u001b[38;5;241m.\u001b[39mshape)\n\u001b[1;32m-> 1350\u001b[0m res_values \u001b[38;5;241m=\u001b[39m \u001b[43mop\u001b[49m\u001b[43m(\u001b[49m\u001b[38;5;28;43mself\u001b[39;49m\u001b[38;5;241;43m.\u001b[39;49m\u001b[43mastype\u001b[49m\u001b[43m(\u001b[49m\u001b[38;5;124;43m\"\u001b[39;49m\u001b[38;5;124;43mO\u001b[39;49m\u001b[38;5;124;43m\"\u001b[39;49m\u001b[43m)\u001b[49m\u001b[43m,\u001b[49m\u001b[43m \u001b[49m\u001b[43mnp\u001b[49m\u001b[38;5;241;43m.\u001b[39;49m\u001b[43masarray\u001b[49m\u001b[43m(\u001b[49m\u001b[43mother\u001b[49m\u001b[43m)\u001b[49m\u001b[43m)\u001b[49m\n\u001b[0;32m   1351\u001b[0m \u001b[38;5;28;01mreturn\u001b[39;00m res_values\n",
      "\u001b[1;31mTypeError\u001b[0m: unsupported operand type(s) for -: 'Period' and 'str'"
     ]
    }
   ],
   "source": [
    "# Step 3: Compute the cohort index (Month 0,1,2,...)\n",
    "transaction_df[\"cohort_index\"] = (transaction_df[\"txn_date\"] - transaction_df[\"cohort_month\"]).apply(lambda x: x.n)\n",
    "-\n"
   ]
  },
  {
   "cell_type": "code",
   "execution_count": 27,
   "metadata": {},
   "outputs": [],
   "source": [
    "cohort_data.to_csv('cohort_data1.csv')"
   ]
  },
  {
   "cell_type": "code",
   "execution_count": 56,
   "metadata": {},
   "outputs": [
    {
     "data": {
      "text/html": [
       "<div>\n",
       "<style scoped>\n",
       "    .dataframe tbody tr th:only-of-type {\n",
       "        vertical-align: middle;\n",
       "    }\n",
       "\n",
       "    .dataframe tbody tr th {\n",
       "        vertical-align: top;\n",
       "    }\n",
       "\n",
       "    .dataframe thead th {\n",
       "        text-align: right;\n",
       "    }\n",
       "</style>\n",
       "<table border=\"1\" class=\"dataframe\">\n",
       "  <thead>\n",
       "    <tr style=\"text-align: right;\">\n",
       "      <th></th>\n",
       "      <th>user_id</th>\n",
       "      <th>created_time</th>\n",
       "      <th>txn_date</th>\n",
       "      <th>cohort_month</th>\n",
       "    </tr>\n",
       "  </thead>\n",
       "  <tbody>\n",
       "    <tr>\n",
       "      <th>0</th>\n",
       "      <td>41c99020-32a6-4911-afd3-313f08de9e03</td>\n",
       "      <td>2020-11-14 01:24:00</td>\n",
       "      <td>2020-11-01</td>\n",
       "      <td>2020-11</td>\n",
       "    </tr>\n",
       "    <tr>\n",
       "      <th>1</th>\n",
       "      <td>41c99020-32a6-4911-afd3-313f08de9e03</td>\n",
       "      <td>2020-11-14 01:55:31</td>\n",
       "      <td>2020-11-01</td>\n",
       "      <td>2020-11</td>\n",
       "    </tr>\n",
       "    <tr>\n",
       "      <th>2</th>\n",
       "      <td>a832e010-c86c-434c-8f3f-9c3d8c843617</td>\n",
       "      <td>2020-11-15 03:21:20</td>\n",
       "      <td>2020-11-01</td>\n",
       "      <td>2020-11</td>\n",
       "    </tr>\n",
       "    <tr>\n",
       "      <th>3</th>\n",
       "      <td>1f2b7fe3-77e6-43e3-96aa-7cf85f7f838e</td>\n",
       "      <td>2020-11-15 13:40:12</td>\n",
       "      <td>2020-11-01</td>\n",
       "      <td>2020-11</td>\n",
       "    </tr>\n",
       "    <tr>\n",
       "      <th>4</th>\n",
       "      <td>a832e010-c86c-434c-8f3f-9c3d8c843617</td>\n",
       "      <td>2020-11-15 17:03:06</td>\n",
       "      <td>2020-11-01</td>\n",
       "      <td>2020-11</td>\n",
       "    </tr>\n",
       "    <tr>\n",
       "      <th>...</th>\n",
       "      <td>...</td>\n",
       "      <td>...</td>\n",
       "      <td>...</td>\n",
       "      <td>...</td>\n",
       "    </tr>\n",
       "    <tr>\n",
       "      <th>373682</th>\n",
       "      <td>a613abcd-8ba3-46e8-b6ed-3d1db6a1a8ee</td>\n",
       "      <td>2025-02-06 10:26:19</td>\n",
       "      <td>2025-02-01</td>\n",
       "      <td>2024-10</td>\n",
       "    </tr>\n",
       "    <tr>\n",
       "      <th>373683</th>\n",
       "      <td>a613abcd-8ba3-46e8-b6ed-3d1db6a1a8ee</td>\n",
       "      <td>2025-02-06 10:27:38</td>\n",
       "      <td>2025-02-01</td>\n",
       "      <td>2024-10</td>\n",
       "    </tr>\n",
       "    <tr>\n",
       "      <th>373684</th>\n",
       "      <td>1a282bc0-9a69-4fc0-96c3-53fbcf2d403a</td>\n",
       "      <td>2025-02-06 10:37:52</td>\n",
       "      <td>2025-02-01</td>\n",
       "      <td>2024-10</td>\n",
       "    </tr>\n",
       "    <tr>\n",
       "      <th>373685</th>\n",
       "      <td>c70ce214-2ebc-4e9b-b7ca-33869a4bd525</td>\n",
       "      <td>2025-02-06 11:38:10</td>\n",
       "      <td>2025-02-01</td>\n",
       "      <td>2024-10</td>\n",
       "    </tr>\n",
       "    <tr>\n",
       "      <th>373686</th>\n",
       "      <td>1617f997-1362-46de-8c19-5e0dcd853da8</td>\n",
       "      <td>2025-02-06 13:16:15</td>\n",
       "      <td>2025-02-01</td>\n",
       "      <td>2024-10</td>\n",
       "    </tr>\n",
       "  </tbody>\n",
       "</table>\n",
       "<p>373687 rows × 4 columns</p>\n",
       "</div>"
      ],
      "text/plain": [
       "                                     user_id        created_time   txn_date  \\\n",
       "0       41c99020-32a6-4911-afd3-313f08de9e03 2020-11-14 01:24:00 2020-11-01   \n",
       "1       41c99020-32a6-4911-afd3-313f08de9e03 2020-11-14 01:55:31 2020-11-01   \n",
       "2       a832e010-c86c-434c-8f3f-9c3d8c843617 2020-11-15 03:21:20 2020-11-01   \n",
       "3       1f2b7fe3-77e6-43e3-96aa-7cf85f7f838e 2020-11-15 13:40:12 2020-11-01   \n",
       "4       a832e010-c86c-434c-8f3f-9c3d8c843617 2020-11-15 17:03:06 2020-11-01   \n",
       "...                                      ...                 ...        ...   \n",
       "373682  a613abcd-8ba3-46e8-b6ed-3d1db6a1a8ee 2025-02-06 10:26:19 2025-02-01   \n",
       "373683  a613abcd-8ba3-46e8-b6ed-3d1db6a1a8ee 2025-02-06 10:27:38 2025-02-01   \n",
       "373684  1a282bc0-9a69-4fc0-96c3-53fbcf2d403a 2025-02-06 10:37:52 2025-02-01   \n",
       "373685  c70ce214-2ebc-4e9b-b7ca-33869a4bd525 2025-02-06 11:38:10 2025-02-01   \n",
       "373686  1617f997-1362-46de-8c19-5e0dcd853da8 2025-02-06 13:16:15 2025-02-01   \n",
       "\n",
       "       cohort_month  \n",
       "0           2020-11  \n",
       "1           2020-11  \n",
       "2           2020-11  \n",
       "3           2020-11  \n",
       "4           2020-11  \n",
       "...             ...  \n",
       "373682      2024-10  \n",
       "373683      2024-10  \n",
       "373684      2024-10  \n",
       "373685      2024-10  \n",
       "373686      2024-10  \n",
       "\n",
       "[373687 rows x 4 columns]"
      ]
     },
     "execution_count": 56,
     "metadata": {},
     "output_type": "execute_result"
    }
   ],
   "source": [
    "transaction_df"
   ]
  }
 ],
 "metadata": {
  "kernelspec": {
   "display_name": "Python 3",
   "language": "python",
   "name": "python3"
  },
  "language_info": {
   "codemirror_mode": {
    "name": "ipython",
    "version": 3
   },
   "file_extension": ".py",
   "mimetype": "text/x-python",
   "name": "python",
   "nbconvert_exporter": "python",
   "pygments_lexer": "ipython3",
   "version": "3.13.0"
  }
 },
 "nbformat": 4,
 "nbformat_minor": 2
}
