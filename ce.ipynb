{
 "cells": [
  {
   "cell_type": "code",
   "execution_count": 2,
   "metadata": {},
   "outputs": [],
   "source": [
    "import json\n",
    "import numpy as np\n",
    "import pandas as pd"
   ]
  },
  {
   "cell_type": "code",
   "execution_count": 3,
   "metadata": {},
   "outputs": [],
   "source": [
    "import sys\n",
    "sys.path.append(r'C:/Users/vshnu/OneDrive/Desktop/Vishnuperson/RE/aspire_')\n",
    "from connector import data_fetch_v2"
   ]
  },
  {
   "cell_type": "code",
   "execution_count": null,
   "metadata": {},
   "outputs": [],
   "source": [
    "billing_data = f\"\"\"\n",
    "select billing_cycle, user_id, dpd, principal_outstanding\n",
    "from billing_info \"\"\"\n",
    "flag,billing_data_df, error_msg = data_fetch_v2(billing_data, host=\"13.126.97.63\")"
   ]
  },
  {
   "cell_type": "code",
   "execution_count": null,
   "metadata": {},
   "outputs": [],
   "source": [
    "billing_data_df.dtypes"
   ]
  },
  {
   "cell_type": "code",
   "execution_count": null,
   "metadata": {},
   "outputs": [],
   "source": [
    "billing_data1 = f\"\"\"\n",
    "select billing_cycle, user_id, dpd, principal_outstanding\n",
    "from billing_info \"\"\"\n",
    "flag,billing_data_df2, error_msg = data_fetch_v2(billing_data1, host=\"13.126.97.63\")"
   ]
  },
  {
   "cell_type": "code",
   "execution_count": 42,
   "metadata": {},
   "outputs": [],
   "source": [
    "def increment_period_series(series: pd.Series) -> pd.Series:\n",
    "    return series.astype(str).apply(lambda x: f\"{int(x[:4]) + 1}01\" if x.endswith(\"12\") else x.replace(x[4:], str(int(x[4:]) + 1).zfill(2)))\n",
    "\n",
    "\n",
    "billing_data_df2['billing_cycle_next'] = increment_period_series(billing_data_df2['billing_cycle'])"
   ]
  },
  {
   "cell_type": "code",
   "execution_count": 38,
   "metadata": {},
   "outputs": [
    {
     "name": "stdout",
     "output_type": "stream",
     "text": [
      "202405\n"
     ]
    }
   ],
   "source": [
    "#x = \"202412\"\n",
    "x1 = \"202404\"\n",
    "#y  = f\"{int(x[:4])+1}01\"\n",
    "#y = f\"{x1[:4]}{int(x1[4:]):02d}\"\n",
    "y = x1.replace(x1[4:], str(int(x1[4:])+1).zfill(2))\n",
    "print(y)"
   ]
  },
  {
   "cell_type": "code",
   "execution_count": 49,
   "metadata": {},
   "outputs": [],
   "source": [
    "billing_data_df2 = billing_data_df2.drop(columns=['principal_outstanding'])"
   ]
  },
  {
   "cell_type": "code",
   "execution_count": 45,
   "metadata": {},
   "outputs": [],
   "source": [
    "billing_data_df2 = billing_data_df2.rename(columns={'dpd':'next_dpd'})"
   ]
  },
  {
   "cell_type": "code",
   "execution_count": null,
   "metadata": {},
   "outputs": [],
   "source": [
    "billing_data_df2"
   ]
  },
  {
   "cell_type": "code",
   "execution_count": 46,
   "metadata": {},
   "outputs": [],
   "source": [
    "billing_data_df[\"dpd_bucket\"] = billing_data_df[\"dpd\"].apply(lambda x: \"A: current\" if x == 0 else\n",
    "                                                             \"B: DPD_1_30\" if x>=1 and x<=30 else\n",
    "                                                             \"C: DPD_31_60\" if x>=31 and x<=60 else\n",
    "                                                             \"D: DPD_61_90\" if x>=61 and x<=90 else\n",
    "                                                             \"E: DPD_91_180\" if x>=91 and x<=180 else \">180\")"
   ]
  },
  {
   "cell_type": "code",
   "execution_count": null,
   "metadata": {},
   "outputs": [],
   "source": [
    "billing_data_df"
   ]
  },
  {
   "cell_type": "code",
   "execution_count": 54,
   "metadata": {},
   "outputs": [],
   "source": [
    "ce_calc = billing_data_df.merge(billing_data_df2, left_on=(\"user_id\",\"billing_cycle\"), right_on=(\"user_id\",\"billing_cycle_next\"),how=\"left\")"
   ]
  },
  {
   "cell_type": "code",
   "execution_count": null,
   "metadata": {},
   "outputs": [],
   "source": [
    "ce_calc.dtypes"
   ]
  },
  {
   "cell_type": "code",
   "execution_count": 61,
   "metadata": {},
   "outputs": [],
   "source": [
    "ce_calc[\"next_dpd\"] = ce_calc[\"next_dpd\"].fillna(0).astype(int)"
   ]
  },
  {
   "cell_type": "code",
   "execution_count": 77,
   "metadata": {},
   "outputs": [],
   "source": [
    "def ce_def(a,b):\n",
    "    if a-b>0:\n",
    "        return \"roll_back/dpd_decrease\"\n",
    "    elif a-b<0:\n",
    "        return \"roll_forwards/dpd_increase\"\n",
    "    else:\n",
    "        return \"stab\""
   ]
  },
  {
   "cell_type": "code",
   "execution_count": 78,
   "metadata": {},
   "outputs": [],
   "source": [
    "ce_calc[\"collection_eff\"] = ce_calc.apply(lambda row: ce_def(row[\"dpd\"], row[\"next_dpd\"]), axis=1)"
   ]
  },
  {
   "cell_type": "code",
   "execution_count": null,
   "metadata": {},
   "outputs": [],
   "source": [
    "ce_calc"
   ]
  },
  {
   "cell_type": "code",
   "execution_count": null,
   "metadata": {},
   "outputs": [],
   "source": [
    "ce_calc.dtypes"
   ]
  },
  {
   "cell_type": "code",
   "execution_count": null,
   "metadata": {},
   "outputs": [],
   "source": [
    "ce_calc.agg('collection_eff').value_counts()"
   ]
  },
  {
   "cell_type": "code",
   "execution_count": 113,
   "metadata": {},
   "outputs": [
    {
     "data": {
      "text/html": [
       "<div>\n",
       "<style scoped>\n",
       "    .dataframe tbody tr th:only-of-type {\n",
       "        vertical-align: middle;\n",
       "    }\n",
       "\n",
       "    .dataframe tbody tr th {\n",
       "        vertical-align: top;\n",
       "    }\n",
       "\n",
       "    .dataframe thead th {\n",
       "        text-align: right;\n",
       "    }\n",
       "</style>\n",
       "<table border=\"1\" class=\"dataframe\">\n",
       "  <thead>\n",
       "    <tr style=\"text-align: right;\">\n",
       "      <th>collection_eff</th>\n",
       "      <th>roll_back/dpd_decrease</th>\n",
       "      <th>roll_forwards/dpd_increase</th>\n",
       "      <th>stab</th>\n",
       "    </tr>\n",
       "    <tr>\n",
       "      <th>billing_cycle</th>\n",
       "      <th></th>\n",
       "      <th></th>\n",
       "      <th></th>\n",
       "    </tr>\n",
       "  </thead>\n",
       "  <tbody>\n",
       "    <tr>\n",
       "      <th>202104</th>\n",
       "      <td>5</td>\n",
       "      <td>0</td>\n",
       "      <td>233</td>\n",
       "    </tr>\n",
       "    <tr>\n",
       "      <th>202105</th>\n",
       "      <td>52</td>\n",
       "      <td>0</td>\n",
       "      <td>236</td>\n",
       "    </tr>\n",
       "    <tr>\n",
       "      <th>202106</th>\n",
       "      <td>79</td>\n",
       "      <td>6</td>\n",
       "      <td>243</td>\n",
       "    </tr>\n",
       "    <tr>\n",
       "      <th>202107</th>\n",
       "      <td>110</td>\n",
       "      <td>4</td>\n",
       "      <td>255</td>\n",
       "    </tr>\n",
       "    <tr>\n",
       "      <th>202108</th>\n",
       "      <td>115</td>\n",
       "      <td>7</td>\n",
       "      <td>311</td>\n",
       "    </tr>\n",
       "  </tbody>\n",
       "</table>\n",
       "</div>"
      ],
      "text/plain": [
       "collection_eff  roll_back/dpd_decrease  roll_forwards/dpd_increase  stab\n",
       "billing_cycle                                                           \n",
       "202104                               5                           0   233\n",
       "202105                              52                           0   236\n",
       "202106                              79                           6   243\n",
       "202107                             110                           4   255\n",
       "202108                             115                           7   311"
      ]
     },
     "execution_count": 113,
     "metadata": {},
     "output_type": "execute_result"
    }
   ],
   "source": [
    "pivot.head(5)"
   ]
  },
  {
   "cell_type": "code",
   "execution_count": 114,
   "metadata": {},
   "outputs": [],
   "source": [
    "pivot[\"total\"] = pivot[\"roll_back/dpd_decrease\"]+pivot[\"roll_forwards/dpd_increase\"]+pivot[\"stab\"]"
   ]
  },
  {
   "cell_type": "code",
   "execution_count": 115,
   "metadata": {},
   "outputs": [],
   "source": [
    "pivot[\"roll_back%\"] = round((pivot[\"roll_back/dpd_decrease\"]/pivot[\"total\"])*100,2)\n",
    "pivot[\"roll_forward%\"] = round((pivot[\"roll_forwards/dpd_increase\"]/pivot[\"total\"])*100,2)\n",
    "pivot[\"stab%\"] = round((pivot[\"stab\"]/pivot[\"total\"])*100,2)"
   ]
  },
  {
   "cell_type": "code",
   "execution_count": 110,
   "metadata": {},
   "outputs": [],
   "source": [
    "pivot = ce_calc.groupby(['billing_cycle',\"collection_eff\"])[\"user_id\"].count().unstack(fill_value=0)\n"
   ]
  },
  {
   "cell_type": "code",
   "execution_count": null,
   "metadata": {},
   "outputs": [],
   "source": [
    "pivot"
   ]
  }
 ],
 "metadata": {
  "kernelspec": {
   "display_name": "Python 3",
   "language": "python",
   "name": "python3"
  },
  "language_info": {
   "codemirror_mode": {
    "name": "ipython",
    "version": 3
   },
   "file_extension": ".py",
   "mimetype": "text/x-python",
   "name": "python",
   "nbconvert_exporter": "python",
   "pygments_lexer": "ipython3",
   "version": "3.13.0"
  }
 },
 "nbformat": 4,
 "nbformat_minor": 2
}
