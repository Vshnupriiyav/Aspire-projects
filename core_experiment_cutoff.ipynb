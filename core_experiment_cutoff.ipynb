{
 "cells": [
  {
   "cell_type": "code",
   "execution_count": null,
   "metadata": {},
   "outputs": [
    {
     "ename": "ModuleNotFoundError",
     "evalue": "No module named 'utility'",
     "output_type": "error",
     "traceback": [
      "\u001b[1;31m---------------------------------------------------------------------------\u001b[0m",
      "\u001b[1;31mModuleNotFoundError\u001b[0m                       Traceback (most recent call last)",
      "Cell \u001b[1;32mIn[1], line 6\u001b[0m\n\u001b[0;32m      4\u001b[0m \u001b[38;5;28;01mimport\u001b[39;00m \u001b[38;5;21;01msys\u001b[39;00m\n\u001b[0;32m      5\u001b[0m sys\u001b[38;5;241m.\u001b[39mpath\u001b[38;5;241m.\u001b[39mappend(\u001b[38;5;124mr\u001b[39m\u001b[38;5;124m'\u001b[39m\u001b[38;5;124mC:\u001b[39m\u001b[38;5;124m\\\u001b[39m\u001b[38;5;124mUsers\u001b[39m\u001b[38;5;124m\\\u001b[39m\u001b[38;5;124mNiveditha\u001b[39m\u001b[38;5;124m\\\u001b[39m\u001b[38;5;124mDesktop\u001b[39m\u001b[38;5;124m\\\u001b[39m\u001b[38;5;124mData_Science\u001b[39m\u001b[38;5;124m\\\u001b[39m\u001b[38;5;124maspire\u001b[39m\u001b[38;5;124m\\\u001b[39m\u001b[38;5;124mutility_file\u001b[39m\u001b[38;5;124m'\u001b[39m)  \u001b[38;5;66;03m# Replace with the actual path to folder1\u001b[39;00m\n\u001b[1;32m----> 6\u001b[0m \u001b[38;5;28;01mimport\u001b[39;00m \u001b[38;5;21;01mutility\u001b[39;00m\n\u001b[0;32m      7\u001b[0m \u001b[38;5;28;01mfrom\u001b[39;00m \u001b[38;5;21;01mdatetime\u001b[39;00m \u001b[38;5;28;01mimport\u001b[39;00m date\n",
      "\u001b[1;31mModuleNotFoundError\u001b[0m: No module named 'utility'"
     ]
    }
   ],
   "source": [
    "import pandas as pd\n",
    "import numpy as np\n",
    "import pymysql\n",
    "import sys\n",
    "\n",
    "import utility\n",
    "from datetime import date"
   ]
  },
  {
   "cell_type": "markdown",
   "metadata": {},
   "source": [
    "# transacting users"
   ]
  },
  {
   "cell_type": "code",
   "execution_count": 2,
   "metadata": {},
   "outputs": [],
   "source": [
    "transacted_user_q = \"\"\"\n",
    "Select user_id, min(created_time) first_transaction, max(created_time) last_transaction, date_format(min(created_time), '%Y-%m') as first_transaction_month\n",
    "from merchant_payments\n",
    "where status='success'\n",
    "group by user_id\n",
    "\"\"\"\n",
    "parse_date = {'first_transaction' : {\"format\" : '%Y-%m-%d %H:%M:%S'},\n",
    "              'last_transaction' : {\"format\" : '%Y-%m-%d %H:%M:%S'}}\n",
    "flag, transacted_user,error_msg = utility.data_fetch_v2(transacted_user_q)"
   ]
  },
  {
   "cell_type": "code",
   "execution_count": 3,
   "metadata": {},
   "outputs": [
    {
     "data": {
      "text/plain": [
       "(17465, 4)"
      ]
     },
     "execution_count": 3,
     "metadata": {},
     "output_type": "execute_result"
    }
   ],
   "source": [
    "transacted_user.shape"
   ]
  },
  {
   "cell_type": "markdown",
   "metadata": {},
   "source": [
    "# Sanction data"
   ]
  },
  {
   "cell_type": "code",
   "execution_count": 4,
   "metadata": {},
   "outputs": [
    {
     "data": {
      "text/plain": [
       "(11674, 19)"
      ]
     },
     "execution_count": 4,
     "metadata": {},
     "output_type": "execute_result"
    }
   ],
   "source": [
    "sanction_data = f\"\"\"\n",
    "Select * from sanction\n",
    "where user_id in {tuple(transacted_user.user_id)}\n",
    "\"\"\"\n",
    "\n",
    "parse_date = {'first_transaction' : {\"format\" : '%Y-%m-%d %H:%M:%S'},\n",
    "              'last_transaction' : {\"format\" : '%Y-%m-%d %H:%M:%S'}}\n",
    "flag, sanction_data,error_msg = utility.data_fetch_v2(sanction_data)\n",
    "users_4m = sanction_data[sanction_data['prod_group']=='4M']\n",
    "users_4m.shape"
   ]
  },
  {
   "cell_type": "markdown",
   "metadata": {},
   "source": [
    "# marchent paymant"
   ]
  },
  {
   "cell_type": "code",
   "execution_count": 5,
   "metadata": {},
   "outputs": [
    {
     "data": {
      "text/plain": [
       "(94358, 3)"
      ]
     },
     "execution_count": 5,
     "metadata": {},
     "output_type": "execute_result"
    }
   ],
   "source": [
    "merchant_payments = f\"\"\"\n",
    "SELECT mp.user_id,\n",
    "date_format(mp.created_time, '%Y%m') billing_cycle,\n",
    "SUM(amount) AS disbursal\n",
    "FROM merchant_payments AS mp\n",
    "WHERE mp.`status` = 'success'\n",
    "GROUP BY 1,2\n",
    "\"\"\"\n",
    "parse_date = {}\n",
    "# otp_varified_user=pd.read_sql(otp_varified, db_connection)\n",
    "flag, merchant_payments_data, error = utility.data_fetch_v2(merchant_payments, parse_dates=parse_date)\n",
    "merchant_payments_data.shape"
   ]
  },
  {
   "cell_type": "code",
   "execution_count": 6,
   "metadata": {},
   "outputs": [
    {
     "data": {
      "text/html": [
       "<div>\n",
       "<style scoped>\n",
       "    .dataframe tbody tr th:only-of-type {\n",
       "        vertical-align: middle;\n",
       "    }\n",
       "\n",
       "    .dataframe tbody tr th {\n",
       "        vertical-align: top;\n",
       "    }\n",
       "\n",
       "    .dataframe thead th {\n",
       "        text-align: right;\n",
       "    }\n",
       "</style>\n",
       "<table border=\"1\" class=\"dataframe\">\n",
       "  <thead>\n",
       "    <tr style=\"text-align: right;\">\n",
       "      <th></th>\n",
       "      <th>user_id</th>\n",
       "      <th>billing_cycle</th>\n",
       "      <th>disbursal</th>\n",
       "    </tr>\n",
       "  </thead>\n",
       "  <tbody>\n",
       "    <tr>\n",
       "      <th>0</th>\n",
       "      <td>000ade4b-897e-450a-89f2-2f5e3078737e</td>\n",
       "      <td>202304</td>\n",
       "      <td>4832.0</td>\n",
       "    </tr>\n",
       "    <tr>\n",
       "      <th>1</th>\n",
       "      <td>000ade4b-897e-450a-89f2-2f5e3078737e</td>\n",
       "      <td>202305</td>\n",
       "      <td>4778.0</td>\n",
       "    </tr>\n",
       "    <tr>\n",
       "      <th>2</th>\n",
       "      <td>000ade4b-897e-450a-89f2-2f5e3078737e</td>\n",
       "      <td>202306</td>\n",
       "      <td>4799.0</td>\n",
       "    </tr>\n",
       "    <tr>\n",
       "      <th>3</th>\n",
       "      <td>000ade4b-897e-450a-89f2-2f5e3078737e</td>\n",
       "      <td>202307</td>\n",
       "      <td>4800.0</td>\n",
       "    </tr>\n",
       "    <tr>\n",
       "      <th>4</th>\n",
       "      <td>000ade4b-897e-450a-89f2-2f5e3078737e</td>\n",
       "      <td>202308</td>\n",
       "      <td>1186.0</td>\n",
       "    </tr>\n",
       "    <tr>\n",
       "      <th>...</th>\n",
       "      <td>...</td>\n",
       "      <td>...</td>\n",
       "      <td>...</td>\n",
       "    </tr>\n",
       "    <tr>\n",
       "      <th>94353</th>\n",
       "      <td>fffe2a21-2db8-4402-b21e-4bf824900493</td>\n",
       "      <td>202302</td>\n",
       "      <td>5000.0</td>\n",
       "    </tr>\n",
       "    <tr>\n",
       "      <th>94354</th>\n",
       "      <td>fffe2a21-2db8-4402-b21e-4bf824900493</td>\n",
       "      <td>202303</td>\n",
       "      <td>10001.0</td>\n",
       "    </tr>\n",
       "    <tr>\n",
       "      <th>94355</th>\n",
       "      <td>fffe2a21-2db8-4402-b21e-4bf824900493</td>\n",
       "      <td>202304</td>\n",
       "      <td>10000.0</td>\n",
       "    </tr>\n",
       "    <tr>\n",
       "      <th>94356</th>\n",
       "      <td>fffe2a21-2db8-4402-b21e-4bf824900493</td>\n",
       "      <td>202305</td>\n",
       "      <td>7000.0</td>\n",
       "    </tr>\n",
       "    <tr>\n",
       "      <th>94357</th>\n",
       "      <td>fffefa7e-31b7-4d2c-abaa-50304ed774d5</td>\n",
       "      <td>202202</td>\n",
       "      <td>4000.0</td>\n",
       "    </tr>\n",
       "  </tbody>\n",
       "</table>\n",
       "<p>94358 rows × 3 columns</p>\n",
       "</div>"
      ],
      "text/plain": [
       "                                    user_id billing_cycle  disbursal\n",
       "0      000ade4b-897e-450a-89f2-2f5e3078737e        202304     4832.0\n",
       "1      000ade4b-897e-450a-89f2-2f5e3078737e        202305     4778.0\n",
       "2      000ade4b-897e-450a-89f2-2f5e3078737e        202306     4799.0\n",
       "3      000ade4b-897e-450a-89f2-2f5e3078737e        202307     4800.0\n",
       "4      000ade4b-897e-450a-89f2-2f5e3078737e        202308     1186.0\n",
       "...                                     ...           ...        ...\n",
       "94353  fffe2a21-2db8-4402-b21e-4bf824900493        202302     5000.0\n",
       "94354  fffe2a21-2db8-4402-b21e-4bf824900493        202303    10001.0\n",
       "94355  fffe2a21-2db8-4402-b21e-4bf824900493        202304    10000.0\n",
       "94356  fffe2a21-2db8-4402-b21e-4bf824900493        202305     7000.0\n",
       "94357  fffefa7e-31b7-4d2c-abaa-50304ed774d5        202202     4000.0\n",
       "\n",
       "[94358 rows x 3 columns]"
      ]
     },
     "execution_count": 6,
     "metadata": {},
     "output_type": "execute_result"
    }
   ],
   "source": [
    "merchant_payments_data"
   ]
  },
  {
   "cell_type": "code",
   "execution_count": 7,
   "metadata": {},
   "outputs": [
    {
     "data": {
      "text/plain": [
       "(518954597.56999993, 17465)"
      ]
     },
     "execution_count": 7,
     "metadata": {},
     "output_type": "execute_result"
    }
   ],
   "source": [
    "merchant_payments_data[(merchant_payments_data['user_id'].isin(users_4m.user_id))]['disbursal'].sum(), len(set(merchant_payments_data.user_id))"
   ]
  },
  {
   "cell_type": "markdown",
   "metadata": {},
   "source": [
    "# Billing info"
   ]
  },
  {
   "cell_type": "code",
   "execution_count": 8,
   "metadata": {},
   "outputs": [],
   "source": [
    "billing_info_q = \"\"\"\n",
    "Select * \n",
    "from billing_info\n",
    "\"\"\"\n",
    "flag, billing_info,error_msg = utility.data_fetch_v2(billing_info_q)"
   ]
  },
  {
   "cell_type": "code",
   "execution_count": 36,
   "metadata": {},
   "outputs": [
    {
     "data": {
      "text/plain": [
       "12425253.56"
      ]
     },
     "execution_count": 36,
     "metadata": {},
     "output_type": "execute_result"
    }
   ],
   "source": [
    "DPD = billing_info[(billing_info['billing_month']=='December')&(billing_info['billing_year']=='2024')][['user_id', 'DPD','principal_outstanding','payment_max', \"billing_cycle\"]]\n",
    "DPD[DPD['user_id'].isin(organic_users_table[organic_users_table['new_policy_approved']==1]['user_id'])]['principal_outstanding'].sum()"
   ]
  },
  {
   "cell_type": "code",
   "execution_count": 47,
   "metadata": {},
   "outputs": [
    {
     "data": {
      "text/html": [
       "<div>\n",
       "<style scoped>\n",
       "    .dataframe tbody tr th:only-of-type {\n",
       "        vertical-align: middle;\n",
       "    }\n",
       "\n",
       "    .dataframe tbody tr th {\n",
       "        vertical-align: top;\n",
       "    }\n",
       "\n",
       "    .dataframe thead th {\n",
       "        text-align: right;\n",
       "    }\n",
       "</style>\n",
       "<table border=\"1\" class=\"dataframe\">\n",
       "  <thead>\n",
       "    <tr style=\"text-align: right;\">\n",
       "      <th></th>\n",
       "      <th>user_id</th>\n",
       "      <th>DPD</th>\n",
       "      <th>principal_outstanding</th>\n",
       "      <th>payment_max</th>\n",
       "      <th>billing_cycle</th>\n",
       "    </tr>\n",
       "  </thead>\n",
       "  <tbody>\n",
       "    <tr>\n",
       "      <th>301385</th>\n",
       "      <td>1f2b7fe3-77e6-43e3-96aa-7cf85f7f838e</td>\n",
       "      <td>1484</td>\n",
       "      <td>6000.0</td>\n",
       "      <td>8194.8</td>\n",
       "      <td>202412</td>\n",
       "    </tr>\n",
       "    <tr>\n",
       "      <th>301386</th>\n",
       "      <td>d0c030ac-8e0a-42d0-8d8e-9fd22f95b5ae</td>\n",
       "      <td>1484</td>\n",
       "      <td>4476.0</td>\n",
       "      <td>6387.6</td>\n",
       "      <td>202412</td>\n",
       "    </tr>\n",
       "    <tr>\n",
       "      <th>301387</th>\n",
       "      <td>b77738e1-4139-46c8-a549-7277f16c6d76</td>\n",
       "      <td>358</td>\n",
       "      <td>3720.5</td>\n",
       "      <td>5313.5</td>\n",
       "      <td>202412</td>\n",
       "    </tr>\n",
       "    <tr>\n",
       "      <th>301388</th>\n",
       "      <td>4b08627d-31f1-49c4-85ae-0cd3e8d1f8f9</td>\n",
       "      <td>937</td>\n",
       "      <td>4141.6</td>\n",
       "      <td>5770.0</td>\n",
       "      <td>202412</td>\n",
       "    </tr>\n",
       "    <tr>\n",
       "      <th>301389</th>\n",
       "      <td>d3f2368f-6e3f-4f06-82d0-019f4f792bde</td>\n",
       "      <td>0</td>\n",
       "      <td>0.0</td>\n",
       "      <td>0.0</td>\n",
       "      <td>202412</td>\n",
       "    </tr>\n",
       "    <tr>\n",
       "      <th>...</th>\n",
       "      <td>...</td>\n",
       "      <td>...</td>\n",
       "      <td>...</td>\n",
       "      <td>...</td>\n",
       "      <td>...</td>\n",
       "    </tr>\n",
       "    <tr>\n",
       "      <th>306598</th>\n",
       "      <td>aa3965c3-b18f-4325-ac68-19446f04d335</td>\n",
       "      <td>0</td>\n",
       "      <td>0.0</td>\n",
       "      <td>0.0</td>\n",
       "      <td>202412</td>\n",
       "    </tr>\n",
       "    <tr>\n",
       "      <th>306599</th>\n",
       "      <td>b7b3f6b9-0f26-4bd5-b777-c3289f955034</td>\n",
       "      <td>389</td>\n",
       "      <td>4000.0</td>\n",
       "      <td>5062.0</td>\n",
       "      <td>202412</td>\n",
       "    </tr>\n",
       "    <tr>\n",
       "      <th>306600</th>\n",
       "      <td>4228b2dd-36a3-4a72-8eb2-fe3c29b61243</td>\n",
       "      <td>389</td>\n",
       "      <td>1000.0</td>\n",
       "      <td>2062.0</td>\n",
       "      <td>202412</td>\n",
       "    </tr>\n",
       "    <tr>\n",
       "      <th>306601</th>\n",
       "      <td>c03f7619-3e31-413b-8b0d-5f7b8ca106d9</td>\n",
       "      <td>389</td>\n",
       "      <td>3800.0</td>\n",
       "      <td>4862.0</td>\n",
       "      <td>202412</td>\n",
       "    </tr>\n",
       "    <tr>\n",
       "      <th>306602</th>\n",
       "      <td>f15dfe0c-e7b2-449d-841f-7162c9870005</td>\n",
       "      <td>358</td>\n",
       "      <td>2000.0</td>\n",
       "      <td>3062.0</td>\n",
       "      <td>202412</td>\n",
       "    </tr>\n",
       "  </tbody>\n",
       "</table>\n",
       "<p>5218 rows × 5 columns</p>\n",
       "</div>"
      ],
      "text/plain": [
       "                                     user_id   DPD  principal_outstanding  \\\n",
       "301385  1f2b7fe3-77e6-43e3-96aa-7cf85f7f838e  1484                 6000.0   \n",
       "301386  d0c030ac-8e0a-42d0-8d8e-9fd22f95b5ae  1484                 4476.0   \n",
       "301387  b77738e1-4139-46c8-a549-7277f16c6d76   358                 3720.5   \n",
       "301388  4b08627d-31f1-49c4-85ae-0cd3e8d1f8f9   937                 4141.6   \n",
       "301389  d3f2368f-6e3f-4f06-82d0-019f4f792bde     0                    0.0   \n",
       "...                                      ...   ...                    ...   \n",
       "306598  aa3965c3-b18f-4325-ac68-19446f04d335     0                    0.0   \n",
       "306599  b7b3f6b9-0f26-4bd5-b777-c3289f955034   389                 4000.0   \n",
       "306600  4228b2dd-36a3-4a72-8eb2-fe3c29b61243   389                 1000.0   \n",
       "306601  c03f7619-3e31-413b-8b0d-5f7b8ca106d9   389                 3800.0   \n",
       "306602  f15dfe0c-e7b2-449d-841f-7162c9870005   358                 2000.0   \n",
       "\n",
       "        payment_max billing_cycle  \n",
       "301385       8194.8        202412  \n",
       "301386       6387.6        202412  \n",
       "301387       5313.5        202412  \n",
       "301388       5770.0        202412  \n",
       "301389          0.0        202412  \n",
       "...             ...           ...  \n",
       "306598          0.0        202412  \n",
       "306599       5062.0        202412  \n",
       "306600       2062.0        202412  \n",
       "306601       4862.0        202412  \n",
       "306602       3062.0        202412  \n",
       "\n",
       "[5218 rows x 5 columns]"
      ]
     },
     "execution_count": 47,
     "metadata": {},
     "output_type": "execute_result"
    }
   ],
   "source": [
    "DPD"
   ]
  },
  {
   "cell_type": "markdown",
   "metadata": {},
   "source": [
    "# model score"
   ]
  },
  {
   "cell_type": "markdown",
   "metadata": {},
   "source": [
    "## sms"
   ]
  },
  {
   "cell_type": "code",
   "execution_count": 9,
   "metadata": {},
   "outputs": [
    {
     "data": {
      "text/plain": [
       "((17195, 2), 17195)"
      ]
     },
     "execution_count": 9,
     "metadata": {},
     "output_type": "execute_result"
    }
   ],
   "source": [
    "sms_model_score = f\"\"\"\n",
    "select * from asp_playground.sms_gbm_model_score_for_transacting_user\n",
    "where user_id in {tuple(transacted_user.user_id)}\n",
    "\"\"\"\n",
    "flag, sms_model_score_data,error_msg = utility.data_fetch_v2(sms_model_score)\n",
    "\n",
    "# model_score_not_present_users= transacted_user[~transacted_user['user_id'].isin(sms_model_score_data.user_id)]\n",
    "\n",
    "sms_data = pd.read_csv(r'C:\\Users\\Niveditha\\Desktop\\Data_Science\\aspire\\sms pipeline\\SMS Features\\sms_file_output\\sms_score_output_pred_recently_trns.csv')\n",
    "sms_data = sms_data.rename(columns = {\"prediction\":\"sms_gbm_risk_model_score\"})\n",
    "sms_data.shape\n",
    "\n",
    "sms_model_score_ = sms_model_score_data[['user_id', 'sms_gbm_risk_model_score']].append(sms_data[['user_id', 'sms_gbm_risk_model_score']])\n",
    "sms_model_score_.shape, len(set(sms_model_score_.user_id))"
   ]
  },
  {
   "cell_type": "markdown",
   "metadata": {},
   "source": [
    "## bureau"
   ]
  },
  {
   "cell_type": "code",
   "execution_count": 10,
   "metadata": {},
   "outputs": [],
   "source": [
    "bureau_model_score = f\"\"\"\n",
    "select * from asp_playground.crif_risk_model_v2_score_s10_upto_nov282023\n",
    "where user_id in {tuple(users_4m.user_id)}\n",
    "\"\"\"\n",
    "flag, bureau_model_score_data,error_msg = utility.data_fetch_v2(bureau_model_score)\n",
    "bureau_model_score_data.columns\n",
    "bureau_model_score_data = bureau_model_score_data.drop_duplicates('user_id', keep='last')"
   ]
  },
  {
   "cell_type": "code",
   "execution_count": 11,
   "metadata": {},
   "outputs": [],
   "source": [
    "transacted_user =transacted_user.merge(sms_model_score_, on = 'user_id', how = 'left')\n",
    "transacted_user =transacted_user.merge(bureau_model_score_data, on = 'user_id', how = 'left')"
   ]
  },
  {
   "cell_type": "code",
   "execution_count": null,
   "metadata": {},
   "outputs": [],
   "source": [
    "\n",
    "\n",
    "statement_history = f\"\"\"\n",
    "select billing_cycle, count(distinct user_id) from statement_history\n",
    "group by billing_cycle\n",
    "\"\"\"\n",
    "flag, statement_history_,error_msg = utility.data_fetch_v2(statement_history)\n",
    "statement_history_"
   ]
  },
  {
   "cell_type": "markdown",
   "metadata": {},
   "source": [
    "# Organic"
   ]
  },
  {
   "cell_type": "code",
   "execution_count": 12,
   "metadata": {},
   "outputs": [],
   "source": [
    "def policy_organic(df):\n",
    "    approve = []\n",
    "    for i in range(len(df)):\n",
    "\n",
    "        if ((df['crif_lr_risk_model_score'][i]>0)&(df['crif_lr_risk_model_score'][i]<0.89)&\n",
    "            (df['sms_gbm_risk_model_score'][i]>0)&(df['sms_gbm_risk_model_score'][i]<0.3499)):\n",
    "            approve.append(1)\n",
    "        elif ((df['crif_lr_risk_model_score'][i]>0)&(df['crif_lr_risk_model_score'][i]<=0.31)&\n",
    "            (df['sms_gbm_risk_model_score'][i]>=0.3499)&(df['sms_gbm_risk_model_score'][i]<0.7725)):\n",
    "            approve.append(1)\n",
    "        elif (np.isnan(df['crif_lr_risk_model_score'][i])):\n",
    "            approve.append(1)\n",
    "        else:\n",
    "            approve.append(0)\n",
    "    df['new_policy_approved'] = approve\n",
    "    return df"
   ]
  },
  {
   "cell_type": "code",
   "execution_count": 13,
   "metadata": {},
   "outputs": [],
   "source": [
    "organic_users = sanction_data[(sanction_data['prod_group']=='4M')]\n",
    "organic_users_table =transacted_user[transacted_user['user_id'].isin(organic_users.user_id)][['user_id','crif_lr_risk_model_score','sms_gbm_risk_model_score']].reset_index(drop =True)\n",
    "organic_users_table = policy_organic(organic_users_table)"
   ]
  },
  {
   "cell_type": "code",
   "execution_count": 14,
   "metadata": {},
   "outputs": [
    {
     "data": {
      "text/plain": [
       "1    8007\n",
       "0    3667\n",
       "Name: new_policy_approved, dtype: int64"
      ]
     },
     "execution_count": 14,
     "metadata": {},
     "output_type": "execute_result"
    }
   ],
   "source": [
    "organic_users_table['new_policy_approved'].value_counts()\n"
   ]
  },
  {
   "cell_type": "code",
   "execution_count": 15,
   "metadata": {},
   "outputs": [
    {
     "data": {
      "text/plain": [
       "(8007, 19)"
      ]
     },
     "execution_count": 15,
     "metadata": {},
     "output_type": "execute_result"
    }
   ],
   "source": [
    "users_4m = users_4m[users_4m['user_id'].isin(organic_users_table[organic_users_table['new_policy_approved']==1]['user_id'])].reset_index(drop = True)\n",
    "users_4m.shape"
   ]
  },
  {
   "cell_type": "markdown",
   "metadata": {},
   "source": [
    "# fee paid 4M"
   ]
  },
  {
   "cell_type": "code",
   "execution_count": 16,
   "metadata": {},
   "outputs": [],
   "source": [
    "'''\n",
    "fee cohort\n",
    "'''\n",
    "\n",
    "users_4m = sanction_data[sanction_data['prod_group']=='4M']\n",
    "# users_4m = users_4m[users_4m['user_id'].isin(organic_users_table[organic_users_table['new_policy_approved']==1]['user_id'])].reset_index(drop = True)\n",
    "\n",
    "\n",
    "def statement_h_fun(users_not_there,billing_cycle):\n",
    "    fee_paid  = f\"\"\"\n",
    "    SELECT s.user_id,\n",
    "    (case when MONTH(s.due_date)<10 then concat(YEAR(s.due_date),\"0\", MONTH(s.due_date)) ELSE concat(YEAR(s.due_date),MONTH(s.due_date))  END) AS billing_cycle,\n",
    "    SUM((case when s.payment_status = \"Paid\" AND s.charge_type = \"bMonthly\"  then s.amount/1.18 ELSE 0 END)) AS monthly_fee_paid,\n",
    "    SUM((case when s.payment_status = \"Paid\" AND s.charge_type = \"cLatefee\"  then s.amount/1.18 ELSE 0 END)) AS late_fee_paid\n",
    "    FROM statement_history AS s\n",
    "    WHERE s.charge_type <> 'aTranch' and user_id in {tuple(users_not_there.user_id)}\n",
    "    and billing_cycle = {billing_cycle}\n",
    "    GROUP BY 1,2\n",
    "    \"\"\"\n",
    "    parse_date = {}\n",
    "    # otp_varified_user=pd.read_sql(otp_varified, db_connection)\n",
    "    flag,fee_paid_data1, error_msg = utility.data_fetch_v2(fee_paid)\n",
    "    # fee_paid_data.head()\n",
    "    return fee_paid_data1"
   ]
  },
  {
   "cell_type": "code",
   "execution_count": 27,
   "metadata": {},
   "outputs": [
    {
     "name": "stdout",
     "output_type": "stream",
     "text": [
      "11674\n",
      "7551\n",
      "7547\n",
      "7516\n",
      "7467\n",
      "7424\n",
      "6921\n",
      "1187\n",
      "1082\n",
      "1047\n",
      "1007\n",
      "920\n",
      "865\n",
      "763\n",
      "726\n",
      "410\n",
      "385\n",
      "370\n",
      "345\n",
      "327\n",
      "296\n",
      "272\n",
      "252\n",
      "166\n",
      "166\n",
      "166\n",
      "166\n",
      "166\n",
      "166\n",
      "166\n",
      "166\n",
      "166\n",
      "166\n",
      "166\n"
     ]
    }
   ],
   "source": [
    "fee_paid_data = pd.DataFrame({'user_id' : []})\n",
    "billing_cycle_list = ['202407','202406','202405','202404','202403','202402','202401','202311','202310','202309','202308','202307','202306','202305',\n",
    "                      '202304','202303','202302','202301','202212','202211',\n",
    "                      '202210','202209','202208','202207','202206','202205','202204',\n",
    "                      '202203','202202','202201','202112', '202111','202110','202109']\n",
    "for i in range(len(billing_cycle_list)): \n",
    "    users_not_there = users_4m[~(users_4m['user_id'].isin(fee_paid_data.user_id))]\n",
    "    print(len(users_not_there))\n",
    "    fee_paid_chunk = statement_h_fun(users_not_there,billing_cycle_list[i])\n",
    "    fee_paid_data = fee_paid_data.append(fee_paid_chunk)"
   ]
  },
  {
   "cell_type": "markdown",
   "metadata": {},
   "source": [
    "## Merging"
   ]
  },
  {
   "cell_type": "code",
   "execution_count": 28,
   "metadata": {},
   "outputs": [
    {
     "data": {
      "text/plain": [
       "((128053, 4), (11674, 4), 11674)"
      ]
     },
     "execution_count": 28,
     "metadata": {},
     "output_type": "execute_result"
    }
   ],
   "source": [
    "fee_paid_data.shape, organic_users_table.shape, len(set(organic_users_table.user_id))"
   ]
  },
  {
   "cell_type": "code",
   "execution_count": 29,
   "metadata": {},
   "outputs": [],
   "source": [
    "fee_paid_data = fee_paid_data.merge(organic_users_table[[\"user_id\",\"new_policy_approved\"]],  on =\"user_id\", how = \"left\")"
   ]
  },
  {
   "cell_type": "code",
   "execution_count": 30,
   "metadata": {},
   "outputs": [
    {
     "data": {
      "text/html": [
       "<div>\n",
       "<style scoped>\n",
       "    .dataframe tbody tr th:only-of-type {\n",
       "        vertical-align: middle;\n",
       "    }\n",
       "\n",
       "    .dataframe tbody tr th {\n",
       "        vertical-align: top;\n",
       "    }\n",
       "\n",
       "    .dataframe thead th {\n",
       "        text-align: right;\n",
       "    }\n",
       "</style>\n",
       "<table border=\"1\" class=\"dataframe\">\n",
       "  <thead>\n",
       "    <tr style=\"text-align: right;\">\n",
       "      <th></th>\n",
       "      <th>user_id</th>\n",
       "      <th>billing_cycle</th>\n",
       "      <th>monthly_fee_paid</th>\n",
       "      <th>late_fee_paid</th>\n",
       "      <th>new_policy_approved</th>\n",
       "    </tr>\n",
       "  </thead>\n",
       "  <tbody>\n",
       "    <tr>\n",
       "      <th>0</th>\n",
       "      <td>000ade4b-897e-450a-89f2-2f5e3078737e</td>\n",
       "      <td>202305</td>\n",
       "      <td>214.79661</td>\n",
       "      <td>0.0</td>\n",
       "      <td>0</td>\n",
       "    </tr>\n",
       "    <tr>\n",
       "      <th>1</th>\n",
       "      <td>000ade4b-897e-450a-89f2-2f5e3078737e</td>\n",
       "      <td>202306</td>\n",
       "      <td>214.79661</td>\n",
       "      <td>0.0</td>\n",
       "      <td>0</td>\n",
       "    </tr>\n",
       "    <tr>\n",
       "      <th>2</th>\n",
       "      <td>000ade4b-897e-450a-89f2-2f5e3078737e</td>\n",
       "      <td>202307</td>\n",
       "      <td>214.79661</td>\n",
       "      <td>0.0</td>\n",
       "      <td>0</td>\n",
       "    </tr>\n",
       "    <tr>\n",
       "      <th>3</th>\n",
       "      <td>000ade4b-897e-450a-89f2-2f5e3078737e</td>\n",
       "      <td>202308</td>\n",
       "      <td>214.79661</td>\n",
       "      <td>0.0</td>\n",
       "      <td>0</td>\n",
       "    </tr>\n",
       "    <tr>\n",
       "      <th>4</th>\n",
       "      <td>000ade4b-897e-450a-89f2-2f5e3078737e</td>\n",
       "      <td>202309</td>\n",
       "      <td>0.00000</td>\n",
       "      <td>0.0</td>\n",
       "      <td>0</td>\n",
       "    </tr>\n",
       "    <tr>\n",
       "      <th>...</th>\n",
       "      <td>...</td>\n",
       "      <td>...</td>\n",
       "      <td>...</td>\n",
       "      <td>...</td>\n",
       "      <td>...</td>\n",
       "    </tr>\n",
       "    <tr>\n",
       "      <th>128048</th>\n",
       "      <td>fd7ec252-76d6-43ac-8532-cf9bbe1ea24e</td>\n",
       "      <td>202208</td>\n",
       "      <td>0.00000</td>\n",
       "      <td>300.0</td>\n",
       "      <td>0</td>\n",
       "    </tr>\n",
       "    <tr>\n",
       "      <th>128049</th>\n",
       "      <td>ffe398bb-08eb-4570-be61-fa9792534075</td>\n",
       "      <td>202202</td>\n",
       "      <td>90.00000</td>\n",
       "      <td>0.0</td>\n",
       "      <td>1</td>\n",
       "    </tr>\n",
       "    <tr>\n",
       "      <th>128050</th>\n",
       "      <td>ffe398bb-08eb-4570-be61-fa9792534075</td>\n",
       "      <td>202205</td>\n",
       "      <td>90.00000</td>\n",
       "      <td>0.0</td>\n",
       "      <td>1</td>\n",
       "    </tr>\n",
       "    <tr>\n",
       "      <th>128051</th>\n",
       "      <td>ffe398bb-08eb-4570-be61-fa9792534075</td>\n",
       "      <td>202206</td>\n",
       "      <td>90.00000</td>\n",
       "      <td>0.0</td>\n",
       "      <td>1</td>\n",
       "    </tr>\n",
       "    <tr>\n",
       "      <th>128052</th>\n",
       "      <td>ffe398bb-08eb-4570-be61-fa9792534075</td>\n",
       "      <td>202207</td>\n",
       "      <td>90.00000</td>\n",
       "      <td>0.0</td>\n",
       "      <td>1</td>\n",
       "    </tr>\n",
       "  </tbody>\n",
       "</table>\n",
       "<p>128053 rows × 5 columns</p>\n",
       "</div>"
      ],
      "text/plain": [
       "                                     user_id billing_cycle  monthly_fee_paid  \\\n",
       "0       000ade4b-897e-450a-89f2-2f5e3078737e        202305         214.79661   \n",
       "1       000ade4b-897e-450a-89f2-2f5e3078737e        202306         214.79661   \n",
       "2       000ade4b-897e-450a-89f2-2f5e3078737e        202307         214.79661   \n",
       "3       000ade4b-897e-450a-89f2-2f5e3078737e        202308         214.79661   \n",
       "4       000ade4b-897e-450a-89f2-2f5e3078737e        202309           0.00000   \n",
       "...                                      ...           ...               ...   \n",
       "128048  fd7ec252-76d6-43ac-8532-cf9bbe1ea24e        202208           0.00000   \n",
       "128049  ffe398bb-08eb-4570-be61-fa9792534075        202202          90.00000   \n",
       "128050  ffe398bb-08eb-4570-be61-fa9792534075        202205          90.00000   \n",
       "128051  ffe398bb-08eb-4570-be61-fa9792534075        202206          90.00000   \n",
       "128052  ffe398bb-08eb-4570-be61-fa9792534075        202207          90.00000   \n",
       "\n",
       "        late_fee_paid  new_policy_approved  \n",
       "0                 0.0                    0  \n",
       "1                 0.0                    0  \n",
       "2                 0.0                    0  \n",
       "3                 0.0                    0  \n",
       "4                 0.0                    0  \n",
       "...               ...                  ...  \n",
       "128048          300.0                    0  \n",
       "128049            0.0                    1  \n",
       "128050            0.0                    1  \n",
       "128051            0.0                    1  \n",
       "128052            0.0                    1  \n",
       "\n",
       "[128053 rows x 5 columns]"
      ]
     },
     "execution_count": 30,
     "metadata": {},
     "output_type": "execute_result"
    }
   ],
   "source": [
    "# fee_paid_data[[\"new_policy_approved\",\"monthly_fee_paid\"]].value_counts()\n",
    "fee_paid_data"
   ]
  },
  {
   "cell_type": "code",
   "execution_count": 31,
   "metadata": {},
   "outputs": [
    {
     "data": {
      "text/plain": [
       "new_policy_approved\n",
       "0     6855996.0\n",
       "1    16795350.0\n",
       "Name: monthly_fee_paid, dtype: float64"
      ]
     },
     "execution_count": 31,
     "metadata": {},
     "output_type": "execute_result"
    }
   ],
   "source": [
    "fee_paid_data.groupby(\"new_policy_approved\")[\"monthly_fee_paid\"].sum().round(0)\n",
    "# fee_paid_data.columns"
   ]
  },
  {
   "cell_type": "code",
   "execution_count": 33,
   "metadata": {},
   "outputs": [
    {
     "data": {
      "text/plain": [
       "new_policy_approved\n",
       "0     808910.0\n",
       "1    1205403.0\n",
       "Name: late_fee_paid, dtype: float64"
      ]
     },
     "execution_count": 33,
     "metadata": {},
     "output_type": "execute_result"
    }
   ],
   "source": [
    "fee_paid_data.groupby(\"new_policy_approved\")[\"late_fee_paid\"].sum().round(0)\n"
   ]
  },
  {
   "cell_type": "code",
   "execution_count": 25,
   "metadata": {},
   "outputs": [
    {
     "data": {
      "text/html": [
       "<div>\n",
       "<style scoped>\n",
       "    .dataframe tbody tr th:only-of-type {\n",
       "        vertical-align: middle;\n",
       "    }\n",
       "\n",
       "    .dataframe tbody tr th {\n",
       "        vertical-align: top;\n",
       "    }\n",
       "\n",
       "    .dataframe thead th {\n",
       "        text-align: right;\n",
       "    }\n",
       "</style>\n",
       "<table border=\"1\" class=\"dataframe\">\n",
       "  <thead>\n",
       "    <tr style=\"text-align: right;\">\n",
       "      <th></th>\n",
       "      <th>user_id</th>\n",
       "      <th>billing_cycle</th>\n",
       "      <th>monthly_fee_paid</th>\n",
       "      <th>late_fee_paid</th>\n",
       "      <th>new_policy_approved</th>\n",
       "    </tr>\n",
       "  </thead>\n",
       "  <tbody>\n",
       "    <tr>\n",
       "      <th>0</th>\n",
       "      <td>000ade4b-897e-450a-89f2-2f5e3078737e</td>\n",
       "      <td>202305</td>\n",
       "      <td>429.59322</td>\n",
       "      <td>0.0</td>\n",
       "      <td>0</td>\n",
       "    </tr>\n",
       "    <tr>\n",
       "      <th>1</th>\n",
       "      <td>000ade4b-897e-450a-89f2-2f5e3078737e</td>\n",
       "      <td>202306</td>\n",
       "      <td>429.59322</td>\n",
       "      <td>0.0</td>\n",
       "      <td>0</td>\n",
       "    </tr>\n",
       "    <tr>\n",
       "      <th>2</th>\n",
       "      <td>000ade4b-897e-450a-89f2-2f5e3078737e</td>\n",
       "      <td>202307</td>\n",
       "      <td>429.59322</td>\n",
       "      <td>0.0</td>\n",
       "      <td>0</td>\n",
       "    </tr>\n",
       "    <tr>\n",
       "      <th>3</th>\n",
       "      <td>000ade4b-897e-450a-89f2-2f5e3078737e</td>\n",
       "      <td>202308</td>\n",
       "      <td>429.59322</td>\n",
       "      <td>0.0</td>\n",
       "      <td>0</td>\n",
       "    </tr>\n",
       "    <tr>\n",
       "      <th>4</th>\n",
       "      <td>000ade4b-897e-450a-89f2-2f5e3078737e</td>\n",
       "      <td>202309</td>\n",
       "      <td>0.00000</td>\n",
       "      <td>0.0</td>\n",
       "      <td>0</td>\n",
       "    </tr>\n",
       "    <tr>\n",
       "      <th>...</th>\n",
       "      <td>...</td>\n",
       "      <td>...</td>\n",
       "      <td>...</td>\n",
       "      <td>...</td>\n",
       "      <td>...</td>\n",
       "    </tr>\n",
       "    <tr>\n",
       "      <th>128048</th>\n",
       "      <td>fd7ec252-76d6-43ac-8532-cf9bbe1ea24e</td>\n",
       "      <td>202208</td>\n",
       "      <td>0.00000</td>\n",
       "      <td>300.0</td>\n",
       "      <td>0</td>\n",
       "    </tr>\n",
       "    <tr>\n",
       "      <th>128049</th>\n",
       "      <td>ffe398bb-08eb-4570-be61-fa9792534075</td>\n",
       "      <td>202202</td>\n",
       "      <td>90.00000</td>\n",
       "      <td>0.0</td>\n",
       "      <td>1</td>\n",
       "    </tr>\n",
       "    <tr>\n",
       "      <th>128050</th>\n",
       "      <td>ffe398bb-08eb-4570-be61-fa9792534075</td>\n",
       "      <td>202205</td>\n",
       "      <td>90.00000</td>\n",
       "      <td>0.0</td>\n",
       "      <td>1</td>\n",
       "    </tr>\n",
       "    <tr>\n",
       "      <th>128051</th>\n",
       "      <td>ffe398bb-08eb-4570-be61-fa9792534075</td>\n",
       "      <td>202206</td>\n",
       "      <td>90.00000</td>\n",
       "      <td>0.0</td>\n",
       "      <td>1</td>\n",
       "    </tr>\n",
       "    <tr>\n",
       "      <th>128052</th>\n",
       "      <td>ffe398bb-08eb-4570-be61-fa9792534075</td>\n",
       "      <td>202207</td>\n",
       "      <td>90.00000</td>\n",
       "      <td>0.0</td>\n",
       "      <td>1</td>\n",
       "    </tr>\n",
       "  </tbody>\n",
       "</table>\n",
       "<p>128053 rows × 5 columns</p>\n",
       "</div>"
      ],
      "text/plain": [
       "                                     user_id billing_cycle  monthly_fee_paid  \\\n",
       "0       000ade4b-897e-450a-89f2-2f5e3078737e        202305         429.59322   \n",
       "1       000ade4b-897e-450a-89f2-2f5e3078737e        202306         429.59322   \n",
       "2       000ade4b-897e-450a-89f2-2f5e3078737e        202307         429.59322   \n",
       "3       000ade4b-897e-450a-89f2-2f5e3078737e        202308         429.59322   \n",
       "4       000ade4b-897e-450a-89f2-2f5e3078737e        202309           0.00000   \n",
       "...                                      ...           ...               ...   \n",
       "128048  fd7ec252-76d6-43ac-8532-cf9bbe1ea24e        202208           0.00000   \n",
       "128049  ffe398bb-08eb-4570-be61-fa9792534075        202202          90.00000   \n",
       "128050  ffe398bb-08eb-4570-be61-fa9792534075        202205          90.00000   \n",
       "128051  ffe398bb-08eb-4570-be61-fa9792534075        202206          90.00000   \n",
       "128052  ffe398bb-08eb-4570-be61-fa9792534075        202207          90.00000   \n",
       "\n",
       "        late_fee_paid  new_policy_approved  \n",
       "0                 0.0                    0  \n",
       "1                 0.0                    0  \n",
       "2                 0.0                    0  \n",
       "3                 0.0                    0  \n",
       "4                 0.0                    0  \n",
       "...               ...                  ...  \n",
       "128048          300.0                    0  \n",
       "128049            0.0                    1  \n",
       "128050            0.0                    1  \n",
       "128051            0.0                    1  \n",
       "128052            0.0                    1  \n",
       "\n",
       "[128053 rows x 5 columns]"
      ]
     },
     "execution_count": 25,
     "metadata": {},
     "output_type": "execute_result"
    }
   ],
   "source": [
    "fee_paid_data"
   ]
  },
  {
   "cell_type": "code",
   "execution_count": 49,
   "metadata": {},
   "outputs": [
    {
     "data": {
      "text/plain": [
       "Index(['user_id', 'billing_cycle', 'monthly_fee_paid', 'late_fee_paid',\n",
       "       'new_policy_approved'],\n",
       "      dtype='object')"
      ]
     },
     "execution_count": 49,
     "metadata": {},
     "output_type": "execute_result"
    }
   ],
   "source": [
    "fee_paid_data.columns"
   ]
  },
  {
   "cell_type": "code",
   "execution_count": 25,
   "metadata": {},
   "outputs": [],
   "source": [
    "# organic_users_table = organic_users_table[organic_users_table['new_policy_approved']==1].reset_index(drop = True)"
   ]
  },
  {
   "cell_type": "code",
   "execution_count": null,
   "metadata": {},
   "outputs": [],
   "source": [
    "tol_disbursed_amt = merchant_payments_data.groupby('user_id')['disbursal'].sum().rename('total_disbursed').reset_index()\n",
    "final = organic_users_table.merge(tol_disbursed_amt, on = 'user_id', how= 'left')\n",
    "final = final.merge(DPD, on = 'user_id', how= 'left')\n",
    "final"
   ]
  },
  {
   "cell_type": "code",
   "execution_count": 51,
   "metadata": {},
   "outputs": [
    {
     "data": {
      "text/html": [
       "<div>\n",
       "<style scoped>\n",
       "    .dataframe tbody tr th:only-of-type {\n",
       "        vertical-align: middle;\n",
       "    }\n",
       "\n",
       "    .dataframe tbody tr th {\n",
       "        vertical-align: top;\n",
       "    }\n",
       "\n",
       "    .dataframe thead th {\n",
       "        text-align: right;\n",
       "    }\n",
       "</style>\n",
       "<table border=\"1\" class=\"dataframe\">\n",
       "  <thead>\n",
       "    <tr style=\"text-align: right;\">\n",
       "      <th></th>\n",
       "      <th>user_id</th>\n",
       "      <th>DPD</th>\n",
       "      <th>principal_outstanding</th>\n",
       "      <th>payment_max</th>\n",
       "      <th>billing_cycle</th>\n",
       "    </tr>\n",
       "  </thead>\n",
       "  <tbody>\n",
       "    <tr>\n",
       "      <th>301385</th>\n",
       "      <td>1f2b7fe3-77e6-43e3-96aa-7cf85f7f838e</td>\n",
       "      <td>1484</td>\n",
       "      <td>6000.0</td>\n",
       "      <td>8194.8</td>\n",
       "      <td>202412</td>\n",
       "    </tr>\n",
       "    <tr>\n",
       "      <th>301386</th>\n",
       "      <td>d0c030ac-8e0a-42d0-8d8e-9fd22f95b5ae</td>\n",
       "      <td>1484</td>\n",
       "      <td>4476.0</td>\n",
       "      <td>6387.6</td>\n",
       "      <td>202412</td>\n",
       "    </tr>\n",
       "    <tr>\n",
       "      <th>301387</th>\n",
       "      <td>b77738e1-4139-46c8-a549-7277f16c6d76</td>\n",
       "      <td>358</td>\n",
       "      <td>3720.5</td>\n",
       "      <td>5313.5</td>\n",
       "      <td>202412</td>\n",
       "    </tr>\n",
       "    <tr>\n",
       "      <th>301388</th>\n",
       "      <td>4b08627d-31f1-49c4-85ae-0cd3e8d1f8f9</td>\n",
       "      <td>937</td>\n",
       "      <td>4141.6</td>\n",
       "      <td>5770.0</td>\n",
       "      <td>202412</td>\n",
       "    </tr>\n",
       "    <tr>\n",
       "      <th>301389</th>\n",
       "      <td>d3f2368f-6e3f-4f06-82d0-019f4f792bde</td>\n",
       "      <td>0</td>\n",
       "      <td>0.0</td>\n",
       "      <td>0.0</td>\n",
       "      <td>202412</td>\n",
       "    </tr>\n",
       "    <tr>\n",
       "      <th>...</th>\n",
       "      <td>...</td>\n",
       "      <td>...</td>\n",
       "      <td>...</td>\n",
       "      <td>...</td>\n",
       "      <td>...</td>\n",
       "    </tr>\n",
       "    <tr>\n",
       "      <th>306598</th>\n",
       "      <td>aa3965c3-b18f-4325-ac68-19446f04d335</td>\n",
       "      <td>0</td>\n",
       "      <td>0.0</td>\n",
       "      <td>0.0</td>\n",
       "      <td>202412</td>\n",
       "    </tr>\n",
       "    <tr>\n",
       "      <th>306599</th>\n",
       "      <td>b7b3f6b9-0f26-4bd5-b777-c3289f955034</td>\n",
       "      <td>389</td>\n",
       "      <td>4000.0</td>\n",
       "      <td>5062.0</td>\n",
       "      <td>202412</td>\n",
       "    </tr>\n",
       "    <tr>\n",
       "      <th>306600</th>\n",
       "      <td>4228b2dd-36a3-4a72-8eb2-fe3c29b61243</td>\n",
       "      <td>389</td>\n",
       "      <td>1000.0</td>\n",
       "      <td>2062.0</td>\n",
       "      <td>202412</td>\n",
       "    </tr>\n",
       "    <tr>\n",
       "      <th>306601</th>\n",
       "      <td>c03f7619-3e31-413b-8b0d-5f7b8ca106d9</td>\n",
       "      <td>389</td>\n",
       "      <td>3800.0</td>\n",
       "      <td>4862.0</td>\n",
       "      <td>202412</td>\n",
       "    </tr>\n",
       "    <tr>\n",
       "      <th>306602</th>\n",
       "      <td>f15dfe0c-e7b2-449d-841f-7162c9870005</td>\n",
       "      <td>358</td>\n",
       "      <td>2000.0</td>\n",
       "      <td>3062.0</td>\n",
       "      <td>202412</td>\n",
       "    </tr>\n",
       "  </tbody>\n",
       "</table>\n",
       "<p>5218 rows × 5 columns</p>\n",
       "</div>"
      ],
      "text/plain": [
       "                                     user_id   DPD  principal_outstanding  \\\n",
       "301385  1f2b7fe3-77e6-43e3-96aa-7cf85f7f838e  1484                 6000.0   \n",
       "301386  d0c030ac-8e0a-42d0-8d8e-9fd22f95b5ae  1484                 4476.0   \n",
       "301387  b77738e1-4139-46c8-a549-7277f16c6d76   358                 3720.5   \n",
       "301388  4b08627d-31f1-49c4-85ae-0cd3e8d1f8f9   937                 4141.6   \n",
       "301389  d3f2368f-6e3f-4f06-82d0-019f4f792bde     0                    0.0   \n",
       "...                                      ...   ...                    ...   \n",
       "306598  aa3965c3-b18f-4325-ac68-19446f04d335     0                    0.0   \n",
       "306599  b7b3f6b9-0f26-4bd5-b777-c3289f955034   389                 4000.0   \n",
       "306600  4228b2dd-36a3-4a72-8eb2-fe3c29b61243   389                 1000.0   \n",
       "306601  c03f7619-3e31-413b-8b0d-5f7b8ca106d9   389                 3800.0   \n",
       "306602  f15dfe0c-e7b2-449d-841f-7162c9870005   358                 2000.0   \n",
       "\n",
       "        payment_max billing_cycle  \n",
       "301385       8194.8        202412  \n",
       "301386       6387.6        202412  \n",
       "301387       5313.5        202412  \n",
       "301388       5770.0        202412  \n",
       "301389          0.0        202412  \n",
       "...             ...           ...  \n",
       "306598          0.0        202412  \n",
       "306599       5062.0        202412  \n",
       "306600       2062.0        202412  \n",
       "306601       4862.0        202412  \n",
       "306602       3062.0        202412  \n",
       "\n",
       "[5218 rows x 5 columns]"
      ]
     },
     "execution_count": 51,
     "metadata": {},
     "output_type": "execute_result"
    }
   ],
   "source": [
    "DPD"
   ]
  },
  {
   "cell_type": "code",
   "execution_count": 38,
   "metadata": {},
   "outputs": [],
   "source": [
    "tol_disbursed_amt = merchant_payments_data.groupby('user_id')['disbursal'].sum().rename('total_disbursed').reset_index()\n",
    "final = organic_users_table.merge(tol_disbursed_amt, on = 'user_id', how= 'left')\n",
    "final = final.merge(DPD, on = 'user_id', how= 'left')\n",
    "final = final.merge(fee_paid_data[['user_id', 'billing_cycle', 'monthly_fee_paid', 'late_fee_paid']], on = 'user_id', how= 'left')\n",
    "# final = final.merge(organic_users_table[['user_id','new_policy_approved']])\n",
    "\n",
    "merchant_payments_data[merchant_payments_data['user_id'].isin(final.user_id)].to_csv('4m_disbursal_with_date.csv')"
   ]
  },
  {
   "cell_type": "code",
   "execution_count": 39,
   "metadata": {},
   "outputs": [
    {
     "data": {
      "text/html": [
       "<div>\n",
       "<style scoped>\n",
       "    .dataframe tbody tr th:only-of-type {\n",
       "        vertical-align: middle;\n",
       "    }\n",
       "\n",
       "    .dataframe tbody tr th {\n",
       "        vertical-align: top;\n",
       "    }\n",
       "\n",
       "    .dataframe thead th {\n",
       "        text-align: right;\n",
       "    }\n",
       "</style>\n",
       "<table border=\"1\" class=\"dataframe\">\n",
       "  <thead>\n",
       "    <tr style=\"text-align: right;\">\n",
       "      <th></th>\n",
       "      <th>user_id</th>\n",
       "      <th>billing_cycle</th>\n",
       "      <th>monthly_fee_paid</th>\n",
       "      <th>late_fee_paid</th>\n",
       "      <th>new_policy_approved</th>\n",
       "    </tr>\n",
       "  </thead>\n",
       "  <tbody>\n",
       "    <tr>\n",
       "      <th>0</th>\n",
       "      <td>000ade4b-897e-450a-89f2-2f5e3078737e</td>\n",
       "      <td>202305</td>\n",
       "      <td>214.79661</td>\n",
       "      <td>0.0</td>\n",
       "      <td>0</td>\n",
       "    </tr>\n",
       "    <tr>\n",
       "      <th>1</th>\n",
       "      <td>000ade4b-897e-450a-89f2-2f5e3078737e</td>\n",
       "      <td>202306</td>\n",
       "      <td>214.79661</td>\n",
       "      <td>0.0</td>\n",
       "      <td>0</td>\n",
       "    </tr>\n",
       "    <tr>\n",
       "      <th>2</th>\n",
       "      <td>000ade4b-897e-450a-89f2-2f5e3078737e</td>\n",
       "      <td>202307</td>\n",
       "      <td>214.79661</td>\n",
       "      <td>0.0</td>\n",
       "      <td>0</td>\n",
       "    </tr>\n",
       "    <tr>\n",
       "      <th>3</th>\n",
       "      <td>000ade4b-897e-450a-89f2-2f5e3078737e</td>\n",
       "      <td>202308</td>\n",
       "      <td>214.79661</td>\n",
       "      <td>0.0</td>\n",
       "      <td>0</td>\n",
       "    </tr>\n",
       "    <tr>\n",
       "      <th>4</th>\n",
       "      <td>000ade4b-897e-450a-89f2-2f5e3078737e</td>\n",
       "      <td>202309</td>\n",
       "      <td>0.00000</td>\n",
       "      <td>0.0</td>\n",
       "      <td>0</td>\n",
       "    </tr>\n",
       "    <tr>\n",
       "      <th>...</th>\n",
       "      <td>...</td>\n",
       "      <td>...</td>\n",
       "      <td>...</td>\n",
       "      <td>...</td>\n",
       "      <td>...</td>\n",
       "    </tr>\n",
       "    <tr>\n",
       "      <th>128044</th>\n",
       "      <td>fd7ec252-76d6-43ac-8532-cf9bbe1ea24e</td>\n",
       "      <td>202204</td>\n",
       "      <td>15.00000</td>\n",
       "      <td>300.0</td>\n",
       "      <td>0</td>\n",
       "    </tr>\n",
       "    <tr>\n",
       "      <th>128045</th>\n",
       "      <td>fd7ec252-76d6-43ac-8532-cf9bbe1ea24e</td>\n",
       "      <td>202205</td>\n",
       "      <td>15.00000</td>\n",
       "      <td>300.0</td>\n",
       "      <td>0</td>\n",
       "    </tr>\n",
       "    <tr>\n",
       "      <th>128046</th>\n",
       "      <td>fd7ec252-76d6-43ac-8532-cf9bbe1ea24e</td>\n",
       "      <td>202206</td>\n",
       "      <td>15.00000</td>\n",
       "      <td>300.0</td>\n",
       "      <td>0</td>\n",
       "    </tr>\n",
       "    <tr>\n",
       "      <th>128047</th>\n",
       "      <td>fd7ec252-76d6-43ac-8532-cf9bbe1ea24e</td>\n",
       "      <td>202207</td>\n",
       "      <td>0.00000</td>\n",
       "      <td>300.0</td>\n",
       "      <td>0</td>\n",
       "    </tr>\n",
       "    <tr>\n",
       "      <th>128048</th>\n",
       "      <td>fd7ec252-76d6-43ac-8532-cf9bbe1ea24e</td>\n",
       "      <td>202208</td>\n",
       "      <td>0.00000</td>\n",
       "      <td>300.0</td>\n",
       "      <td>0</td>\n",
       "    </tr>\n",
       "  </tbody>\n",
       "</table>\n",
       "<p>48450 rows × 5 columns</p>\n",
       "</div>"
      ],
      "text/plain": [
       "                                     user_id billing_cycle  monthly_fee_paid  \\\n",
       "0       000ade4b-897e-450a-89f2-2f5e3078737e        202305         214.79661   \n",
       "1       000ade4b-897e-450a-89f2-2f5e3078737e        202306         214.79661   \n",
       "2       000ade4b-897e-450a-89f2-2f5e3078737e        202307         214.79661   \n",
       "3       000ade4b-897e-450a-89f2-2f5e3078737e        202308         214.79661   \n",
       "4       000ade4b-897e-450a-89f2-2f5e3078737e        202309           0.00000   \n",
       "...                                      ...           ...               ...   \n",
       "128044  fd7ec252-76d6-43ac-8532-cf9bbe1ea24e        202204          15.00000   \n",
       "128045  fd7ec252-76d6-43ac-8532-cf9bbe1ea24e        202205          15.00000   \n",
       "128046  fd7ec252-76d6-43ac-8532-cf9bbe1ea24e        202206          15.00000   \n",
       "128047  fd7ec252-76d6-43ac-8532-cf9bbe1ea24e        202207           0.00000   \n",
       "128048  fd7ec252-76d6-43ac-8532-cf9bbe1ea24e        202208           0.00000   \n",
       "\n",
       "        late_fee_paid  new_policy_approved  \n",
       "0                 0.0                    0  \n",
       "1                 0.0                    0  \n",
       "2                 0.0                    0  \n",
       "3                 0.0                    0  \n",
       "4                 0.0                    0  \n",
       "...               ...                  ...  \n",
       "128044          300.0                    0  \n",
       "128045          300.0                    0  \n",
       "128046          300.0                    0  \n",
       "128047          300.0                    0  \n",
       "128048          300.0                    0  \n",
       "\n",
       "[48450 rows x 5 columns]"
      ]
     },
     "execution_count": 39,
     "metadata": {},
     "output_type": "execute_result"
    }
   ],
   "source": [
    "fee_paid_data[fee_paid_data['user_id'].isin(final[final[\"new_policy_approved\"]==0]['user_id'])]"
   ]
  },
  {
   "cell_type": "code",
   "execution_count": 40,
   "metadata": {},
   "outputs": [
    {
     "data": {
      "text/plain": [
       "new_policy_approved\n",
       "0     808910.0\n",
       "1    1205403.0\n",
       "Name: late_fee_paid, dtype: float64"
      ]
     },
     "execution_count": 40,
     "metadata": {},
     "output_type": "execute_result"
    }
   ],
   "source": [
    "final.groupby(\"new_policy_approved\")[\"late_fee_paid\"].sum().round(0)"
   ]
  },
  {
   "cell_type": "code",
   "execution_count": 41,
   "metadata": {},
   "outputs": [
    {
     "data": {
      "text/plain": [
       "11674"
      ]
     },
     "execution_count": 41,
     "metadata": {},
     "output_type": "execute_result"
    }
   ],
   "source": [
    "len(set(final.user_id))"
   ]
  },
  {
   "cell_type": "code",
   "execution_count": 42,
   "metadata": {},
   "outputs": [
    {
     "data": {
      "text/plain": [
       "new_policy_approved\n",
       "0    48451\n",
       "1    79768\n",
       "Name: user_id, dtype: int64"
      ]
     },
     "execution_count": 42,
     "metadata": {},
     "output_type": "execute_result"
    }
   ],
   "source": [
    "final.groupby(\"new_policy_approved\")[\"user_id\"].count()"
   ]
  },
  {
   "cell_type": "code",
   "execution_count": 43,
   "metadata": {},
   "outputs": [
    {
     "data": {
      "text/html": [
       "<div>\n",
       "<style scoped>\n",
       "    .dataframe tbody tr th:only-of-type {\n",
       "        vertical-align: middle;\n",
       "    }\n",
       "\n",
       "    .dataframe tbody tr th {\n",
       "        vertical-align: top;\n",
       "    }\n",
       "\n",
       "    .dataframe thead th {\n",
       "        text-align: right;\n",
       "    }\n",
       "</style>\n",
       "<table border=\"1\" class=\"dataframe\">\n",
       "  <thead>\n",
       "    <tr style=\"text-align: right;\">\n",
       "      <th></th>\n",
       "      <th>user_id</th>\n",
       "      <th>crif_lr_risk_model_score</th>\n",
       "      <th>sms_gbm_risk_model_score</th>\n",
       "      <th>new_policy_approved</th>\n",
       "      <th>total_disbursed</th>\n",
       "      <th>DPD</th>\n",
       "      <th>principal_outstanding</th>\n",
       "      <th>payment_max</th>\n",
       "      <th>billing_cycle_x</th>\n",
       "      <th>billing_cycle_y</th>\n",
       "      <th>monthly_fee_paid</th>\n",
       "      <th>late_fee_paid</th>\n",
       "    </tr>\n",
       "  </thead>\n",
       "  <tbody>\n",
       "    <tr>\n",
       "      <th>0</th>\n",
       "      <td>000ade4b-897e-450a-89f2-2f5e3078737e</td>\n",
       "      <td>0.45</td>\n",
       "      <td>0.3914</td>\n",
       "      <td>0</td>\n",
       "      <td>20395.0</td>\n",
       "      <td>480.0</td>\n",
       "      <td>6239.46</td>\n",
       "      <td>8961.37</td>\n",
       "      <td>202412</td>\n",
       "      <td>202305</td>\n",
       "      <td>214.79661</td>\n",
       "      <td>0.0</td>\n",
       "    </tr>\n",
       "    <tr>\n",
       "      <th>1</th>\n",
       "      <td>000ade4b-897e-450a-89f2-2f5e3078737e</td>\n",
       "      <td>0.45</td>\n",
       "      <td>0.3914</td>\n",
       "      <td>0</td>\n",
       "      <td>20395.0</td>\n",
       "      <td>480.0</td>\n",
       "      <td>6239.46</td>\n",
       "      <td>8961.37</td>\n",
       "      <td>202412</td>\n",
       "      <td>202306</td>\n",
       "      <td>214.79661</td>\n",
       "      <td>0.0</td>\n",
       "    </tr>\n",
       "    <tr>\n",
       "      <th>2</th>\n",
       "      <td>000ade4b-897e-450a-89f2-2f5e3078737e</td>\n",
       "      <td>0.45</td>\n",
       "      <td>0.3914</td>\n",
       "      <td>0</td>\n",
       "      <td>20395.0</td>\n",
       "      <td>480.0</td>\n",
       "      <td>6239.46</td>\n",
       "      <td>8961.37</td>\n",
       "      <td>202412</td>\n",
       "      <td>202307</td>\n",
       "      <td>214.79661</td>\n",
       "      <td>0.0</td>\n",
       "    </tr>\n",
       "    <tr>\n",
       "      <th>3</th>\n",
       "      <td>000ade4b-897e-450a-89f2-2f5e3078737e</td>\n",
       "      <td>0.45</td>\n",
       "      <td>0.3914</td>\n",
       "      <td>0</td>\n",
       "      <td>20395.0</td>\n",
       "      <td>480.0</td>\n",
       "      <td>6239.46</td>\n",
       "      <td>8961.37</td>\n",
       "      <td>202412</td>\n",
       "      <td>202308</td>\n",
       "      <td>214.79661</td>\n",
       "      <td>0.0</td>\n",
       "    </tr>\n",
       "    <tr>\n",
       "      <th>4</th>\n",
       "      <td>000ade4b-897e-450a-89f2-2f5e3078737e</td>\n",
       "      <td>0.45</td>\n",
       "      <td>0.3914</td>\n",
       "      <td>0</td>\n",
       "      <td>20395.0</td>\n",
       "      <td>480.0</td>\n",
       "      <td>6239.46</td>\n",
       "      <td>8961.37</td>\n",
       "      <td>202412</td>\n",
       "      <td>202309</td>\n",
       "      <td>0.00000</td>\n",
       "      <td>0.0</td>\n",
       "    </tr>\n",
       "    <tr>\n",
       "      <th>...</th>\n",
       "      <td>...</td>\n",
       "      <td>...</td>\n",
       "      <td>...</td>\n",
       "      <td>...</td>\n",
       "      <td>...</td>\n",
       "      <td>...</td>\n",
       "      <td>...</td>\n",
       "      <td>...</td>\n",
       "      <td>...</td>\n",
       "      <td>...</td>\n",
       "      <td>...</td>\n",
       "      <td>...</td>\n",
       "    </tr>\n",
       "    <tr>\n",
       "      <th>128214</th>\n",
       "      <td>fffefa7e-31b7-4d2c-abaa-50304ed774d5</td>\n",
       "      <td>0.51</td>\n",
       "      <td>0.5971</td>\n",
       "      <td>0</td>\n",
       "      <td>4000.0</td>\n",
       "      <td>1029.0</td>\n",
       "      <td>4000.00</td>\n",
       "      <td>6690.40</td>\n",
       "      <td>202412</td>\n",
       "      <td>202301</td>\n",
       "      <td>0.00000</td>\n",
       "      <td>0.0</td>\n",
       "    </tr>\n",
       "    <tr>\n",
       "      <th>128215</th>\n",
       "      <td>fffefa7e-31b7-4d2c-abaa-50304ed774d5</td>\n",
       "      <td>0.51</td>\n",
       "      <td>0.5971</td>\n",
       "      <td>0</td>\n",
       "      <td>4000.0</td>\n",
       "      <td>1029.0</td>\n",
       "      <td>4000.00</td>\n",
       "      <td>6690.40</td>\n",
       "      <td>202412</td>\n",
       "      <td>202302</td>\n",
       "      <td>0.00000</td>\n",
       "      <td>0.0</td>\n",
       "    </tr>\n",
       "    <tr>\n",
       "      <th>128216</th>\n",
       "      <td>fffefa7e-31b7-4d2c-abaa-50304ed774d5</td>\n",
       "      <td>0.51</td>\n",
       "      <td>0.5971</td>\n",
       "      <td>0</td>\n",
       "      <td>4000.0</td>\n",
       "      <td>1029.0</td>\n",
       "      <td>4000.00</td>\n",
       "      <td>6690.40</td>\n",
       "      <td>202412</td>\n",
       "      <td>202303</td>\n",
       "      <td>0.00000</td>\n",
       "      <td>0.0</td>\n",
       "    </tr>\n",
       "    <tr>\n",
       "      <th>128217</th>\n",
       "      <td>fffefa7e-31b7-4d2c-abaa-50304ed774d5</td>\n",
       "      <td>0.51</td>\n",
       "      <td>0.5971</td>\n",
       "      <td>0</td>\n",
       "      <td>4000.0</td>\n",
       "      <td>1029.0</td>\n",
       "      <td>4000.00</td>\n",
       "      <td>6690.40</td>\n",
       "      <td>202412</td>\n",
       "      <td>202304</td>\n",
       "      <td>0.00000</td>\n",
       "      <td>0.0</td>\n",
       "    </tr>\n",
       "    <tr>\n",
       "      <th>128218</th>\n",
       "      <td>fffefa7e-31b7-4d2c-abaa-50304ed774d5</td>\n",
       "      <td>0.51</td>\n",
       "      <td>0.5971</td>\n",
       "      <td>0</td>\n",
       "      <td>4000.0</td>\n",
       "      <td>1029.0</td>\n",
       "      <td>4000.00</td>\n",
       "      <td>6690.40</td>\n",
       "      <td>202412</td>\n",
       "      <td>202305</td>\n",
       "      <td>0.00000</td>\n",
       "      <td>0.0</td>\n",
       "    </tr>\n",
       "  </tbody>\n",
       "</table>\n",
       "<p>128219 rows × 12 columns</p>\n",
       "</div>"
      ],
      "text/plain": [
       "                                     user_id  crif_lr_risk_model_score  \\\n",
       "0       000ade4b-897e-450a-89f2-2f5e3078737e                      0.45   \n",
       "1       000ade4b-897e-450a-89f2-2f5e3078737e                      0.45   \n",
       "2       000ade4b-897e-450a-89f2-2f5e3078737e                      0.45   \n",
       "3       000ade4b-897e-450a-89f2-2f5e3078737e                      0.45   \n",
       "4       000ade4b-897e-450a-89f2-2f5e3078737e                      0.45   \n",
       "...                                      ...                       ...   \n",
       "128214  fffefa7e-31b7-4d2c-abaa-50304ed774d5                      0.51   \n",
       "128215  fffefa7e-31b7-4d2c-abaa-50304ed774d5                      0.51   \n",
       "128216  fffefa7e-31b7-4d2c-abaa-50304ed774d5                      0.51   \n",
       "128217  fffefa7e-31b7-4d2c-abaa-50304ed774d5                      0.51   \n",
       "128218  fffefa7e-31b7-4d2c-abaa-50304ed774d5                      0.51   \n",
       "\n",
       "        sms_gbm_risk_model_score  new_policy_approved  total_disbursed  \\\n",
       "0                         0.3914                    0          20395.0   \n",
       "1                         0.3914                    0          20395.0   \n",
       "2                         0.3914                    0          20395.0   \n",
       "3                         0.3914                    0          20395.0   \n",
       "4                         0.3914                    0          20395.0   \n",
       "...                          ...                  ...              ...   \n",
       "128214                    0.5971                    0           4000.0   \n",
       "128215                    0.5971                    0           4000.0   \n",
       "128216                    0.5971                    0           4000.0   \n",
       "128217                    0.5971                    0           4000.0   \n",
       "128218                    0.5971                    0           4000.0   \n",
       "\n",
       "           DPD  principal_outstanding  payment_max billing_cycle_x  \\\n",
       "0        480.0                6239.46      8961.37          202412   \n",
       "1        480.0                6239.46      8961.37          202412   \n",
       "2        480.0                6239.46      8961.37          202412   \n",
       "3        480.0                6239.46      8961.37          202412   \n",
       "4        480.0                6239.46      8961.37          202412   \n",
       "...        ...                    ...          ...             ...   \n",
       "128214  1029.0                4000.00      6690.40          202412   \n",
       "128215  1029.0                4000.00      6690.40          202412   \n",
       "128216  1029.0                4000.00      6690.40          202412   \n",
       "128217  1029.0                4000.00      6690.40          202412   \n",
       "128218  1029.0                4000.00      6690.40          202412   \n",
       "\n",
       "       billing_cycle_y  monthly_fee_paid  late_fee_paid  \n",
       "0               202305         214.79661            0.0  \n",
       "1               202306         214.79661            0.0  \n",
       "2               202307         214.79661            0.0  \n",
       "3               202308         214.79661            0.0  \n",
       "4               202309           0.00000            0.0  \n",
       "...                ...               ...            ...  \n",
       "128214          202301           0.00000            0.0  \n",
       "128215          202302           0.00000            0.0  \n",
       "128216          202303           0.00000            0.0  \n",
       "128217          202304           0.00000            0.0  \n",
       "128218          202305           0.00000            0.0  \n",
       "\n",
       "[128219 rows x 12 columns]"
      ]
     },
     "execution_count": 43,
     "metadata": {},
     "output_type": "execute_result"
    }
   ],
   "source": [
    "final"
   ]
  },
  {
   "cell_type": "code",
   "execution_count": 55,
   "metadata": {},
   "outputs": [],
   "source": [
    "fee_paid_data_ = billing_info[['user_id','DPD','principal_outstanding','payment_max', 'billing_cycle']].merge(fee_paid_data, on = [ 'user_id','billing_cycle'], how = 'left')"
   ]
  },
  {
   "cell_type": "code",
   "execution_count": 60,
   "metadata": {},
   "outputs": [
    {
     "data": {
      "text/html": [
       "<div>\n",
       "<style scoped>\n",
       "    .dataframe tbody tr th:only-of-type {\n",
       "        vertical-align: middle;\n",
       "    }\n",
       "\n",
       "    .dataframe tbody tr th {\n",
       "        vertical-align: top;\n",
       "    }\n",
       "\n",
       "    .dataframe thead th {\n",
       "        text-align: right;\n",
       "    }\n",
       "</style>\n",
       "<table border=\"1\" class=\"dataframe\">\n",
       "  <thead>\n",
       "    <tr style=\"text-align: right;\">\n",
       "      <th></th>\n",
       "      <th>user_id</th>\n",
       "      <th>DPD</th>\n",
       "      <th>principal_outstanding</th>\n",
       "      <th>payment_max</th>\n",
       "      <th>billing_cycle</th>\n",
       "      <th>monthly_fee_paid</th>\n",
       "      <th>late_fee_paid</th>\n",
       "      <th>new_policy_approved</th>\n",
       "    </tr>\n",
       "  </thead>\n",
       "  <tbody>\n",
       "    <tr>\n",
       "      <th>251</th>\n",
       "      <td>b6795f76-dd1c-4cb1-8aaf-2f73d4e12017</td>\n",
       "      <td>0</td>\n",
       "      <td>0.0</td>\n",
       "      <td>0.0</td>\n",
       "      <td>202105</td>\n",
       "      <td>240.000000</td>\n",
       "      <td>0.0</td>\n",
       "      <td>1.0</td>\n",
       "    </tr>\n",
       "    <tr>\n",
       "      <th>305</th>\n",
       "      <td>c1772ed2-4a72-4a87-a0e5-31e8fdc9d458</td>\n",
       "      <td>0</td>\n",
       "      <td>0.0</td>\n",
       "      <td>0.0</td>\n",
       "      <td>202105</td>\n",
       "      <td>240.000000</td>\n",
       "      <td>0.0</td>\n",
       "      <td>1.0</td>\n",
       "    </tr>\n",
       "    <tr>\n",
       "      <th>345</th>\n",
       "      <td>1ba12d1b-949d-4af0-ae85-ac384dda4651</td>\n",
       "      <td>0</td>\n",
       "      <td>0.0</td>\n",
       "      <td>0.0</td>\n",
       "      <td>202105</td>\n",
       "      <td>240.000000</td>\n",
       "      <td>0.0</td>\n",
       "      <td>0.0</td>\n",
       "    </tr>\n",
       "    <tr>\n",
       "      <th>347</th>\n",
       "      <td>d6fc923e-2ef2-4400-b5c5-5a59fd741346</td>\n",
       "      <td>0</td>\n",
       "      <td>0.0</td>\n",
       "      <td>0.0</td>\n",
       "      <td>202105</td>\n",
       "      <td>120.000000</td>\n",
       "      <td>0.0</td>\n",
       "      <td>1.0</td>\n",
       "    </tr>\n",
       "    <tr>\n",
       "      <th>363</th>\n",
       "      <td>89d27c28-077a-461a-bc48-797cafd73af9</td>\n",
       "      <td>0</td>\n",
       "      <td>0.0</td>\n",
       "      <td>0.0</td>\n",
       "      <td>202105</td>\n",
       "      <td>180.000000</td>\n",
       "      <td>0.0</td>\n",
       "      <td>1.0</td>\n",
       "    </tr>\n",
       "    <tr>\n",
       "      <th>...</th>\n",
       "      <td>...</td>\n",
       "      <td>...</td>\n",
       "      <td>...</td>\n",
       "      <td>...</td>\n",
       "      <td>...</td>\n",
       "      <td>...</td>\n",
       "      <td>...</td>\n",
       "      <td>...</td>\n",
       "    </tr>\n",
       "    <tr>\n",
       "      <th>236191</th>\n",
       "      <td>ecfc6bdc-c58b-4e54-b19a-2b4ce8df4340</td>\n",
       "      <td>0</td>\n",
       "      <td>0.0</td>\n",
       "      <td>0.0</td>\n",
       "      <td>202312</td>\n",
       "      <td>1620.000000</td>\n",
       "      <td>0.0</td>\n",
       "      <td>0.0</td>\n",
       "    </tr>\n",
       "    <tr>\n",
       "      <th>236193</th>\n",
       "      <td>b1ba4704-ec64-411c-b0ba-7453d11d4d56</td>\n",
       "      <td>0</td>\n",
       "      <td>0.0</td>\n",
       "      <td>0.0</td>\n",
       "      <td>202312</td>\n",
       "      <td>400.016949</td>\n",
       "      <td>0.0</td>\n",
       "      <td>1.0</td>\n",
       "    </tr>\n",
       "    <tr>\n",
       "      <th>236197</th>\n",
       "      <td>3c88fb21-2e3a-493f-a4dd-f747b4b30ee2</td>\n",
       "      <td>0</td>\n",
       "      <td>0.0</td>\n",
       "      <td>0.0</td>\n",
       "      <td>202312</td>\n",
       "      <td>2016.000000</td>\n",
       "      <td>0.0</td>\n",
       "      <td>1.0</td>\n",
       "    </tr>\n",
       "    <tr>\n",
       "      <th>236198</th>\n",
       "      <td>844e8dde-4b79-4a2e-a915-b7a1b5c2e817</td>\n",
       "      <td>0</td>\n",
       "      <td>0.0</td>\n",
       "      <td>0.0</td>\n",
       "      <td>202312</td>\n",
       "      <td>316.796610</td>\n",
       "      <td>0.0</td>\n",
       "      <td>1.0</td>\n",
       "    </tr>\n",
       "    <tr>\n",
       "      <th>236214</th>\n",
       "      <td>9159d804-4b18-4b2d-bf74-381318009b6d</td>\n",
       "      <td>0</td>\n",
       "      <td>0.0</td>\n",
       "      <td>0.0</td>\n",
       "      <td>202312</td>\n",
       "      <td>423.355932</td>\n",
       "      <td>0.0</td>\n",
       "      <td>1.0</td>\n",
       "    </tr>\n",
       "  </tbody>\n",
       "</table>\n",
       "<p>8397 rows × 8 columns</p>\n",
       "</div>"
      ],
      "text/plain": [
       "                                     user_id  DPD  principal_outstanding  \\\n",
       "251     b6795f76-dd1c-4cb1-8aaf-2f73d4e12017    0                    0.0   \n",
       "305     c1772ed2-4a72-4a87-a0e5-31e8fdc9d458    0                    0.0   \n",
       "345     1ba12d1b-949d-4af0-ae85-ac384dda4651    0                    0.0   \n",
       "347     d6fc923e-2ef2-4400-b5c5-5a59fd741346    0                    0.0   \n",
       "363     89d27c28-077a-461a-bc48-797cafd73af9    0                    0.0   \n",
       "...                                      ...  ...                    ...   \n",
       "236191  ecfc6bdc-c58b-4e54-b19a-2b4ce8df4340    0                    0.0   \n",
       "236193  b1ba4704-ec64-411c-b0ba-7453d11d4d56    0                    0.0   \n",
       "236197  3c88fb21-2e3a-493f-a4dd-f747b4b30ee2    0                    0.0   \n",
       "236198  844e8dde-4b79-4a2e-a915-b7a1b5c2e817    0                    0.0   \n",
       "236214  9159d804-4b18-4b2d-bf74-381318009b6d    0                    0.0   \n",
       "\n",
       "        payment_max billing_cycle  monthly_fee_paid  late_fee_paid  \\\n",
       "251             0.0        202105        240.000000            0.0   \n",
       "305             0.0        202105        240.000000            0.0   \n",
       "345             0.0        202105        240.000000            0.0   \n",
       "347             0.0        202105        120.000000            0.0   \n",
       "363             0.0        202105        180.000000            0.0   \n",
       "...             ...           ...               ...            ...   \n",
       "236191          0.0        202312       1620.000000            0.0   \n",
       "236193          0.0        202312        400.016949            0.0   \n",
       "236197          0.0        202312       2016.000000            0.0   \n",
       "236198          0.0        202312        316.796610            0.0   \n",
       "236214          0.0        202312        423.355932            0.0   \n",
       "\n",
       "        new_policy_approved  \n",
       "251                     1.0  \n",
       "305                     1.0  \n",
       "345                     0.0  \n",
       "347                     1.0  \n",
       "363                     1.0  \n",
       "...                     ...  \n",
       "236191                  0.0  \n",
       "236193                  1.0  \n",
       "236197                  1.0  \n",
       "236198                  1.0  \n",
       "236214                  1.0  \n",
       "\n",
       "[8397 rows x 8 columns]"
      ]
     },
     "execution_count": 60,
     "metadata": {},
     "output_type": "execute_result"
    }
   ],
   "source": [
    "fee_paid_data_[(fee_paid_data_['payment_max']==0)&(fee_paid_data_['user_id'].isin(users_4m.user_id))\n",
    "               &(fee_paid_data_['monthly_fee_paid']>0)]"
   ]
  },
  {
   "cell_type": "code",
   "execution_count": 53,
   "metadata": {},
   "outputs": [
    {
     "data": {
      "text/plain": [
       "new_policy_approved\n",
       "0.0     6457607.0\n",
       "1.0    15054473.0\n",
       "Name: monthly_fee_paid, dtype: float64"
      ]
     },
     "execution_count": 53,
     "metadata": {},
     "output_type": "execute_result"
    }
   ],
   "source": [
    "fee_paid_data_  = fee_paid_data_[(fee_paid_data_['payment_max']>0)&(fee_paid_data_['user_id'].isin(users_4m.user_id))]\n",
    "fee_paid_data_.groupby(\"new_policy_approved\")[\"monthly_fee_paid\"].sum().round(0)\n",
    "\n",
    "# fee_paid_data_[[\"monthly_fee_paid\",\"late_fee_paid\"]].sum().round(0)"
   ]
  },
  {
   "cell_type": "code",
   "execution_count": 46,
   "metadata": {},
   "outputs": [
    {
     "data": {
      "text/plain": [
       "new_policy_approved\n",
       "0.0    631424.0\n",
       "1.0    885655.0\n",
       "Name: late_fee_paid, dtype: float64"
      ]
     },
     "execution_count": 46,
     "metadata": {},
     "output_type": "execute_result"
    }
   ],
   "source": [
    "fee_paid_data_  = fee_paid_data_[(fee_paid_data_['payment_max']>0)&(fee_paid_data_['user_id'].isin(users_4m.user_id))]\n",
    "fee_paid_data_.groupby(\"new_policy_approved\")[\"late_fee_paid\"].sum().round(0)"
   ]
  },
  {
   "cell_type": "code",
   "execution_count": null,
   "metadata": {},
   "outputs": [
    {
     "data": {
      "text/html": [
       "<div>\n",
       "<style scoped>\n",
       "    .dataframe tbody tr th:only-of-type {\n",
       "        vertical-align: middle;\n",
       "    }\n",
       "\n",
       "    .dataframe tbody tr th {\n",
       "        vertical-align: top;\n",
       "    }\n",
       "\n",
       "    .dataframe thead th {\n",
       "        text-align: right;\n",
       "    }\n",
       "</style>\n",
       "<table border=\"1\" class=\"dataframe\">\n",
       "  <thead>\n",
       "    <tr style=\"text-align: right;\">\n",
       "      <th></th>\n",
       "      <th>monthly_fee_paid</th>\n",
       "      <th>count_of_users</th>\n",
       "      <th>late_fee_paid</th>\n",
       "    </tr>\n",
       "    <tr>\n",
       "      <th>billing_cycle</th>\n",
       "      <th></th>\n",
       "      <th></th>\n",
       "      <th></th>\n",
       "    </tr>\n",
       "  </thead>\n",
       "  <tbody>\n",
       "    <tr>\n",
       "      <th>202104</th>\n",
       "      <td>7890.0</td>\n",
       "      <td>219</td>\n",
       "      <td>0.0</td>\n",
       "    </tr>\n",
       "    <tr>\n",
       "      <th>202105</th>\n",
       "      <td>39675.0</td>\n",
       "      <td>209</td>\n",
       "      <td>0.0</td>\n",
       "    </tr>\n",
       "    <tr>\n",
       "      <th>202106</th>\n",
       "      <td>38985.0</td>\n",
       "      <td>218</td>\n",
       "      <td>1500.0</td>\n",
       "    </tr>\n",
       "    <tr>\n",
       "      <th>202107</th>\n",
       "      <td>39543.0</td>\n",
       "      <td>215</td>\n",
       "      <td>2100.0</td>\n",
       "    </tr>\n",
       "    <tr>\n",
       "      <th>202108</th>\n",
       "      <td>43389.0</td>\n",
       "      <td>262</td>\n",
       "      <td>7920.0</td>\n",
       "    </tr>\n",
       "    <tr>\n",
       "      <th>202109</th>\n",
       "      <td>50314.0</td>\n",
       "      <td>312</td>\n",
       "      <td>5400.0</td>\n",
       "    </tr>\n",
       "    <tr>\n",
       "      <th>202110</th>\n",
       "      <td>57481.0</td>\n",
       "      <td>319</td>\n",
       "      <td>7650.0</td>\n",
       "    </tr>\n",
       "    <tr>\n",
       "      <th>202111</th>\n",
       "      <td>61754.0</td>\n",
       "      <td>453</td>\n",
       "      <td>15300.0</td>\n",
       "    </tr>\n",
       "    <tr>\n",
       "      <th>202112</th>\n",
       "      <td>86288.0</td>\n",
       "      <td>801</td>\n",
       "      <td>9600.0</td>\n",
       "    </tr>\n",
       "    <tr>\n",
       "      <th>202201</th>\n",
       "      <td>147623.0</td>\n",
       "      <td>1207</td>\n",
       "      <td>10266.0</td>\n",
       "    </tr>\n",
       "    <tr>\n",
       "      <th>202202</th>\n",
       "      <td>239056.0</td>\n",
       "      <td>2051</td>\n",
       "      <td>11700.0</td>\n",
       "    </tr>\n",
       "    <tr>\n",
       "      <th>202203</th>\n",
       "      <td>446498.0</td>\n",
       "      <td>3285</td>\n",
       "      <td>16948.0</td>\n",
       "    </tr>\n",
       "    <tr>\n",
       "      <th>202204</th>\n",
       "      <td>728869.0</td>\n",
       "      <td>4159</td>\n",
       "      <td>19800.0</td>\n",
       "    </tr>\n",
       "    <tr>\n",
       "      <th>202205</th>\n",
       "      <td>967857.0</td>\n",
       "      <td>4616</td>\n",
       "      <td>41250.0</td>\n",
       "    </tr>\n",
       "    <tr>\n",
       "      <th>202206</th>\n",
       "      <td>1074630.0</td>\n",
       "      <td>5086</td>\n",
       "      <td>44430.0</td>\n",
       "    </tr>\n",
       "    <tr>\n",
       "      <th>202207</th>\n",
       "      <td>1190245.0</td>\n",
       "      <td>5077</td>\n",
       "      <td>72330.0</td>\n",
       "    </tr>\n",
       "    <tr>\n",
       "      <th>202208</th>\n",
       "      <td>1174712.0</td>\n",
       "      <td>4688</td>\n",
       "      <td>43380.0</td>\n",
       "    </tr>\n",
       "    <tr>\n",
       "      <th>202209</th>\n",
       "      <td>1085764.0</td>\n",
       "      <td>4600</td>\n",
       "      <td>41160.0</td>\n",
       "    </tr>\n",
       "    <tr>\n",
       "      <th>202210</th>\n",
       "      <td>1052230.0</td>\n",
       "      <td>4427</td>\n",
       "      <td>29700.0</td>\n",
       "    </tr>\n",
       "    <tr>\n",
       "      <th>202211</th>\n",
       "      <td>1061802.0</td>\n",
       "      <td>4438</td>\n",
       "      <td>25025.0</td>\n",
       "    </tr>\n",
       "    <tr>\n",
       "      <th>202212</th>\n",
       "      <td>1234705.0</td>\n",
       "      <td>4454</td>\n",
       "      <td>40887.0</td>\n",
       "    </tr>\n",
       "    <tr>\n",
       "      <th>202301</th>\n",
       "      <td>1263615.0</td>\n",
       "      <td>4614</td>\n",
       "      <td>38402.0</td>\n",
       "    </tr>\n",
       "    <tr>\n",
       "      <th>202302</th>\n",
       "      <td>1308465.0</td>\n",
       "      <td>4973</td>\n",
       "      <td>37939.0</td>\n",
       "    </tr>\n",
       "    <tr>\n",
       "      <th>202303</th>\n",
       "      <td>1393918.0</td>\n",
       "      <td>5198</td>\n",
       "      <td>37135.0</td>\n",
       "    </tr>\n",
       "    <tr>\n",
       "      <th>202304</th>\n",
       "      <td>1469996.0</td>\n",
       "      <td>5087</td>\n",
       "      <td>35329.0</td>\n",
       "    </tr>\n",
       "    <tr>\n",
       "      <th>202305</th>\n",
       "      <td>1558466.0</td>\n",
       "      <td>5137</td>\n",
       "      <td>50053.0</td>\n",
       "    </tr>\n",
       "    <tr>\n",
       "      <th>202306</th>\n",
       "      <td>1678760.0</td>\n",
       "      <td>5037</td>\n",
       "      <td>48925.0</td>\n",
       "    </tr>\n",
       "    <tr>\n",
       "      <th>202307</th>\n",
       "      <td>1720738.0</td>\n",
       "      <td>4725</td>\n",
       "      <td>42097.0</td>\n",
       "    </tr>\n",
       "    <tr>\n",
       "      <th>202308</th>\n",
       "      <td>1661078.0</td>\n",
       "      <td>4448</td>\n",
       "      <td>19483.0</td>\n",
       "    </tr>\n",
       "    <tr>\n",
       "      <th>202309</th>\n",
       "      <td>1570327.0</td>\n",
       "      <td>4034</td>\n",
       "      <td>22803.0</td>\n",
       "    </tr>\n",
       "    <tr>\n",
       "      <th>202310</th>\n",
       "      <td>1418920.0</td>\n",
       "      <td>3706</td>\n",
       "      <td>13009.0</td>\n",
       "    </tr>\n",
       "    <tr>\n",
       "      <th>202311</th>\n",
       "      <td>1278947.0</td>\n",
       "      <td>3377</td>\n",
       "      <td>15553.0</td>\n",
       "    </tr>\n",
       "    <tr>\n",
       "      <th>202312</th>\n",
       "      <td>734793.0</td>\n",
       "      <td>1683</td>\n",
       "      <td>7907.0</td>\n",
       "    </tr>\n",
       "    <tr>\n",
       "      <th>202401</th>\n",
       "      <td>0.0</td>\n",
       "      <td>1058</td>\n",
       "      <td>8762.0</td>\n",
       "    </tr>\n",
       "    <tr>\n",
       "      <th>202402</th>\n",
       "      <td>0.0</td>\n",
       "      <td>442</td>\n",
       "      <td>7244.0</td>\n",
       "    </tr>\n",
       "    <tr>\n",
       "      <th>202403</th>\n",
       "      <td>0.0</td>\n",
       "      <td>21</td>\n",
       "      <td>2424.0</td>\n",
       "    </tr>\n",
       "    <tr>\n",
       "      <th>202404</th>\n",
       "      <td>0.0</td>\n",
       "      <td>19</td>\n",
       "      <td>3930.0</td>\n",
       "    </tr>\n",
       "    <tr>\n",
       "      <th>202405</th>\n",
       "      <td>0.0</td>\n",
       "      <td>8</td>\n",
       "      <td>638.0</td>\n",
       "    </tr>\n",
       "    <tr>\n",
       "      <th>202406</th>\n",
       "      <td>0.0</td>\n",
       "      <td>9</td>\n",
       "      <td>0.0</td>\n",
       "    </tr>\n",
       "    <tr>\n",
       "      <th>202407</th>\n",
       "      <td>0.0</td>\n",
       "      <td>11</td>\n",
       "      <td>0.0</td>\n",
       "    </tr>\n",
       "    <tr>\n",
       "      <th>202408</th>\n",
       "      <td>0.0</td>\n",
       "      <td>12</td>\n",
       "      <td>0.0</td>\n",
       "    </tr>\n",
       "    <tr>\n",
       "      <th>202409</th>\n",
       "      <td>0.0</td>\n",
       "      <td>10</td>\n",
       "      <td>0.0</td>\n",
       "    </tr>\n",
       "    <tr>\n",
       "      <th>202411</th>\n",
       "      <td>0.0</td>\n",
       "      <td>13</td>\n",
       "      <td>0.0</td>\n",
       "    </tr>\n",
       "    <tr>\n",
       "      <th>202412</th>\n",
       "      <td>0.0</td>\n",
       "      <td>15</td>\n",
       "      <td>0.0</td>\n",
       "    </tr>\n",
       "  </tbody>\n",
       "</table>\n",
       "</div>"
      ],
      "text/plain": [
       "               monthly_fee_paid  count_of_users  late_fee_paid\n",
       "billing_cycle                                                 \n",
       "202104                   7890.0             219            0.0\n",
       "202105                  39675.0             209            0.0\n",
       "202106                  38985.0             218         1500.0\n",
       "202107                  39543.0             215         2100.0\n",
       "202108                  43389.0             262         7920.0\n",
       "202109                  50314.0             312         5400.0\n",
       "202110                  57481.0             319         7650.0\n",
       "202111                  61754.0             453        15300.0\n",
       "202112                  86288.0             801         9600.0\n",
       "202201                 147623.0            1207        10266.0\n",
       "202202                 239056.0            2051        11700.0\n",
       "202203                 446498.0            3285        16948.0\n",
       "202204                 728869.0            4159        19800.0\n",
       "202205                 967857.0            4616        41250.0\n",
       "202206                1074630.0            5086        44430.0\n",
       "202207                1190245.0            5077        72330.0\n",
       "202208                1174712.0            4688        43380.0\n",
       "202209                1085764.0            4600        41160.0\n",
       "202210                1052230.0            4427        29700.0\n",
       "202211                1061802.0            4438        25025.0\n",
       "202212                1234705.0            4454        40887.0\n",
       "202301                1263615.0            4614        38402.0\n",
       "202302                1308465.0            4973        37939.0\n",
       "202303                1393918.0            5198        37135.0\n",
       "202304                1469996.0            5087        35329.0\n",
       "202305                1558466.0            5137        50053.0\n",
       "202306                1678760.0            5037        48925.0\n",
       "202307                1720738.0            4725        42097.0\n",
       "202308                1661078.0            4448        19483.0\n",
       "202309                1570327.0            4034        22803.0\n",
       "202310                1418920.0            3706        13009.0\n",
       "202311                1278947.0            3377        15553.0\n",
       "202312                 734793.0            1683         7907.0\n",
       "202401                      0.0            1058         8762.0\n",
       "202402                      0.0             442         7244.0\n",
       "202403                      0.0              21         2424.0\n",
       "202404                      0.0              19         3930.0\n",
       "202405                      0.0               8          638.0\n",
       "202406                      0.0               9            0.0\n",
       "202407                      0.0              11            0.0\n",
       "202408                      0.0              12            0.0\n",
       "202409                      0.0              10            0.0\n",
       "202411                      0.0              13            0.0\n",
       "202412                      0.0              15            0.0"
      ]
     },
     "execution_count": 74,
     "metadata": {},
     "output_type": "execute_result"
    }
   ],
   "source": [
    "(fee_paid_data_[(fee_paid_data_['DPD']==0) & (fee_paid_data_['payment_max']>0)&(fee_paid_data_['user_id'].isin(users_4m.user_id))]\n",
    "    .groupby('billing_cycle')\n",
    "    .agg(monthly_fee_paid = ('monthly_fee_paid','sum'),\n",
    "    count_of_users = ('billing_cycle', 'count'),\n",
    "    late_fee_paid = (\"late_fee_paid\", \"sum\"))).round(0)\n",
    "\n",
    "# fee_paid_data_[(fee_paid_data_['DPD']==0) & (fee_paid_data_['payment_max']>0)&(fee_paid_data_[''].isin())]"
   ]
  },
  {
   "cell_type": "code",
   "execution_count": 75,
   "metadata": {},
   "outputs": [
    {
     "data": {
      "text/plain": [
       "1210200"
      ]
     },
     "execution_count": 75,
     "metadata": {},
     "output_type": "execute_result"
    }
   ],
   "source": [
    "4034*300"
   ]
  },
  {
   "cell_type": "code",
   "execution_count": 58,
   "metadata": {},
   "outputs": [],
   "source": [
    "# final[~(final['DPD']>0)&(final['billing_cycle']==\"202401\")]"
   ]
  },
  {
   "cell_type": "code",
   "execution_count": 59,
   "metadata": {},
   "outputs": [
    {
     "data": {
      "text/html": [
       "<div>\n",
       "<style scoped>\n",
       "    .dataframe tbody tr th:only-of-type {\n",
       "        vertical-align: middle;\n",
       "    }\n",
       "\n",
       "    .dataframe tbody tr th {\n",
       "        vertical-align: top;\n",
       "    }\n",
       "\n",
       "    .dataframe thead th {\n",
       "        text-align: right;\n",
       "    }\n",
       "</style>\n",
       "<table border=\"1\" class=\"dataframe\">\n",
       "  <thead>\n",
       "    <tr style=\"text-align: right;\">\n",
       "      <th></th>\n",
       "      <th>user_id</th>\n",
       "      <th>billing_cycle</th>\n",
       "      <th>monthly_fee_paid</th>\n",
       "      <th>late_fee_paid</th>\n",
       "      <th>new_policy_approved</th>\n",
       "    </tr>\n",
       "  </thead>\n",
       "  <tbody>\n",
       "    <tr>\n",
       "      <th>0</th>\n",
       "      <td>000ade4b-897e-450a-89f2-2f5e3078737e</td>\n",
       "      <td>202305</td>\n",
       "      <td>429.59322</td>\n",
       "      <td>0.0</td>\n",
       "      <td>0</td>\n",
       "    </tr>\n",
       "    <tr>\n",
       "      <th>1</th>\n",
       "      <td>000ade4b-897e-450a-89f2-2f5e3078737e</td>\n",
       "      <td>202306</td>\n",
       "      <td>429.59322</td>\n",
       "      <td>0.0</td>\n",
       "      <td>0</td>\n",
       "    </tr>\n",
       "    <tr>\n",
       "      <th>2</th>\n",
       "      <td>000ade4b-897e-450a-89f2-2f5e3078737e</td>\n",
       "      <td>202307</td>\n",
       "      <td>429.59322</td>\n",
       "      <td>0.0</td>\n",
       "      <td>0</td>\n",
       "    </tr>\n",
       "    <tr>\n",
       "      <th>3</th>\n",
       "      <td>000ade4b-897e-450a-89f2-2f5e3078737e</td>\n",
       "      <td>202308</td>\n",
       "      <td>429.59322</td>\n",
       "      <td>0.0</td>\n",
       "      <td>0</td>\n",
       "    </tr>\n",
       "    <tr>\n",
       "      <th>4</th>\n",
       "      <td>000ade4b-897e-450a-89f2-2f5e3078737e</td>\n",
       "      <td>202309</td>\n",
       "      <td>0.00000</td>\n",
       "      <td>0.0</td>\n",
       "      <td>0</td>\n",
       "    </tr>\n",
       "    <tr>\n",
       "      <th>...</th>\n",
       "      <td>...</td>\n",
       "      <td>...</td>\n",
       "      <td>...</td>\n",
       "      <td>...</td>\n",
       "      <td>...</td>\n",
       "    </tr>\n",
       "    <tr>\n",
       "      <th>128048</th>\n",
       "      <td>fd7ec252-76d6-43ac-8532-cf9bbe1ea24e</td>\n",
       "      <td>202208</td>\n",
       "      <td>0.00000</td>\n",
       "      <td>300.0</td>\n",
       "      <td>0</td>\n",
       "    </tr>\n",
       "    <tr>\n",
       "      <th>128049</th>\n",
       "      <td>ffe398bb-08eb-4570-be61-fa9792534075</td>\n",
       "      <td>202202</td>\n",
       "      <td>90.00000</td>\n",
       "      <td>0.0</td>\n",
       "      <td>1</td>\n",
       "    </tr>\n",
       "    <tr>\n",
       "      <th>128050</th>\n",
       "      <td>ffe398bb-08eb-4570-be61-fa9792534075</td>\n",
       "      <td>202205</td>\n",
       "      <td>90.00000</td>\n",
       "      <td>0.0</td>\n",
       "      <td>1</td>\n",
       "    </tr>\n",
       "    <tr>\n",
       "      <th>128051</th>\n",
       "      <td>ffe398bb-08eb-4570-be61-fa9792534075</td>\n",
       "      <td>202206</td>\n",
       "      <td>90.00000</td>\n",
       "      <td>0.0</td>\n",
       "      <td>1</td>\n",
       "    </tr>\n",
       "    <tr>\n",
       "      <th>128052</th>\n",
       "      <td>ffe398bb-08eb-4570-be61-fa9792534075</td>\n",
       "      <td>202207</td>\n",
       "      <td>90.00000</td>\n",
       "      <td>0.0</td>\n",
       "      <td>1</td>\n",
       "    </tr>\n",
       "  </tbody>\n",
       "</table>\n",
       "<p>128053 rows × 5 columns</p>\n",
       "</div>"
      ],
      "text/plain": [
       "                                     user_id billing_cycle  monthly_fee_paid  \\\n",
       "0       000ade4b-897e-450a-89f2-2f5e3078737e        202305         429.59322   \n",
       "1       000ade4b-897e-450a-89f2-2f5e3078737e        202306         429.59322   \n",
       "2       000ade4b-897e-450a-89f2-2f5e3078737e        202307         429.59322   \n",
       "3       000ade4b-897e-450a-89f2-2f5e3078737e        202308         429.59322   \n",
       "4       000ade4b-897e-450a-89f2-2f5e3078737e        202309           0.00000   \n",
       "...                                      ...           ...               ...   \n",
       "128048  fd7ec252-76d6-43ac-8532-cf9bbe1ea24e        202208           0.00000   \n",
       "128049  ffe398bb-08eb-4570-be61-fa9792534075        202202          90.00000   \n",
       "128050  ffe398bb-08eb-4570-be61-fa9792534075        202205          90.00000   \n",
       "128051  ffe398bb-08eb-4570-be61-fa9792534075        202206          90.00000   \n",
       "128052  ffe398bb-08eb-4570-be61-fa9792534075        202207          90.00000   \n",
       "\n",
       "        late_fee_paid  new_policy_approved  \n",
       "0                 0.0                    0  \n",
       "1                 0.0                    0  \n",
       "2                 0.0                    0  \n",
       "3                 0.0                    0  \n",
       "4                 0.0                    0  \n",
       "...               ...                  ...  \n",
       "128048          300.0                    0  \n",
       "128049            0.0                    1  \n",
       "128050            0.0                    1  \n",
       "128051            0.0                    1  \n",
       "128052            0.0                    1  \n",
       "\n",
       "[128053 rows x 5 columns]"
      ]
     },
     "execution_count": 59,
     "metadata": {},
     "output_type": "execute_result"
    }
   ],
   "source": [
    "fee_paid_data"
   ]
  },
  {
   "cell_type": "code",
   "execution_count": 60,
   "metadata": {},
   "outputs": [],
   "source": [
    "user_level_data = final.groupby('user_id').agg(total_monthly_fee_paid = ('monthly_fee_paid', 'sum'),\n",
    "                             total_late_fee_paid = ('late_fee_paid', 'sum'),\n",
    "                             total_disbursal = ('total_disbursed', 'first'),\n",
    "                             new_policy_approved = ('new_policy_approved', 'first'),\n",
    "                             principal_outstanding = ('principal_outstanding', 'first'))"
   ]
  },
  {
   "cell_type": "code",
   "execution_count": 62,
   "metadata": {},
   "outputs": [
    {
     "data": {
      "text/plain": [
       "new_policy_approved\n",
       "0     964188.0\n",
       "1    1430889.0\n",
       "Name: total_late_fee_paid, dtype: float64"
      ]
     },
     "execution_count": 62,
     "metadata": {},
     "output_type": "execute_result"
    }
   ],
   "source": [
    "user_level_data.groupby(\"new_policy_approved\")[\"total_late_fee_paid\"].sum().round(0)"
   ]
  },
  {
   "cell_type": "code",
   "execution_count": 63,
   "metadata": {},
   "outputs": [],
   "source": [
    "dpd = final.drop_duplicates('user_id', keep= 'last')[['user_id', 'DPD']].reset_index(drop = True)"
   ]
  },
  {
   "cell_type": "code",
   "execution_count": 64,
   "metadata": {},
   "outputs": [],
   "source": [
    "user_level_data = user_level_data.merge(dpd, on ='user_id', how = 'left')"
   ]
  },
  {
   "cell_type": "code",
   "execution_count": 65,
   "metadata": {},
   "outputs": [
    {
     "data": {
      "text/plain": [
       "518954598.0"
      ]
     },
     "execution_count": 65,
     "metadata": {},
     "output_type": "execute_result"
    }
   ],
   "source": [
    "user_level_data['total_disbursal'].sum().round(0)"
   ]
  },
  {
   "cell_type": "code",
   "execution_count": 66,
   "metadata": {},
   "outputs": [
    {
     "data": {
      "text/plain": [
       "(11674, 7)"
      ]
     },
     "execution_count": 66,
     "metadata": {},
     "output_type": "execute_result"
    }
   ],
   "source": [
    "user_level_data.shape"
   ]
  },
  {
   "cell_type": "code",
   "execution_count": 67,
   "metadata": {},
   "outputs": [
    {
     "data": {
      "text/plain": [
       "8007"
      ]
     },
     "execution_count": 67,
     "metadata": {},
     "output_type": "execute_result"
    }
   ],
   "source": [
    "user_level_data['new_policy_approved'].sum().round(0)"
   ]
  },
  {
   "cell_type": "code",
   "execution_count": 68,
   "metadata": {},
   "outputs": [
    {
     "data": {
      "text/plain": [
       "30891536.0"
      ]
     },
     "execution_count": 68,
     "metadata": {},
     "output_type": "execute_result"
    }
   ],
   "source": [
    "user_level_data['total_monthly_fee_paid'].sum().round(0)"
   ]
  },
  {
   "cell_type": "code",
   "execution_count": 69,
   "metadata": {},
   "outputs": [
    {
     "data": {
      "text/plain": [
       "(11674, 7)"
      ]
     },
     "execution_count": 69,
     "metadata": {},
     "output_type": "execute_result"
    }
   ],
   "source": [
    "user_level_data.shape"
   ]
  },
  {
   "cell_type": "code",
   "execution_count": 70,
   "metadata": {},
   "outputs": [],
   "source": [
    "user_level_data.to_csv('user_level_data_portfolio_cutoff_aug24.csv', index = False)"
   ]
  },
  {
   "cell_type": "code",
   "execution_count": 71,
   "metadata": {},
   "outputs": [
    {
     "data": {
      "text/html": [
       "<div>\n",
       "<style scoped>\n",
       "    .dataframe tbody tr th:only-of-type {\n",
       "        vertical-align: middle;\n",
       "    }\n",
       "\n",
       "    .dataframe tbody tr th {\n",
       "        vertical-align: top;\n",
       "    }\n",
       "\n",
       "    .dataframe thead th {\n",
       "        text-align: right;\n",
       "    }\n",
       "</style>\n",
       "<table border=\"1\" class=\"dataframe\">\n",
       "  <thead>\n",
       "    <tr style=\"text-align: right;\">\n",
       "      <th></th>\n",
       "      <th>user_id</th>\n",
       "      <th>total_monthly_fee_paid</th>\n",
       "      <th>total_late_fee_paid</th>\n",
       "      <th>total_disbursal</th>\n",
       "      <th>new_policy_approved</th>\n",
       "      <th>principal_outstanding</th>\n",
       "      <th>DPD</th>\n",
       "    </tr>\n",
       "  </thead>\n",
       "  <tbody>\n",
       "    <tr>\n",
       "      <th>0</th>\n",
       "      <td>000ade4b-897e-450a-89f2-2f5e3078737e</td>\n",
       "      <td>1718.372880</td>\n",
       "      <td>0.0</td>\n",
       "      <td>20395.0</td>\n",
       "      <td>0</td>\n",
       "      <td>6239.46</td>\n",
       "      <td>327.0</td>\n",
       "    </tr>\n",
       "    <tr>\n",
       "      <th>1</th>\n",
       "      <td>0018ec37-df63-4318-aaf6-eb27f851964b</td>\n",
       "      <td>9014.152543</td>\n",
       "      <td>0.0</td>\n",
       "      <td>209711.0</td>\n",
       "      <td>1</td>\n",
       "      <td>NaN</td>\n",
       "      <td>NaN</td>\n",
       "    </tr>\n",
       "    <tr>\n",
       "      <th>2</th>\n",
       "      <td>00283d2c-79cc-4e92-b915-47d224b01a10</td>\n",
       "      <td>1075.627119</td>\n",
       "      <td>0.0</td>\n",
       "      <td>6000.0</td>\n",
       "      <td>1</td>\n",
       "      <td>NaN</td>\n",
       "      <td>NaN</td>\n",
       "    </tr>\n",
       "    <tr>\n",
       "      <th>3</th>\n",
       "      <td>002a5e8d-aa19-4f27-81e4-d6c115ac26f6</td>\n",
       "      <td>138.000000</td>\n",
       "      <td>300.0</td>\n",
       "      <td>1900.0</td>\n",
       "      <td>1</td>\n",
       "      <td>NaN</td>\n",
       "      <td>NaN</td>\n",
       "    </tr>\n",
       "    <tr>\n",
       "      <th>4</th>\n",
       "      <td>002d305c-c671-4125-b8cb-ccd7b2a72563</td>\n",
       "      <td>1075.618644</td>\n",
       "      <td>0.0</td>\n",
       "      <td>9000.0</td>\n",
       "      <td>1</td>\n",
       "      <td>NaN</td>\n",
       "      <td>NaN</td>\n",
       "    </tr>\n",
       "    <tr>\n",
       "      <th>...</th>\n",
       "      <td>...</td>\n",
       "      <td>...</td>\n",
       "      <td>...</td>\n",
       "      <td>...</td>\n",
       "      <td>...</td>\n",
       "      <td>...</td>\n",
       "      <td>...</td>\n",
       "    </tr>\n",
       "    <tr>\n",
       "      <th>11669</th>\n",
       "      <td>ffe954a8-04dc-49ed-bdce-307956f59816</td>\n",
       "      <td>960.000000</td>\n",
       "      <td>0.0</td>\n",
       "      <td>36642.8</td>\n",
       "      <td>1</td>\n",
       "      <td>NaN</td>\n",
       "      <td>NaN</td>\n",
       "    </tr>\n",
       "    <tr>\n",
       "      <th>11670</th>\n",
       "      <td>fffa2453-fb42-4b5b-a68a-aeae8134e153</td>\n",
       "      <td>1557.050848</td>\n",
       "      <td>0.0</td>\n",
       "      <td>14405.0</td>\n",
       "      <td>1</td>\n",
       "      <td>NaN</td>\n",
       "      <td>NaN</td>\n",
       "    </tr>\n",
       "    <tr>\n",
       "      <th>11671</th>\n",
       "      <td>fffa3e6d-8f23-483e-9d1d-01fa70e08bab</td>\n",
       "      <td>1440.000000</td>\n",
       "      <td>300.0</td>\n",
       "      <td>29076.0</td>\n",
       "      <td>1</td>\n",
       "      <td>NaN</td>\n",
       "      <td>NaN</td>\n",
       "    </tr>\n",
       "    <tr>\n",
       "      <th>11672</th>\n",
       "      <td>fffe2a21-2db8-4402-b21e-4bf824900493</td>\n",
       "      <td>2249.500000</td>\n",
       "      <td>0.0</td>\n",
       "      <td>32101.0</td>\n",
       "      <td>1</td>\n",
       "      <td>NaN</td>\n",
       "      <td>NaN</td>\n",
       "    </tr>\n",
       "    <tr>\n",
       "      <th>11673</th>\n",
       "      <td>fffefa7e-31b7-4d2c-abaa-50304ed774d5</td>\n",
       "      <td>0.000000</td>\n",
       "      <td>0.0</td>\n",
       "      <td>4000.0</td>\n",
       "      <td>0</td>\n",
       "      <td>4000.00</td>\n",
       "      <td>876.0</td>\n",
       "    </tr>\n",
       "  </tbody>\n",
       "</table>\n",
       "<p>11674 rows × 7 columns</p>\n",
       "</div>"
      ],
      "text/plain": [
       "                                    user_id  total_monthly_fee_paid  \\\n",
       "0      000ade4b-897e-450a-89f2-2f5e3078737e             1718.372880   \n",
       "1      0018ec37-df63-4318-aaf6-eb27f851964b             9014.152543   \n",
       "2      00283d2c-79cc-4e92-b915-47d224b01a10             1075.627119   \n",
       "3      002a5e8d-aa19-4f27-81e4-d6c115ac26f6              138.000000   \n",
       "4      002d305c-c671-4125-b8cb-ccd7b2a72563             1075.618644   \n",
       "...                                     ...                     ...   \n",
       "11669  ffe954a8-04dc-49ed-bdce-307956f59816              960.000000   \n",
       "11670  fffa2453-fb42-4b5b-a68a-aeae8134e153             1557.050848   \n",
       "11671  fffa3e6d-8f23-483e-9d1d-01fa70e08bab             1440.000000   \n",
       "11672  fffe2a21-2db8-4402-b21e-4bf824900493             2249.500000   \n",
       "11673  fffefa7e-31b7-4d2c-abaa-50304ed774d5                0.000000   \n",
       "\n",
       "       total_late_fee_paid  total_disbursal  new_policy_approved  \\\n",
       "0                      0.0          20395.0                    0   \n",
       "1                      0.0         209711.0                    1   \n",
       "2                      0.0           6000.0                    1   \n",
       "3                    300.0           1900.0                    1   \n",
       "4                      0.0           9000.0                    1   \n",
       "...                    ...              ...                  ...   \n",
       "11669                  0.0          36642.8                    1   \n",
       "11670                  0.0          14405.0                    1   \n",
       "11671                300.0          29076.0                    1   \n",
       "11672                  0.0          32101.0                    1   \n",
       "11673                  0.0           4000.0                    0   \n",
       "\n",
       "       principal_outstanding    DPD  \n",
       "0                    6239.46  327.0  \n",
       "1                        NaN    NaN  \n",
       "2                        NaN    NaN  \n",
       "3                        NaN    NaN  \n",
       "4                        NaN    NaN  \n",
       "...                      ...    ...  \n",
       "11669                    NaN    NaN  \n",
       "11670                    NaN    NaN  \n",
       "11671                    NaN    NaN  \n",
       "11672                    NaN    NaN  \n",
       "11673                4000.00  876.0  \n",
       "\n",
       "[11674 rows x 7 columns]"
      ]
     },
     "execution_count": 71,
     "metadata": {},
     "output_type": "execute_result"
    }
   ],
   "source": [
    "user_level_data"
   ]
  },
  {
   "cell_type": "code",
   "execution_count": 72,
   "metadata": {},
   "outputs": [
    {
     "data": {
      "text/plain": [
       "23178626.04"
      ]
     },
     "execution_count": 72,
     "metadata": {},
     "output_type": "execute_result"
    }
   ],
   "source": [
    "user_level_data[user_level_data[\"DPD\"]>=30]['principal_outstanding'].sum()"
   ]
  },
  {
   "cell_type": "code",
   "execution_count": 73,
   "metadata": {},
   "outputs": [
    {
     "data": {
      "text/plain": [
       "23178628.27"
      ]
     },
     "execution_count": 73,
     "metadata": {},
     "output_type": "execute_result"
    }
   ],
   "source": [
    "user_level_data['principal_outstanding'].sum()"
   ]
  },
  {
   "cell_type": "markdown",
   "metadata": {},
   "source": [
    "### ninjakart"
   ]
  },
  {
   "cell_type": "code",
   "execution_count": 46,
   "metadata": {},
   "outputs": [
    {
     "data": {
      "text/plain": [
       "(180, 19)"
      ]
     },
     "execution_count": 46,
     "metadata": {},
     "output_type": "execute_result"
    }
   ],
   "source": [
    "ninja = sanction_data[sanction_data['prod_group'] =='NINJA_1M']\n",
    "ninja.shape"
   ]
  },
  {
   "cell_type": "code",
   "execution_count": 47,
   "metadata": {},
   "outputs": [],
   "source": [
    "ninjakart_disbursal = merchant_payments_data[merchant_payments_data['user_id'].isin(ninja.user_id)]\n"
   ]
  },
  {
   "cell_type": "code",
   "execution_count": 48,
   "metadata": {},
   "outputs": [
    {
     "data": {
      "text/html": [
       "<div>\n",
       "<style scoped>\n",
       "    .dataframe tbody tr th:only-of-type {\n",
       "        vertical-align: middle;\n",
       "    }\n",
       "\n",
       "    .dataframe tbody tr th {\n",
       "        vertical-align: top;\n",
       "    }\n",
       "\n",
       "    .dataframe thead th {\n",
       "        text-align: right;\n",
       "    }\n",
       "</style>\n",
       "<table border=\"1\" class=\"dataframe\">\n",
       "  <thead>\n",
       "    <tr style=\"text-align: right;\">\n",
       "      <th></th>\n",
       "      <th>user_id</th>\n",
       "      <th>billing_cycle</th>\n",
       "      <th>disbursal</th>\n",
       "      <th>DPD</th>\n",
       "      <th>principal_outstanding</th>\n",
       "    </tr>\n",
       "  </thead>\n",
       "  <tbody>\n",
       "    <tr>\n",
       "      <th>0</th>\n",
       "      <td>017e3708-5ffe-4d2f-ab5b-686389548efa</td>\n",
       "      <td>202307</td>\n",
       "      <td>2703.0</td>\n",
       "      <td>0</td>\n",
       "      <td>0.0</td>\n",
       "    </tr>\n",
       "    <tr>\n",
       "      <th>1</th>\n",
       "      <td>017e3708-5ffe-4d2f-ab5b-686389548efa</td>\n",
       "      <td>202308</td>\n",
       "      <td>14891.0</td>\n",
       "      <td>0</td>\n",
       "      <td>891.0</td>\n",
       "    </tr>\n",
       "    <tr>\n",
       "      <th>2</th>\n",
       "      <td>033e538a-8752-4e7b-9c36-5ad2b6f29d64</td>\n",
       "      <td>202308</td>\n",
       "      <td>1000.0</td>\n",
       "      <td>0</td>\n",
       "      <td>0.0</td>\n",
       "    </tr>\n",
       "    <tr>\n",
       "      <th>3</th>\n",
       "      <td>033e538a-8752-4e7b-9c36-5ad2b6f29d64</td>\n",
       "      <td>202309</td>\n",
       "      <td>4000.0</td>\n",
       "      <td>0</td>\n",
       "      <td>0.0</td>\n",
       "    </tr>\n",
       "    <tr>\n",
       "      <th>4</th>\n",
       "      <td>072a17f7-f139-4dce-b561-480216de2414</td>\n",
       "      <td>202308</td>\n",
       "      <td>6000.0</td>\n",
       "      <td>0</td>\n",
       "      <td>6000.0</td>\n",
       "    </tr>\n",
       "    <tr>\n",
       "      <th>...</th>\n",
       "      <td>...</td>\n",
       "      <td>...</td>\n",
       "      <td>...</td>\n",
       "      <td>...</td>\n",
       "      <td>...</td>\n",
       "    </tr>\n",
       "    <tr>\n",
       "      <th>409</th>\n",
       "      <td>f910f72f-f40a-4de3-a9bb-2e6093d570cc</td>\n",
       "      <td>202307</td>\n",
       "      <td>4800.0</td>\n",
       "      <td>0</td>\n",
       "      <td>4800.0</td>\n",
       "    </tr>\n",
       "    <tr>\n",
       "      <th>410</th>\n",
       "      <td>f910f72f-f40a-4de3-a9bb-2e6093d570cc</td>\n",
       "      <td>202308</td>\n",
       "      <td>4800.0</td>\n",
       "      <td>0</td>\n",
       "      <td>4800.0</td>\n",
       "    </tr>\n",
       "    <tr>\n",
       "      <th>411</th>\n",
       "      <td>f9fda701-c80a-4c92-97e2-dea70998b699</td>\n",
       "      <td>202308</td>\n",
       "      <td>1000.0</td>\n",
       "      <td>0</td>\n",
       "      <td>1000.0</td>\n",
       "    </tr>\n",
       "    <tr>\n",
       "      <th>412</th>\n",
       "      <td>fb7a75a0-ad72-4600-8797-9d0b34f4b90e</td>\n",
       "      <td>202310</td>\n",
       "      <td>7200.0</td>\n",
       "      <td>0</td>\n",
       "      <td>7200.0</td>\n",
       "    </tr>\n",
       "    <tr>\n",
       "      <th>413</th>\n",
       "      <td>fb7a75a0-ad72-4600-8797-9d0b34f4b90e</td>\n",
       "      <td>202311</td>\n",
       "      <td>7200.0</td>\n",
       "      <td>0</td>\n",
       "      <td>7200.0</td>\n",
       "    </tr>\n",
       "  </tbody>\n",
       "</table>\n",
       "<p>414 rows × 5 columns</p>\n",
       "</div>"
      ],
      "text/plain": [
       "                                  user_id billing_cycle  disbursal  DPD  \\\n",
       "0    017e3708-5ffe-4d2f-ab5b-686389548efa        202307     2703.0    0   \n",
       "1    017e3708-5ffe-4d2f-ab5b-686389548efa        202308    14891.0    0   \n",
       "2    033e538a-8752-4e7b-9c36-5ad2b6f29d64        202308     1000.0    0   \n",
       "3    033e538a-8752-4e7b-9c36-5ad2b6f29d64        202309     4000.0    0   \n",
       "4    072a17f7-f139-4dce-b561-480216de2414        202308     6000.0    0   \n",
       "..                                    ...           ...        ...  ...   \n",
       "409  f910f72f-f40a-4de3-a9bb-2e6093d570cc        202307     4800.0    0   \n",
       "410  f910f72f-f40a-4de3-a9bb-2e6093d570cc        202308     4800.0    0   \n",
       "411  f9fda701-c80a-4c92-97e2-dea70998b699        202308     1000.0    0   \n",
       "412  fb7a75a0-ad72-4600-8797-9d0b34f4b90e        202310     7200.0    0   \n",
       "413  fb7a75a0-ad72-4600-8797-9d0b34f4b90e        202311     7200.0    0   \n",
       "\n",
       "     principal_outstanding  \n",
       "0                      0.0  \n",
       "1                    891.0  \n",
       "2                      0.0  \n",
       "3                      0.0  \n",
       "4                   6000.0  \n",
       "..                     ...  \n",
       "409                 4800.0  \n",
       "410                 4800.0  \n",
       "411                 1000.0  \n",
       "412                 7200.0  \n",
       "413                 7200.0  \n",
       "\n",
       "[414 rows x 5 columns]"
      ]
     },
     "execution_count": 48,
     "metadata": {},
     "output_type": "execute_result"
    }
   ],
   "source": [
    "(ninjakart_disbursal.merge(billing_info[['user_id','billing_cycle', 'DPD','principal_outstanding']],\n",
    " on = ['user_id','billing_cycle'], how ='left'))\n",
    "\n",
    "# ninjakart_disbursal.to_csv('ninjakart_disbursal_month_on_month.csv')"
   ]
  },
  {
   "cell_type": "code",
   "execution_count": 49,
   "metadata": {},
   "outputs": [],
   "source": [
    "ninjakart_DPD = billing_info[(billing_info['billing_month']=='March')&\n",
    "                   (billing_info['billing_year']=='2024')&\n",
    "                   (billing_info['user_id'].isin(ninjakart_disbursal.user_id))][['user_id', 'DPD','principal_outstanding','payment_max','billing_cycle']]\n"
   ]
  },
  {
   "cell_type": "code",
   "execution_count": 50,
   "metadata": {},
   "outputs": [
    {
     "name": "stdout",
     "output_type": "stream",
     "text": [
      "180\n",
      "163\n",
      "161\n",
      "158\n",
      "158\n",
      "158\n",
      "158\n",
      "158\n",
      "158\n"
     ]
    }
   ],
   "source": [
    "fee_paid_data_ninjakart = pd.DataFrame({'user_id' : []})\n",
    "billing_cycle_list = ['202403','202402','202401','202312','202311','202310','202309','202308','202307']\n",
    "for i in range(len(billing_cycle_list)): \n",
    "    users_not_there = ninja[~(ninja['user_id'].isin(fee_paid_data_ninjakart.user_id))]\n",
    "    print(len(users_not_there))\n",
    "    fee_paid_chunk = statement_h_fun(users_not_there,billing_cycle_list[i])\n",
    "    fee_paid_data_ninjakart = fee_paid_data_ninjakart.append(fee_paid_chunk)"
   ]
  },
  {
   "cell_type": "code",
   "execution_count": 51,
   "metadata": {},
   "outputs": [],
   "source": [
    "tol_disbursed_amt = ninjakart_disbursal.groupby('user_id')['disbursal'].sum().rename('total_disbursed').reset_index()\n",
    "final = tol_disbursed_amt.merge(ninjakart_DPD, on = 'user_id', how= 'left')\n",
    "final = final.merge(fee_paid_data_ninjakart, on = 'user_id', how= 'left')\n",
    "\n"
   ]
  },
  {
   "cell_type": "code",
   "execution_count": 52,
   "metadata": {},
   "outputs": [],
   "source": [
    "user_level_data_ninjakart = final.groupby('user_id').agg(total_monthly_fee_paid = ('monthly_fee_paid', 'sum'),\n",
    "                             total_late_fee_paid = ('late_fee_paid', 'sum'),\n",
    "                             total_disbursal = ('total_disbursed', 'first'),\n",
    "                             principal_outstanding = ('principal_outstanding', 'first'),\n",
    "                             DPD = ('DPD', 'first'))"
   ]
  },
  {
   "cell_type": "code",
   "execution_count": 53,
   "metadata": {},
   "outputs": [],
   "source": [
    "user_level_data_ninjakart\n",
    "user_level_data_ninjakart.to_csv('user_level_data_ninjakart_portfolio_cut.csv')"
   ]
  },
  {
   "cell_type": "markdown",
   "metadata": {},
   "source": [
    "# Flipkart"
   ]
  },
  {
   "cell_type": "code",
   "execution_count": 54,
   "metadata": {},
   "outputs": [
    {
     "data": {
      "text/plain": [
       "(1018, 19)"
      ]
     },
     "execution_count": 54,
     "metadata": {},
     "output_type": "execute_result"
    }
   ],
   "source": [
    "flipkart = sanction_data[sanction_data['prod_group'] =='FLPKRT_1M']\n",
    "flipkart.shape"
   ]
  },
  {
   "cell_type": "code",
   "execution_count": 55,
   "metadata": {},
   "outputs": [
    {
     "data": {
      "text/plain": [
       "(9319, 23)"
      ]
     },
     "execution_count": 55,
     "metadata": {},
     "output_type": "execute_result"
    }
   ],
   "source": [
    "merchant_payments = f\"\"\"\n",
    "SELECT *, date_format(mp.created_time, '%Y%m') billing_cycle FROM merchant_payments AS mp\n",
    "WHERE mp.`status` = 'success' and user_id in {tuple(flipkart.user_id)}\n",
    "\"\"\"\n",
    "parse_date = {}\n",
    "# otp_varified_user=pd.read_sql(otp_varified, db_connection)\n",
    "flag, merchant_payments_data_flipkart, error = utility.data_fetch_v2(merchant_payments, parse_dates=parse_date)\n",
    "merchant_payments_data_flipkart.shape"
   ]
  },
  {
   "cell_type": "code",
   "execution_count": 56,
   "metadata": {},
   "outputs": [
    {
     "data": {
      "text/plain": [
       "Flipkart Wholesale               1991\n",
       "Walmart India Private Limited    1037\n",
       "Premshankar Sahu                   64\n",
       "Deepak Lodhi                       50\n",
       "Yash Pet Store                     49\n",
       "                                 ... \n",
       "Ramesh Chandra Samdani              1\n",
       "Mr Sooraj Kumar Gupta               1\n",
       "Chandra Prakash Singh               1\n",
       "Chhagan Lal Mundra                  1\n",
       "Coco Aliganj                        1\n",
       "Name: beneficiary_account_name, Length: 2714, dtype: int64"
      ]
     },
     "execution_count": 56,
     "metadata": {},
     "output_type": "execute_result"
    }
   ],
   "source": [
    "merchant_payments_data_flipkart['beneficiary_account_name'].value_counts()"
   ]
  },
  {
   "cell_type": "code",
   "execution_count": 57,
   "metadata": {},
   "outputs": [],
   "source": [
    "merchant_payments_data_flipkart['fee'] = np.where(merchant_payments_data_flipkart['beneficiary_account_name'].isin(['Flipkart Wholesale','Walmart India Private Limited']),merchant_payments_data_flipkart['amount']*0.005, 0 )\n",
    "\n"
   ]
  },
  {
   "cell_type": "code",
   "execution_count": 58,
   "metadata": {},
   "outputs": [
    {
     "data": {
      "text/plain": [
       "107266.6023"
      ]
     },
     "execution_count": 58,
     "metadata": {},
     "output_type": "execute_result"
    }
   ],
   "source": [
    "merchant_payments_data_flipkart['fee'].sum()\n",
    "# merchant_payments_data_flipkart.shape"
   ]
  },
  {
   "cell_type": "code",
   "execution_count": 59,
   "metadata": {},
   "outputs": [
    {
     "data": {
      "text/html": [
       "<div>\n",
       "<style scoped>\n",
       "    .dataframe tbody tr th:only-of-type {\n",
       "        vertical-align: middle;\n",
       "    }\n",
       "\n",
       "    .dataframe tbody tr th {\n",
       "        vertical-align: top;\n",
       "    }\n",
       "\n",
       "    .dataframe thead th {\n",
       "        text-align: right;\n",
       "    }\n",
       "</style>\n",
       "<table border=\"1\" class=\"dataframe\">\n",
       "  <thead>\n",
       "    <tr style=\"text-align: right;\">\n",
       "      <th></th>\n",
       "      <th>amount</th>\n",
       "      <th>fee</th>\n",
       "    </tr>\n",
       "  </thead>\n",
       "  <tbody>\n",
       "    <tr>\n",
       "      <th>0</th>\n",
       "      <td>10.00</td>\n",
       "      <td>0.0500</td>\n",
       "    </tr>\n",
       "    <tr>\n",
       "      <th>1</th>\n",
       "      <td>11988.72</td>\n",
       "      <td>59.9436</td>\n",
       "    </tr>\n",
       "    <tr>\n",
       "      <th>2</th>\n",
       "      <td>12000.00</td>\n",
       "      <td>60.0000</td>\n",
       "    </tr>\n",
       "    <tr>\n",
       "      <th>3</th>\n",
       "      <td>9172.00</td>\n",
       "      <td>45.8600</td>\n",
       "    </tr>\n",
       "    <tr>\n",
       "      <th>4</th>\n",
       "      <td>8765.00</td>\n",
       "      <td>43.8250</td>\n",
       "    </tr>\n",
       "    <tr>\n",
       "      <th>...</th>\n",
       "      <td>...</td>\n",
       "      <td>...</td>\n",
       "    </tr>\n",
       "    <tr>\n",
       "      <th>9314</th>\n",
       "      <td>8.00</td>\n",
       "      <td>0.0000</td>\n",
       "    </tr>\n",
       "    <tr>\n",
       "      <th>9315</th>\n",
       "      <td>4528.00</td>\n",
       "      <td>0.0000</td>\n",
       "    </tr>\n",
       "    <tr>\n",
       "      <th>9316</th>\n",
       "      <td>29000.00</td>\n",
       "      <td>0.0000</td>\n",
       "    </tr>\n",
       "    <tr>\n",
       "      <th>9317</th>\n",
       "      <td>29000.00</td>\n",
       "      <td>0.0000</td>\n",
       "    </tr>\n",
       "    <tr>\n",
       "      <th>9318</th>\n",
       "      <td>1000.00</td>\n",
       "      <td>0.0000</td>\n",
       "    </tr>\n",
       "  </tbody>\n",
       "</table>\n",
       "<p>9319 rows × 2 columns</p>\n",
       "</div>"
      ],
      "text/plain": [
       "        amount      fee\n",
       "0        10.00   0.0500\n",
       "1     11988.72  59.9436\n",
       "2     12000.00  60.0000\n",
       "3      9172.00  45.8600\n",
       "4      8765.00  43.8250\n",
       "...        ...      ...\n",
       "9314      8.00   0.0000\n",
       "9315   4528.00   0.0000\n",
       "9316  29000.00   0.0000\n",
       "9317  29000.00   0.0000\n",
       "9318   1000.00   0.0000\n",
       "\n",
       "[9319 rows x 2 columns]"
      ]
     },
     "execution_count": 59,
     "metadata": {},
     "output_type": "execute_result"
    }
   ],
   "source": [
    "merchant_payments_data_flipkart[['amount','fee']]\n"
   ]
  },
  {
   "cell_type": "code",
   "execution_count": 195,
   "metadata": {},
   "outputs": [],
   "source": [
    "flipkart_disbursal = merchant_payments_data[merchant_payments_data['user_id'].isin(flipkart.user_id)]"
   ]
  },
  {
   "cell_type": "code",
   "execution_count": 257,
   "metadata": {},
   "outputs": [
    {
     "data": {
      "text/html": [
       "<div>\n",
       "<style scoped>\n",
       "    .dataframe tbody tr th:only-of-type {\n",
       "        vertical-align: middle;\n",
       "    }\n",
       "\n",
       "    .dataframe tbody tr th {\n",
       "        vertical-align: top;\n",
       "    }\n",
       "\n",
       "    .dataframe thead th {\n",
       "        text-align: right;\n",
       "    }\n",
       "</style>\n",
       "<table border=\"1\" class=\"dataframe\">\n",
       "  <thead>\n",
       "    <tr style=\"text-align: right;\">\n",
       "      <th></th>\n",
       "      <th>user_id</th>\n",
       "      <th>billing_cycle</th>\n",
       "      <th>disbursal</th>\n",
       "    </tr>\n",
       "  </thead>\n",
       "  <tbody>\n",
       "    <tr>\n",
       "      <th>0</th>\n",
       "      <td>000ade4b-897e-450a-89f2-2f5e3078737e</td>\n",
       "      <td>202304</td>\n",
       "      <td>4832.0</td>\n",
       "    </tr>\n",
       "    <tr>\n",
       "      <th>1</th>\n",
       "      <td>000ade4b-897e-450a-89f2-2f5e3078737e</td>\n",
       "      <td>202305</td>\n",
       "      <td>4778.0</td>\n",
       "    </tr>\n",
       "    <tr>\n",
       "      <th>2</th>\n",
       "      <td>000ade4b-897e-450a-89f2-2f5e3078737e</td>\n",
       "      <td>202306</td>\n",
       "      <td>4799.0</td>\n",
       "    </tr>\n",
       "    <tr>\n",
       "      <th>3</th>\n",
       "      <td>000ade4b-897e-450a-89f2-2f5e3078737e</td>\n",
       "      <td>202307</td>\n",
       "      <td>4800.0</td>\n",
       "    </tr>\n",
       "    <tr>\n",
       "      <th>4</th>\n",
       "      <td>000ade4b-897e-450a-89f2-2f5e3078737e</td>\n",
       "      <td>202308</td>\n",
       "      <td>1186.0</td>\n",
       "    </tr>\n",
       "    <tr>\n",
       "      <th>...</th>\n",
       "      <td>...</td>\n",
       "      <td>...</td>\n",
       "      <td>...</td>\n",
       "    </tr>\n",
       "    <tr>\n",
       "      <th>93602</th>\n",
       "      <td>fffe2a21-2db8-4402-b21e-4bf824900493</td>\n",
       "      <td>202302</td>\n",
       "      <td>5000.0</td>\n",
       "    </tr>\n",
       "    <tr>\n",
       "      <th>93603</th>\n",
       "      <td>fffe2a21-2db8-4402-b21e-4bf824900493</td>\n",
       "      <td>202303</td>\n",
       "      <td>10001.0</td>\n",
       "    </tr>\n",
       "    <tr>\n",
       "      <th>93604</th>\n",
       "      <td>fffe2a21-2db8-4402-b21e-4bf824900493</td>\n",
       "      <td>202304</td>\n",
       "      <td>10000.0</td>\n",
       "    </tr>\n",
       "    <tr>\n",
       "      <th>93605</th>\n",
       "      <td>fffe2a21-2db8-4402-b21e-4bf824900493</td>\n",
       "      <td>202305</td>\n",
       "      <td>7000.0</td>\n",
       "    </tr>\n",
       "    <tr>\n",
       "      <th>93606</th>\n",
       "      <td>fffefa7e-31b7-4d2c-abaa-50304ed774d5</td>\n",
       "      <td>202202</td>\n",
       "      <td>4000.0</td>\n",
       "    </tr>\n",
       "  </tbody>\n",
       "</table>\n",
       "<p>93607 rows × 3 columns</p>\n",
       "</div>"
      ],
      "text/plain": [
       "                                    user_id billing_cycle  disbursal\n",
       "0      000ade4b-897e-450a-89f2-2f5e3078737e        202304     4832.0\n",
       "1      000ade4b-897e-450a-89f2-2f5e3078737e        202305     4778.0\n",
       "2      000ade4b-897e-450a-89f2-2f5e3078737e        202306     4799.0\n",
       "3      000ade4b-897e-450a-89f2-2f5e3078737e        202307     4800.0\n",
       "4      000ade4b-897e-450a-89f2-2f5e3078737e        202308     1186.0\n",
       "...                                     ...           ...        ...\n",
       "93602  fffe2a21-2db8-4402-b21e-4bf824900493        202302     5000.0\n",
       "93603  fffe2a21-2db8-4402-b21e-4bf824900493        202303    10001.0\n",
       "93604  fffe2a21-2db8-4402-b21e-4bf824900493        202304    10000.0\n",
       "93605  fffe2a21-2db8-4402-b21e-4bf824900493        202305     7000.0\n",
       "93606  fffefa7e-31b7-4d2c-abaa-50304ed774d5        202202     4000.0\n",
       "\n",
       "[93607 rows x 3 columns]"
      ]
     },
     "execution_count": 257,
     "metadata": {},
     "output_type": "execute_result"
    }
   ],
   "source": [
    "merchant_payments_data"
   ]
  },
  {
   "cell_type": "code",
   "execution_count": 187,
   "metadata": {},
   "outputs": [],
   "source": [
    "flipkart_DPD = billing_info[(billing_info['billing_month']=='March')&\n",
    "                   (billing_info['billing_year']=='2024')&\n",
    "                   (billing_info['user_id'].isin(flipkart_disbursal.user_id))][['user_id', 'DPD','principal_outstanding','payment_max']]\n"
   ]
  },
  {
   "cell_type": "code",
   "execution_count": 188,
   "metadata": {},
   "outputs": [
    {
     "name": "stdout",
     "output_type": "stream",
     "text": [
      "1018\n",
      "1018\n",
      "962\n",
      "597\n",
      "589\n",
      "588\n",
      "586\n",
      "584\n",
      "582\n",
      "582\n",
      "576\n"
     ]
    }
   ],
   "source": [
    "fee_paid_data_flipkart = pd.DataFrame({'user_id' : []})\n",
    "billing_cycle_list = ['202403','202402','202401','202312','202311','202310','202309','202308','202307', '202306','202305']\n",
    "for i in range(len(billing_cycle_list)): \n",
    "    users_not_there = flipkart[~(flipkart['user_id'].isin(fee_paid_data_flipkart.user_id))]\n",
    "    print(len(users_not_there))\n",
    "    fee_paid_chunk = statement_h_fun(users_not_there,billing_cycle_list[i])\n",
    "    fee_paid_data_flipkart = fee_paid_data_flipkart.append(fee_paid_chunk)"
   ]
  },
  {
   "cell_type": "code",
   "execution_count": 193,
   "metadata": {},
   "outputs": [],
   "source": [
    "flipkart_disbursal.to_csv('flipkart_disbursal_month_om_month.csv')"
   ]
  },
  {
   "cell_type": "code",
   "execution_count": 189,
   "metadata": {},
   "outputs": [],
   "source": [
    "tol_disbursed_amt = flipkart_disbursal.groupby('user_id')['disbursal'].sum().rename('total_disbursed').reset_index()\n",
    "final = tol_disbursed_amt.merge(flipkart_DPD, on = 'user_id', how= 'left')\n",
    "final = final.merge(fee_paid_data_flipkart, on = 'user_id', how= 'left')\n"
   ]
  },
  {
   "cell_type": "code",
   "execution_count": 190,
   "metadata": {},
   "outputs": [],
   "source": [
    "user_level_data_flipkart = final.groupby('user_id').agg(total_monthly_fee_paid = ('monthly_fee_paid', 'sum'),\n",
    "                             total_late_fee_paid = ('late_fee_paid', 'sum'),\n",
    "                             total_disbursal = ('total_disbursed', 'first'),\n",
    "                             principal_outstanding = ('principal_outstanding', 'first'),\n",
    "                             DPD = ('DPD', 'first'))"
   ]
  },
  {
   "cell_type": "code",
   "execution_count": 191,
   "metadata": {},
   "outputs": [],
   "source": [
    "user_level_data_flipkart.to_csv('user_level_data_flipkart_portfolio_cut.csv')"
   ]
  },
  {
   "cell_type": "code",
   "execution_count": null,
   "metadata": {},
   "outputs": [],
   "source": []
  }
 ],
 "metadata": {
  "kernelspec": {
   "display_name": "Python 3",
   "language": "python",
   "name": "python3"
  },
  "language_info": {
   "codemirror_mode": {
    "name": "ipython",
    "version": 3
   },
   "file_extension": ".py",
   "mimetype": "text/x-python",
   "name": "python",
   "nbconvert_exporter": "python",
   "pygments_lexer": "ipython3",
   "version": "3.13.0"
  }
 },
 "nbformat": 4,
 "nbformat_minor": 2
}
