{
 "cells": [
  {
   "cell_type": "code",
   "execution_count": 1,
   "metadata": {},
   "outputs": [],
   "source": [
    "import sqlalchemy\n",
    "import pandas as pd"
   ]
  },
  {
   "cell_type": "code",
   "execution_count": null,
   "metadata": {},
   "outputs": [],
   "source": [
    "# 1. get user_id, user_created_at,  json_outuput, decision_at, partner for rejected\n",
    "# 2. get all json output together into list with user_id and reject reasons, \n",
    "# 3. concat reject reason in one row itself."
   ]
  },
  {
   "cell_type": "code",
   "execution_count": 3,
   "metadata": {},
   "outputs": [],
   "source": [
    "users = \"\"\"\n",
    "    select user_id from user_registeration_coupon_code_details where coupon_code in \n",
    "    ('ESSMART','roinet','gramophone','yodacart','buyume')\n",
    "\"\"\"\n",
    "f1, b2b_users, error_message = data_fetch_v2(users, host = \"13.126.97.63\")\n"
   ]
  },
  {
   "cell_type": "code",
   "execution_count": 7,
   "metadata": {},
   "outputs": [
    {
     "data": {
      "text/plain": [
       "\"\\n    select user_id from user_registeration_coupon_code_details where coupon_code in \\n    ('ESSMART','roinet','gramophone','yodacart','buyume')\\n\""
      ]
     },
     "execution_count": 7,
     "metadata": {},
     "output_type": "execute_result"
    }
   ],
   "source": [
    "users"
   ]
  },
  {
   "cell_type": "code",
   "execution_count": 4,
   "metadata": {},
   "outputs": [
    {
     "name": "stdout",
     "output_type": "stream",
     "text": [
      "(pymysql.err.ProgrammingError) (1064, \"You have an error in your SQL syntax; check the manual that corresponds to your MySQL server version for the right syntax to use near '{tuple(b2b_users['user_id'])}' at line 4\")\n",
      "[SQL: \n",
      "    select user_id, json_extract(output_json, '$.rejection_reason') as reject_rsn from de_looger \n",
      "   where purpose = 'bureaucheck' \n",
      "    and json_extract(output_json, '$.decision.approved') = 0 \n",
      "    and user_id in {tuple(b2b_users['user_id'])}\n",
      "]\n",
      "(Background on this error at: https://sqlalche.me/e/20/f405)\n"
     ]
    }
   ],
   "source": [
    "reject_json = \"\"\"\n",
    "    select user_id, json_extract(output_json, '$.rejection_reason') as reject_rsn from de_looger \n",
    "   where purpose = 'bureaucheck' \n",
    "    and json_extract(output_json, '$.decision.approved') = 0 \n",
    "    and user_id in {tuple(b2b_users['user_id'])}\n",
    "\"\"\"\n",
    "f1, b2b_reject_reason, error_message = data_fetch_v2(reject_json, host = \"13.126.97.63\")\n"
   ]
  },
  {
   "cell_type": "code",
   "execution_count": 38,
   "metadata": {},
   "outputs": [],
   "source": [
    "user_ids = tuple(b2b_users['user_id'])  # Convert user IDs to tuple\n",
    "\n",
    "# Ensure the user IDs are not empty\n",
    "if not user_ids:\n",
    "    user_ids = (None,)  # Fallback for empty tuples to avoid syntax errors\n",
    "\n",
    "# Format the query\n",
    "reject_json = f\"\"\"\n",
    "    SELECT user_id, \n",
    "           json_extract(output_json, '$.rejection_reason') AS reject_rsn \n",
    "    FROM de_looger \n",
    "    WHERE purpose = 'bureaucheck' \n",
    "      AND json_extract(output_json, '$.decision.approved') = 0 \n",
    "      AND user_id IN {user_ids}\n",
    "\"\"\"\n",
    "\n",
    "# Call data_fetch_v2\n",
    "f1, b2b_reject_reason, error_message = data_fetch_v2(reject_json, host=\"13.126.97.63\")\n"
   ]
  },
  {
   "cell_type": "code",
   "execution_count": 6,
   "metadata": {},
   "outputs": [
    {
     "data": {
      "text/html": [
       "<div>\n",
       "<style scoped>\n",
       "    .dataframe tbody tr th:only-of-type {\n",
       "        vertical-align: middle;\n",
       "    }\n",
       "\n",
       "    .dataframe tbody tr th {\n",
       "        vertical-align: top;\n",
       "    }\n",
       "\n",
       "    .dataframe thead th {\n",
       "        text-align: right;\n",
       "    }\n",
       "</style>\n",
       "<table border=\"1\" class=\"dataframe\">\n",
       "  <thead>\n",
       "    <tr style=\"text-align: right;\">\n",
       "      <th></th>\n",
       "    </tr>\n",
       "  </thead>\n",
       "  <tbody>\n",
       "  </tbody>\n",
       "</table>\n",
       "</div>"
      ],
      "text/plain": [
       "Empty DataFrame\n",
       "Columns: []\n",
       "Index: []"
      ]
     },
     "execution_count": 6,
     "metadata": {},
     "output_type": "execute_result"
    }
   ],
   "source": [
    "b2b_reject_reason"
   ]
  },
  {
   "cell_type": "code",
   "execution_count": 41,
   "metadata": {},
   "outputs": [],
   "source": [
    "b2b_reject_reason_data = b2b_reject_reason.to_dict(orient=\"records\")"
   ]
  },
  {
   "cell_type": "code",
   "execution_count": 8,
   "metadata": {},
   "outputs": [
    {
     "ename": "NameError",
     "evalue": "name 'b2b_reject_reason_data' is not defined",
     "output_type": "error",
     "traceback": [
      "\u001b[1;31m---------------------------------------------------------------------------\u001b[0m",
      "\u001b[1;31mNameError\u001b[0m                                 Traceback (most recent call last)",
      "Cell \u001b[1;32mIn[8], line 1\u001b[0m\n\u001b[1;32m----> 1\u001b[0m \u001b[43mb2b_reject_reason_data\u001b[49m\n",
      "\u001b[1;31mNameError\u001b[0m: name 'b2b_reject_reason_data' is not defined"
     ]
    }
   ],
   "source": [
    "b2b_reject_reason_data"
   ]
  },
  {
   "cell_type": "code",
   "execution_count": null,
   "metadata": {},
   "outputs": [],
   "source": [
    "#put it in KVP form,remvoing text user_id and reject_rsn\n",
    "data = {items[\"user_id\"]: items[\"reject_rsn\"] for items in b2b_reject_reason_data}\n",
    "data"
   ]
  },
  {
   "cell_type": "code",
   "execution_count": 49,
   "metadata": {},
   "outputs": [],
   "source": [
    "import json"
   ]
  },
  {
   "cell_type": "code",
   "execution_count": 59,
   "metadata": {},
   "outputs": [
    {
     "name": "stdout",
     "output_type": "stream",
     "text": [
      "[{'user_id': '206cf27c-aaf4-4a37-a7d1-c9f30106850c', 'reason': 'user_and_lead_phone_mismatch'}, {'user_id': 'e25df091-4299-45f5-8d99-54de4ff3b337', 'reason': 'user_and_lead_phone_mismatch'}, {'user_id': '3244d992-8691-4fb1-88a8-2a2d9fced9f5', 'reason': '0 < age < 20 or age > 55'}, {'user_id': '3244d992-8691-4fb1-88a8-2a2d9fced9f5', 'reason': 'user_and_lead_phone_mismatch'}, {'user_id': '7447d9a7-075a-40de-9448-4dc1b13f1aa2', 'reason': '0 < age < 20 or age > 55'}, {'user_id': '7447d9a7-075a-40de-9448-4dc1b13f1aa2', 'reason': 'user_and_lead_phone_mismatch'}, {'user_id': 'c1c48e87-1f6b-479e-a5a3-81afc1d56e7e', 'reason': '0 < age < 20 or age > 55'}, {'user_id': '354094cf-6f75-4de5-b975-fd9cb73a15c6', 'reason': 'approved_lead_does_not_exists'}, {'user_id': '354094cf-6f75-4de5-b975-fd9cb73a15c6', 'reason': 'pre_qualified_and_lead_pan_mismatch'}, {'user_id': '354094cf-6f75-4de5-b975-fd9cb73a15c6', 'reason': 'user_and_lead_phone_mismatch'}, {'user_id': '8eb8d3e8-49f3-4a72-864c-5599cb291654', 'reason': 'approved_lead_does_not_exists'}, {'user_id': '8eb8d3e8-49f3-4a72-864c-5599cb291654', 'reason': 'pre_qualified_and_lead_pan_mismatch'}, {'user_id': '8eb8d3e8-49f3-4a72-864c-5599cb291654', 'reason': 'user_and_lead_phone_mismatch'}, {'user_id': '156dd3dc-7d7b-4fa0-9b5c-fbf2ad40d1af', 'reason': 'approved_lead_does_not_exists'}, {'user_id': '156dd3dc-7d7b-4fa0-9b5c-fbf2ad40d1af', 'reason': 'pre_qualified_and_lead_pan_mismatch'}, {'user_id': '156dd3dc-7d7b-4fa0-9b5c-fbf2ad40d1af', 'reason': 'user_and_lead_phone_mismatch'}, {'user_id': 'f86aadf6-520b-4e03-99eb-fea2979a12e5', 'reason': 'approved_lead_does_not_exists'}, {'user_id': 'f86aadf6-520b-4e03-99eb-fea2979a12e5', 'reason': 'pre_qualified_and_lead_pan_mismatch'}, {'user_id': 'f86aadf6-520b-4e03-99eb-fea2979a12e5', 'reason': 'user_and_lead_phone_mismatch'}, {'user_id': 'a7daceeb-1bdd-4c0c-82f4-b492df6bc50a', 'reason': 'approved_lead_does_not_exists'}, {'user_id': 'a7daceeb-1bdd-4c0c-82f4-b492df6bc50a', 'reason': 'pre_qualified_and_lead_pan_mismatch'}, {'user_id': 'a7daceeb-1bdd-4c0c-82f4-b492df6bc50a', 'reason': 'user_and_lead_phone_mismatch'}, {'user_id': '0a7bf86f-826e-477b-9c25-44a48408dc08', 'reason': 'approved_lead_does_not_exists'}, {'user_id': '0a7bf86f-826e-477b-9c25-44a48408dc08', 'reason': 'pre_qualified_and_lead_pan_mismatch'}, {'user_id': '0a7bf86f-826e-477b-9c25-44a48408dc08', 'reason': 'user_and_lead_phone_mismatch'}, {'user_id': 'cdbcec43-369d-47b0-8f62-5acaa015a19d', 'reason': 'approved_lead_does_not_exists'}, {'user_id': 'cdbcec43-369d-47b0-8f62-5acaa015a19d', 'reason': 'pre_qualified_and_lead_pan_mismatch'}, {'user_id': 'cdbcec43-369d-47b0-8f62-5acaa015a19d', 'reason': 'user_and_lead_phone_mismatch'}, {'user_id': '4a6f1224-1272-4748-a365-624d9552b568', 'reason': 'approved_lead_does_not_exists'}, {'user_id': '4a6f1224-1272-4748-a365-624d9552b568', 'reason': 'pre_qualified_and_lead_pan_mismatch'}, {'user_id': '4a6f1224-1272-4748-a365-624d9552b568', 'reason': 'user_and_lead_phone_mismatch'}, {'user_id': '1cfe555c-cf70-435b-aa7d-dda2a7e63b56', 'reason': 'approved_lead_does_not_exists'}, {'user_id': '1cfe555c-cf70-435b-aa7d-dda2a7e63b56', 'reason': 'pre_qualified_and_lead_pan_mismatch'}, {'user_id': '1cfe555c-cf70-435b-aa7d-dda2a7e63b56', 'reason': 'user_and_lead_phone_mismatch'}]\n"
     ]
    }
   ],
   "source": [
    "# for k, v in data.items():\n",
    "#     reject_messages = json.loads(v)\n",
    "#     for v in reject_messages:\n",
    "#         print(v['message'])\n",
    "\n",
    "\n",
    "rows =[]\n",
    "for k, v in data.items():\n",
    "    reject_messages = json.loads(v)\n",
    "    for val in reject_messages:\n",
    "        rows.append({'user_id':k,\"reason\":val['message']})\n",
    "     \n",
    "print(rows) "
   ]
  },
  {
   "cell_type": "code",
   "execution_count": 60,
   "metadata": {},
   "outputs": [
    {
     "data": {
      "text/html": [
       "<div>\n",
       "<style scoped>\n",
       "    .dataframe tbody tr th:only-of-type {\n",
       "        vertical-align: middle;\n",
       "    }\n",
       "\n",
       "    .dataframe tbody tr th {\n",
       "        vertical-align: top;\n",
       "    }\n",
       "\n",
       "    .dataframe thead th {\n",
       "        text-align: right;\n",
       "    }\n",
       "</style>\n",
       "<table border=\"1\" class=\"dataframe\">\n",
       "  <thead>\n",
       "    <tr style=\"text-align: right;\">\n",
       "      <th></th>\n",
       "      <th>user_id</th>\n",
       "      <th>reason</th>\n",
       "    </tr>\n",
       "  </thead>\n",
       "  <tbody>\n",
       "    <tr>\n",
       "      <th>0</th>\n",
       "      <td>206cf27c-aaf4-4a37-a7d1-c9f30106850c</td>\n",
       "      <td>user_and_lead_phone_mismatch</td>\n",
       "    </tr>\n",
       "    <tr>\n",
       "      <th>1</th>\n",
       "      <td>e25df091-4299-45f5-8d99-54de4ff3b337</td>\n",
       "      <td>user_and_lead_phone_mismatch</td>\n",
       "    </tr>\n",
       "    <tr>\n",
       "      <th>2</th>\n",
       "      <td>3244d992-8691-4fb1-88a8-2a2d9fced9f5</td>\n",
       "      <td>0 &lt; age &lt; 20 or age &gt; 55</td>\n",
       "    </tr>\n",
       "    <tr>\n",
       "      <th>3</th>\n",
       "      <td>3244d992-8691-4fb1-88a8-2a2d9fced9f5</td>\n",
       "      <td>user_and_lead_phone_mismatch</td>\n",
       "    </tr>\n",
       "    <tr>\n",
       "      <th>4</th>\n",
       "      <td>7447d9a7-075a-40de-9448-4dc1b13f1aa2</td>\n",
       "      <td>0 &lt; age &lt; 20 or age &gt; 55</td>\n",
       "    </tr>\n",
       "    <tr>\n",
       "      <th>5</th>\n",
       "      <td>7447d9a7-075a-40de-9448-4dc1b13f1aa2</td>\n",
       "      <td>user_and_lead_phone_mismatch</td>\n",
       "    </tr>\n",
       "    <tr>\n",
       "      <th>6</th>\n",
       "      <td>c1c48e87-1f6b-479e-a5a3-81afc1d56e7e</td>\n",
       "      <td>0 &lt; age &lt; 20 or age &gt; 55</td>\n",
       "    </tr>\n",
       "    <tr>\n",
       "      <th>7</th>\n",
       "      <td>354094cf-6f75-4de5-b975-fd9cb73a15c6</td>\n",
       "      <td>approved_lead_does_not_exists</td>\n",
       "    </tr>\n",
       "    <tr>\n",
       "      <th>8</th>\n",
       "      <td>354094cf-6f75-4de5-b975-fd9cb73a15c6</td>\n",
       "      <td>pre_qualified_and_lead_pan_mismatch</td>\n",
       "    </tr>\n",
       "    <tr>\n",
       "      <th>9</th>\n",
       "      <td>354094cf-6f75-4de5-b975-fd9cb73a15c6</td>\n",
       "      <td>user_and_lead_phone_mismatch</td>\n",
       "    </tr>\n",
       "    <tr>\n",
       "      <th>10</th>\n",
       "      <td>8eb8d3e8-49f3-4a72-864c-5599cb291654</td>\n",
       "      <td>approved_lead_does_not_exists</td>\n",
       "    </tr>\n",
       "    <tr>\n",
       "      <th>11</th>\n",
       "      <td>8eb8d3e8-49f3-4a72-864c-5599cb291654</td>\n",
       "      <td>pre_qualified_and_lead_pan_mismatch</td>\n",
       "    </tr>\n",
       "    <tr>\n",
       "      <th>12</th>\n",
       "      <td>8eb8d3e8-49f3-4a72-864c-5599cb291654</td>\n",
       "      <td>user_and_lead_phone_mismatch</td>\n",
       "    </tr>\n",
       "    <tr>\n",
       "      <th>13</th>\n",
       "      <td>156dd3dc-7d7b-4fa0-9b5c-fbf2ad40d1af</td>\n",
       "      <td>approved_lead_does_not_exists</td>\n",
       "    </tr>\n",
       "    <tr>\n",
       "      <th>14</th>\n",
       "      <td>156dd3dc-7d7b-4fa0-9b5c-fbf2ad40d1af</td>\n",
       "      <td>pre_qualified_and_lead_pan_mismatch</td>\n",
       "    </tr>\n",
       "    <tr>\n",
       "      <th>15</th>\n",
       "      <td>156dd3dc-7d7b-4fa0-9b5c-fbf2ad40d1af</td>\n",
       "      <td>user_and_lead_phone_mismatch</td>\n",
       "    </tr>\n",
       "    <tr>\n",
       "      <th>16</th>\n",
       "      <td>f86aadf6-520b-4e03-99eb-fea2979a12e5</td>\n",
       "      <td>approved_lead_does_not_exists</td>\n",
       "    </tr>\n",
       "    <tr>\n",
       "      <th>17</th>\n",
       "      <td>f86aadf6-520b-4e03-99eb-fea2979a12e5</td>\n",
       "      <td>pre_qualified_and_lead_pan_mismatch</td>\n",
       "    </tr>\n",
       "    <tr>\n",
       "      <th>18</th>\n",
       "      <td>f86aadf6-520b-4e03-99eb-fea2979a12e5</td>\n",
       "      <td>user_and_lead_phone_mismatch</td>\n",
       "    </tr>\n",
       "    <tr>\n",
       "      <th>19</th>\n",
       "      <td>a7daceeb-1bdd-4c0c-82f4-b492df6bc50a</td>\n",
       "      <td>approved_lead_does_not_exists</td>\n",
       "    </tr>\n",
       "    <tr>\n",
       "      <th>20</th>\n",
       "      <td>a7daceeb-1bdd-4c0c-82f4-b492df6bc50a</td>\n",
       "      <td>pre_qualified_and_lead_pan_mismatch</td>\n",
       "    </tr>\n",
       "    <tr>\n",
       "      <th>21</th>\n",
       "      <td>a7daceeb-1bdd-4c0c-82f4-b492df6bc50a</td>\n",
       "      <td>user_and_lead_phone_mismatch</td>\n",
       "    </tr>\n",
       "    <tr>\n",
       "      <th>22</th>\n",
       "      <td>0a7bf86f-826e-477b-9c25-44a48408dc08</td>\n",
       "      <td>approved_lead_does_not_exists</td>\n",
       "    </tr>\n",
       "    <tr>\n",
       "      <th>23</th>\n",
       "      <td>0a7bf86f-826e-477b-9c25-44a48408dc08</td>\n",
       "      <td>pre_qualified_and_lead_pan_mismatch</td>\n",
       "    </tr>\n",
       "    <tr>\n",
       "      <th>24</th>\n",
       "      <td>0a7bf86f-826e-477b-9c25-44a48408dc08</td>\n",
       "      <td>user_and_lead_phone_mismatch</td>\n",
       "    </tr>\n",
       "    <tr>\n",
       "      <th>25</th>\n",
       "      <td>cdbcec43-369d-47b0-8f62-5acaa015a19d</td>\n",
       "      <td>approved_lead_does_not_exists</td>\n",
       "    </tr>\n",
       "    <tr>\n",
       "      <th>26</th>\n",
       "      <td>cdbcec43-369d-47b0-8f62-5acaa015a19d</td>\n",
       "      <td>pre_qualified_and_lead_pan_mismatch</td>\n",
       "    </tr>\n",
       "    <tr>\n",
       "      <th>27</th>\n",
       "      <td>cdbcec43-369d-47b0-8f62-5acaa015a19d</td>\n",
       "      <td>user_and_lead_phone_mismatch</td>\n",
       "    </tr>\n",
       "    <tr>\n",
       "      <th>28</th>\n",
       "      <td>4a6f1224-1272-4748-a365-624d9552b568</td>\n",
       "      <td>approved_lead_does_not_exists</td>\n",
       "    </tr>\n",
       "    <tr>\n",
       "      <th>29</th>\n",
       "      <td>4a6f1224-1272-4748-a365-624d9552b568</td>\n",
       "      <td>pre_qualified_and_lead_pan_mismatch</td>\n",
       "    </tr>\n",
       "    <tr>\n",
       "      <th>30</th>\n",
       "      <td>4a6f1224-1272-4748-a365-624d9552b568</td>\n",
       "      <td>user_and_lead_phone_mismatch</td>\n",
       "    </tr>\n",
       "    <tr>\n",
       "      <th>31</th>\n",
       "      <td>1cfe555c-cf70-435b-aa7d-dda2a7e63b56</td>\n",
       "      <td>approved_lead_does_not_exists</td>\n",
       "    </tr>\n",
       "    <tr>\n",
       "      <th>32</th>\n",
       "      <td>1cfe555c-cf70-435b-aa7d-dda2a7e63b56</td>\n",
       "      <td>pre_qualified_and_lead_pan_mismatch</td>\n",
       "    </tr>\n",
       "    <tr>\n",
       "      <th>33</th>\n",
       "      <td>1cfe555c-cf70-435b-aa7d-dda2a7e63b56</td>\n",
       "      <td>user_and_lead_phone_mismatch</td>\n",
       "    </tr>\n",
       "  </tbody>\n",
       "</table>\n",
       "</div>"
      ],
      "text/plain": [
       "                                 user_id                               reason\n",
       "0   206cf27c-aaf4-4a37-a7d1-c9f30106850c         user_and_lead_phone_mismatch\n",
       "1   e25df091-4299-45f5-8d99-54de4ff3b337         user_and_lead_phone_mismatch\n",
       "2   3244d992-8691-4fb1-88a8-2a2d9fced9f5             0 < age < 20 or age > 55\n",
       "3   3244d992-8691-4fb1-88a8-2a2d9fced9f5         user_and_lead_phone_mismatch\n",
       "4   7447d9a7-075a-40de-9448-4dc1b13f1aa2             0 < age < 20 or age > 55\n",
       "5   7447d9a7-075a-40de-9448-4dc1b13f1aa2         user_and_lead_phone_mismatch\n",
       "6   c1c48e87-1f6b-479e-a5a3-81afc1d56e7e             0 < age < 20 or age > 55\n",
       "7   354094cf-6f75-4de5-b975-fd9cb73a15c6        approved_lead_does_not_exists\n",
       "8   354094cf-6f75-4de5-b975-fd9cb73a15c6  pre_qualified_and_lead_pan_mismatch\n",
       "9   354094cf-6f75-4de5-b975-fd9cb73a15c6         user_and_lead_phone_mismatch\n",
       "10  8eb8d3e8-49f3-4a72-864c-5599cb291654        approved_lead_does_not_exists\n",
       "11  8eb8d3e8-49f3-4a72-864c-5599cb291654  pre_qualified_and_lead_pan_mismatch\n",
       "12  8eb8d3e8-49f3-4a72-864c-5599cb291654         user_and_lead_phone_mismatch\n",
       "13  156dd3dc-7d7b-4fa0-9b5c-fbf2ad40d1af        approved_lead_does_not_exists\n",
       "14  156dd3dc-7d7b-4fa0-9b5c-fbf2ad40d1af  pre_qualified_and_lead_pan_mismatch\n",
       "15  156dd3dc-7d7b-4fa0-9b5c-fbf2ad40d1af         user_and_lead_phone_mismatch\n",
       "16  f86aadf6-520b-4e03-99eb-fea2979a12e5        approved_lead_does_not_exists\n",
       "17  f86aadf6-520b-4e03-99eb-fea2979a12e5  pre_qualified_and_lead_pan_mismatch\n",
       "18  f86aadf6-520b-4e03-99eb-fea2979a12e5         user_and_lead_phone_mismatch\n",
       "19  a7daceeb-1bdd-4c0c-82f4-b492df6bc50a        approved_lead_does_not_exists\n",
       "20  a7daceeb-1bdd-4c0c-82f4-b492df6bc50a  pre_qualified_and_lead_pan_mismatch\n",
       "21  a7daceeb-1bdd-4c0c-82f4-b492df6bc50a         user_and_lead_phone_mismatch\n",
       "22  0a7bf86f-826e-477b-9c25-44a48408dc08        approved_lead_does_not_exists\n",
       "23  0a7bf86f-826e-477b-9c25-44a48408dc08  pre_qualified_and_lead_pan_mismatch\n",
       "24  0a7bf86f-826e-477b-9c25-44a48408dc08         user_and_lead_phone_mismatch\n",
       "25  cdbcec43-369d-47b0-8f62-5acaa015a19d        approved_lead_does_not_exists\n",
       "26  cdbcec43-369d-47b0-8f62-5acaa015a19d  pre_qualified_and_lead_pan_mismatch\n",
       "27  cdbcec43-369d-47b0-8f62-5acaa015a19d         user_and_lead_phone_mismatch\n",
       "28  4a6f1224-1272-4748-a365-624d9552b568        approved_lead_does_not_exists\n",
       "29  4a6f1224-1272-4748-a365-624d9552b568  pre_qualified_and_lead_pan_mismatch\n",
       "30  4a6f1224-1272-4748-a365-624d9552b568         user_and_lead_phone_mismatch\n",
       "31  1cfe555c-cf70-435b-aa7d-dda2a7e63b56        approved_lead_does_not_exists\n",
       "32  1cfe555c-cf70-435b-aa7d-dda2a7e63b56  pre_qualified_and_lead_pan_mismatch\n",
       "33  1cfe555c-cf70-435b-aa7d-dda2a7e63b56         user_and_lead_phone_mismatch"
      ]
     },
     "execution_count": 60,
     "metadata": {},
     "output_type": "execute_result"
    }
   ],
   "source": [
    "df = pd.DataFrame(rows)\n",
    "df"
   ]
  },
  {
   "cell_type": "code",
   "execution_count": 61,
   "metadata": {},
   "outputs": [
    {
     "data": {
      "text/html": [
       "<div>\n",
       "<style scoped>\n",
       "    .dataframe tbody tr th:only-of-type {\n",
       "        vertical-align: middle;\n",
       "    }\n",
       "\n",
       "    .dataframe tbody tr th {\n",
       "        vertical-align: top;\n",
       "    }\n",
       "\n",
       "    .dataframe thead th {\n",
       "        text-align: right;\n",
       "    }\n",
       "</style>\n",
       "<table border=\"1\" class=\"dataframe\">\n",
       "  <thead>\n",
       "    <tr style=\"text-align: right;\">\n",
       "      <th></th>\n",
       "      <th>user_id</th>\n",
       "    </tr>\n",
       "    <tr>\n",
       "      <th>reason</th>\n",
       "      <th></th>\n",
       "    </tr>\n",
       "  </thead>\n",
       "  <tbody>\n",
       "    <tr>\n",
       "      <th>0 &lt; age &lt; 20 or age &gt; 55</th>\n",
       "      <td>3</td>\n",
       "    </tr>\n",
       "    <tr>\n",
       "      <th>approved_lead_does_not_exists</th>\n",
       "      <td>9</td>\n",
       "    </tr>\n",
       "    <tr>\n",
       "      <th>pre_qualified_and_lead_pan_mismatch</th>\n",
       "      <td>9</td>\n",
       "    </tr>\n",
       "    <tr>\n",
       "      <th>user_and_lead_phone_mismatch</th>\n",
       "      <td>13</td>\n",
       "    </tr>\n",
       "  </tbody>\n",
       "</table>\n",
       "</div>"
      ],
      "text/plain": [
       "                                     user_id\n",
       "reason                                      \n",
       "0 < age < 20 or age > 55                   3\n",
       "approved_lead_does_not_exists              9\n",
       "pre_qualified_and_lead_pan_mismatch        9\n",
       "user_and_lead_phone_mismatch              13"
      ]
     },
     "execution_count": 61,
     "metadata": {},
     "output_type": "execute_result"
    }
   ],
   "source": [
    "df.groupby('reason').count()"
   ]
  },
  {
   "cell_type": "code",
   "execution_count": null,
   "metadata": {},
   "outputs": [],
   "source": [
    "#steps.\n",
    "1. import sqlalchemy, pandas, json\n",
    "2. create a df from mysql, to filter out b2b users\n",
    "3. futher get json reject and rejected user id from step 2 users\n",
    "4. \n",
    "df = user_id, reject\n",
    "convert the whole df to dict, orient ias records. \n",
    "5. "
   ]
  },
  {
   "cell_type": "code",
   "execution_count": null,
   "metadata": {},
   "outputs": [],
   "source": []
  }
 ],
 "metadata": {
  "kernelspec": {
   "display_name": "Python 3",
   "language": "python",
   "name": "python3"
  },
  "language_info": {
   "codemirror_mode": {
    "name": "ipython",
    "version": 3
   },
   "file_extension": ".py",
   "mimetype": "text/x-python",
   "name": "python",
   "nbconvert_exporter": "python",
   "pygments_lexer": "ipython3",
   "version": "3.13.0"
  }
 },
 "nbformat": 4,
 "nbformat_minor": 2
}
